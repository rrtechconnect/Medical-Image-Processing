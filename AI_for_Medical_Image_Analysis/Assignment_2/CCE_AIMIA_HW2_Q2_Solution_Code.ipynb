{
  "nbformat": 4,
  "nbformat_minor": 0,
  "metadata": {
    "colab": {
      "provenance": []
    },
    "kernelspec": {
      "name": "python3",
      "display_name": "Python 3"
    },
    "language_info": {
      "name": "python"
    }
  },
  "cells": [
    {
      "cell_type": "code",
      "execution_count": 1,
      "metadata": {
        "colab": {
          "base_uri": "https://localhost:8080/"
        },
        "id": "CMGWN6INqgQI",
        "outputId": "d9ce7a2f-3587-4161-8161-b31b2a39ea7e"
      },
      "outputs": [
        {
          "output_type": "stream",
          "name": "stdout",
          "text": [
            "Mounted at /content/drive\n"
          ]
        }
      ],
      "source": [
        "from google.colab import drive\n",
        "drive.mount('/content/drive')\n",
        "import numpy as np\n",
        "import scipy.io\n",
        "import pandas as pd\n",
        "from skimage import color\n",
        "from skimage import io\n",
        "import math\n",
        "import matplotlib.pyplot as plt\n",
        "from sklearn.model_selection import train_test_split\n",
        "from sklearn.metrics import accuracy_score, confusion_matrix\n",
        "from sklearn.decomposition import PCA"
      ]
    },
    {
      "cell_type": "code",
      "source": [
        "ctScans = scipy.io.loadmat('/content/drive/My Drive/CCE-AIMIA/ctscan_hw1.mat')\n",
        "ctMasks = scipy.io.loadmat('/content/drive/My Drive/CCE-AIMIA/infmsk_hw1.mat')\n",
        "ctScansembed = scipy.io.loadmat('/content/drive/My Drive/CCE-AIMIA/ctscan_embeddings_hw2.mat')"
      ],
      "metadata": {
        "id": "-7jB33HSq4QO"
      },
      "execution_count": 2,
      "outputs": []
    },
    {
      "cell_type": "code",
      "source": [
        "print(ctScansembed['feat'].shape)\n",
        "X = ctScansembed['feat']"
      ],
      "metadata": {
        "colab": {
          "base_uri": "https://localhost:8080/"
        },
        "id": "irxGURWdrGv4",
        "outputId": "737c9c0b-94ce-451b-b84b-f3dd1ad7f532"
      },
      "execution_count": 3,
      "outputs": [
        {
          "output_type": "stream",
          "name": "stdout",
          "text": [
            "(3554, 1024)\n"
          ]
        }
      ]
    },
    {
      "cell_type": "code",
      "source": [
        "(ms,ns,cs)= (ctScans['ctscan']).shape\n",
        "(mm,nm,cm)= (ctMasks['infmsk']).shape\n",
        "print((ms,ns,cs))\n",
        "print((mm,nm,cm))"
      ],
      "metadata": {
        "colab": {
          "base_uri": "https://localhost:8080/"
        },
        "id": "bZ4eqVuirPNY",
        "outputId": "50ed285f-8c16-4c3a-a439-ed8e319b59c1"
      },
      "execution_count": 4,
      "outputs": [
        {
          "output_type": "stream",
          "name": "stdout",
          "text": [
            "(512, 512, 3554)\n",
            "(512, 512, 3554)\n"
          ]
        }
      ]
    },
    {
      "cell_type": "code",
      "source": [
        "ctscansarray = []\n",
        "ctmasksarray = []\n",
        "for i in range(cm):\n",
        "    ctscansarray.append((ctScans['ctscan'][:,:,i]))\n",
        "    ctmasksarray.append((ctMasks['infmsk'][:,:,i]))"
      ],
      "metadata": {
        "id": "awUuoH62sHp_"
      },
      "execution_count": 5,
      "outputs": []
    },
    {
      "cell_type": "code",
      "source": [
        "ctmasksHealthy = []\n",
        "ctmasksInfected = []\n",
        "Percentage_infection = []\n",
        "for i in range(len(ctmasksarray)):\n",
        "  ctmasksHealthy.append(np.sum((ctmasksarray[i])==2))\n",
        "  ctmasksInfected.append(np.sum((ctmasksarray[i])==1))\n",
        "  Percentage_infection.append((ctmasksInfected[i]/(ctmasksHealthy[i]+ctmasksInfected[i])) *100)"
      ],
      "metadata": {
        "id": "nojzuTRUr9Vn"
      },
      "execution_count": 6,
      "outputs": []
    },
    {
      "cell_type": "code",
      "source": [
        "CtembedLabels = []\n",
        "SevereInfCT = []\n",
        "MildInfCT = []\n",
        "NormalCT = []\n",
        "for i in range(len(Percentage_infection)):\n",
        "  if(Percentage_infection[i] >= 40):\n",
        "    CtembedLabels.append(0)\n",
        "  elif((Percentage_infection[i] > 0 ) and (Percentage_infection[i] < 40 )):\n",
        "    CtembedLabels.append(1)\n",
        "  else:\n",
        "    CtembedLabels.append(2)"
      ],
      "metadata": {
        "id": "7GCWwQ5csPJ3"
      },
      "execution_count": 7,
      "outputs": []
    },
    {
      "cell_type": "code",
      "source": [
        "CtembedLabels = np.array(CtembedLabels)\n",
        "print(CtembedLabels.shape)"
      ],
      "metadata": {
        "colab": {
          "base_uri": "https://localhost:8080/"
        },
        "id": "Mpa68B9JufHI",
        "outputId": "8a185195-3de6-4a58-d3a2-f077090bd789"
      },
      "execution_count": 8,
      "outputs": [
        {
          "output_type": "stream",
          "name": "stdout",
          "text": [
            "(3554,)\n"
          ]
        }
      ]
    },
    {
      "cell_type": "code",
      "source": [
        "n_components=1024\n",
        "pca = PCA(n_components)\n",
        "X_reduced = pca.fit_transform(X)"
      ],
      "metadata": {
        "id": "LcUim8MStGCl"
      },
      "execution_count": 9,
      "outputs": []
    },
    {
      "cell_type": "code",
      "source": [
        "X = pd.DataFrame(X_reduced)\n",
        "y = pd.Series(CtembedLabels)\n",
        "# Experimented with two kinds of Dataset splits\n",
        "X_train, X_test, y_train, y_test = train_test_split(X,\n",
        "                                                    y,\n",
        "                                                    test_size=.2,\n",
        "                                                    random_state=123)\n",
        "\n",
        "# look at the distrubution of labels in the train set\n",
        "pd.Series(y_train).value_counts()"
      ],
      "metadata": {
        "colab": {
          "base_uri": "https://localhost:8080/"
        },
        "id": "L2EGm7DhuR1Q",
        "outputId": "c3c0121a-34c4-469a-b680-b223eb5c503a"
      },
      "execution_count": 10,
      "outputs": [
        {
          "output_type": "execute_result",
          "data": {
            "text/plain": [
              "1    1576\n",
              "2    1138\n",
              "0     129\n",
              "dtype: int64"
            ]
          },
          "metadata": {},
          "execution_count": 10
        }
      ]
    },
    {
      "cell_type": "code",
      "source": [
        "from sklearn.metrics import accuracy_score\n",
        "from sklearn.svm import SVC\n",
        "from sklearn.metrics import roc_curve, auc\n",
        "# define support vector classifier\n",
        "svm = SVC(kernel='linear', probability=True, random_state=42)\n",
        "\n",
        "# fit model\n",
        "svm.fit(X_train, y_train)"
      ],
      "metadata": {
        "colab": {
          "base_uri": "https://localhost:8080/"
        },
        "id": "kGq0vVZ3vCrA",
        "outputId": "233f1f11-7551-4f75-d1d3-30341403ee1a"
      },
      "execution_count": 11,
      "outputs": [
        {
          "output_type": "execute_result",
          "data": {
            "text/plain": [
              "SVC(kernel='linear', probability=True, random_state=42)"
            ]
          },
          "metadata": {},
          "execution_count": 11
        }
      ]
    },
    {
      "cell_type": "code",
      "source": [
        "# generate predictions\n",
        "y_pred = svm.predict(X_test)\n",
        "\n",
        "# calculate accuracy\n",
        "accuracy = accuracy_score(y_test, y_pred)\n",
        "print('Model accuracy is: ', accuracy)"
      ],
      "metadata": {
        "colab": {
          "base_uri": "https://localhost:8080/"
        },
        "id": "zhtoyECZvcMw",
        "outputId": "08117b40-8f1d-4a80-8cea-55cadfd9b13b"
      },
      "execution_count": 12,
      "outputs": [
        {
          "output_type": "stream",
          "name": "stdout",
          "text": [
            "Model accuracy is:  0.9381153305203939\n"
          ]
        }
      ]
    },
    {
      "cell_type": "code",
      "source": [
        "# predict probabilities for X_test using predict_proba\n",
        "#Took help from Sklearn website\n",
        "probabilities = svm.predict_proba(X_test)\n",
        "\n",
        "# select the probabilities for label 1.0\n",
        "y_proba = probabilities[:, 1]\n",
        "\n",
        "# calculate FPR and TPR at different thresholds\n",
        "false_positive_rate, true_positive_rate, thresholds = roc_curve(y_test, y_proba, pos_label=1)\n",
        "\n",
        "# calculate AUC\n",
        "roc_auc = auc(false_positive_rate, true_positive_rate)\n",
        "\n",
        "plt.title('Receiver Operating Characteristic')\n",
        "# plot the FPR on the x axis and the TPR on the y axis\n",
        "roc_plot = plt.plot(false_positive_rate,\n",
        "                    true_positive_rate,\n",
        "                    label='AUC = {:0.2f}'.format(roc_auc))\n",
        "\n",
        "plt.legend(loc=0)\n",
        "plt.plot([0,1], [0,1], ls='--')\n",
        "plt.ylabel('True Positive Rate')\n",
        "plt.xlabel('False Positive Rate');"
      ],
      "metadata": {
        "id": "ujumXi0cviza",
        "outputId": "449193a6-3e46-4683-f6c6-7ddc96b9aa5d",
        "colab": {
          "base_uri": "https://localhost:8080/",
          "height": 295
        }
      },
      "execution_count": 13,
      "outputs": [
        {
          "output_type": "display_data",
          "data": {
            "text/plain": [
              "<Figure size 432x288 with 1 Axes>"
            ],
            "image/png": "[encoded data removed]"
          },
          "metadata": {
            "needs_background": "light"
          }
        }
      ]
    },
    {
      "cell_type": "code",
      "source": [
        "svm = SVC(kernel='rbf', probability=True, random_state=42)\n",
        "\n",
        "# fit model\n",
        "svm.fit(X_train, y_train)"
      ],
      "metadata": {
        "colab": {
          "base_uri": "https://localhost:8080/"
        },
        "id": "s2YmBfnS46TE",
        "outputId": "c1b318f1-0336-40c1-e79d-44cd44e2e4da"
      },
      "execution_count": 14,
      "outputs": [
        {
          "output_type": "execute_result",
          "data": {
            "text/plain": [
              "SVC(probability=True, random_state=42)"
            ]
          },
          "metadata": {},
          "execution_count": 14
        }
      ]
    },
    {
      "cell_type": "code",
      "source": [
        "# generate predictions\n",
        "y_pred = svm.predict(X_test)\n",
        "\n",
        "# calculate accuracy\n",
        "accuracy = accuracy_score(y_test, y_pred)\n",
        "print('Model accuracy is: ', accuracy)"
      ],
      "metadata": {
        "colab": {
          "base_uri": "https://localhost:8080/"
        },
        "id": "LAxzDStj5CSJ",
        "outputId": "84b10837-465e-4a88-c77c-9523d50c539c"
      },
      "execution_count": 15,
      "outputs": [
        {
          "output_type": "stream",
          "name": "stdout",
          "text": [
            "Model accuracy is:  0.9184247538677919\n"
          ]
        }
      ]
    },
    {
      "cell_type": "code",
      "source": [
        "# predict probabilities for X_test using predict_proba\n",
        "probabilities = svm.predict_proba(X_test)\n",
        "\n",
        "# select the probabilities for label 1.0\n",
        "y_proba = probabilities[:, 1]\n",
        "\n",
        "# calculate FPR and TPR at different thresholds\n",
        "false_positive_rate, true_positive_rate, thresholds = roc_curve(y_test, y_proba, pos_label=1)\n",
        "\n",
        "# calculate AUC\n",
        "roc_auc = auc(false_positive_rate, true_positive_rate)\n",
        "\n",
        "plt.title('Receiver Operating Characteristic')\n",
        "# plot the FPR on the x axis and the TPR on the y axis\n",
        "roc_plot = plt.plot(false_positive_rate,\n",
        "                    true_positive_rate,\n",
        "                    label='AUC = {:0.2f}'.format(roc_auc))\n",
        "\n",
        "plt.legend(loc=0)\n",
        "plt.plot([0,1], [0,1], ls='--')\n",
        "plt.ylabel('True Positive Rate')\n",
        "plt.xlabel('False Positive Rate');"
      ],
      "metadata": {
        "colab": {
          "base_uri": "https://localhost:8080/",
          "height": 295
        },
        "id": "nAu29JKJ5M7L",
        "outputId": "74b6b11e-27aa-4e13-fe96-257f58d53668"
      },
      "execution_count": 16,
      "outputs": [
        {
          "output_type": "display_data",
          "data": {
            "text/plain": [
              "<Figure size 432x288 with 1 Axes>"
            ],
            "image/png": "[encoded data removed]"
          },
          "metadata": {
            "needs_background": "light"
          }
        }
      ]
    },
    {
      "cell_type": "code",
      "source": [
        "##NOW THE DATASET SPLIT AS PER THE Q2\n",
        "#Applied SVM with Linear Kernel and RBF Kerner"
      ],
      "metadata": {
        "id": "GveVz33eg_Df"
      },
      "execution_count": 42,
      "outputs": []
    },
    {
      "cell_type": "code",
      "source": [
        "train_ratio = 0.70\n",
        "validation_ratio = 0.10\n",
        "test_ratio = 0.20\n",
        "\n",
        "x_train, x_test, y_train, y_test = train_test_split(X, y, test_size=1 - train_ratio)\n",
        "x_val, x_test, y_val, y_test = train_test_split(x_test, y_test, test_size=test_ratio/(test_ratio + validation_ratio)) \n",
        "#print(x_train, x_val, x_test)"
      ],
      "metadata": {
        "id": "Ebjztx6z6scd"
      },
      "execution_count": 17,
      "outputs": []
    },
    {
      "cell_type": "code",
      "source": [
        "svm = SVC(kernel='linear', probability=True, random_state=42)\n",
        "\n",
        "# fit model\n",
        "svm.fit(x_train, y_train)"
      ],
      "metadata": {
        "colab": {
          "base_uri": "https://localhost:8080/"
        },
        "id": "9_uIfo9P_U19",
        "outputId": "bf9c5044-c6b8-4e36-bb3c-9a7b3663e9d7"
      },
      "execution_count": 18,
      "outputs": [
        {
          "output_type": "execute_result",
          "data": {
            "text/plain": [
              "SVC(kernel='linear', probability=True, random_state=42)"
            ]
          },
          "metadata": {},
          "execution_count": 18
        }
      ]
    },
    {
      "cell_type": "code",
      "source": [
        "# generate predictions\n",
        "y_pred = svm.predict(x_val)\n",
        "\n",
        "# calculate accuracy\n",
        "accuracy = accuracy_score(y_val, y_pred)\n",
        "print('Validation accuracy is: ', accuracy)"
      ],
      "metadata": {
        "colab": {
          "base_uri": "https://localhost:8080/"
        },
        "id": "rUp_xjqI_uQk",
        "outputId": "35d4a5fe-ae8e-4870-94ab-2efc1d6145de"
      },
      "execution_count": 19,
      "outputs": [
        {
          "output_type": "stream",
          "name": "stdout",
          "text": [
            "Validation accuracy is:  0.9211267605633803\n"
          ]
        }
      ]
    },
    {
      "cell_type": "code",
      "source": [
        "# generate predictions\n",
        "y_pred = svm.predict(x_test)\n",
        "\n",
        "# calculate accuracy\n",
        "accuracy = accuracy_score(y_test, y_pred)\n",
        "print('Model accuracy is: ', accuracy)"
      ],
      "metadata": {
        "colab": {
          "base_uri": "https://localhost:8080/"
        },
        "id": "27L6AVQbAzpS",
        "outputId": "d4554373-2e70-46d1-ca65-4d116b47e1cc"
      },
      "execution_count": 20,
      "outputs": [
        {
          "output_type": "stream",
          "name": "stdout",
          "text": [
            "Model accuracy is:  0.9339887640449438\n"
          ]
        }
      ]
    },
    {
      "cell_type": "code",
      "source": [
        "# predict probabilities for X_test using predict_proba\n",
        "probabilities = svm.predict_proba(x_test)\n",
        "\n",
        "# select the probabilities for label 1.0\n",
        "y_proba = probabilities[:, 1]\n",
        "\n",
        "# calculate FPR and TPR at different thresholds\n",
        "false_positive_rate, true_positive_rate, thresholds = roc_curve(y_test, y_proba, pos_label=1)\n",
        "\n",
        "# calculate AUC\n",
        "roc_auc = auc(false_positive_rate, true_positive_rate)\n",
        "\n",
        "plt.title('Receiver Operating Characteristic')\n",
        "# plot the FPR on the x axis and the TPR on the y axis\n",
        "roc_plot = plt.plot(false_positive_rate,\n",
        "                    true_positive_rate,\n",
        "                    label='AUC = {:0.2f}'.format(roc_auc))\n",
        "\n",
        "plt.legend(loc=0)\n",
        "plt.plot([0,1], [0,1], ls='--')\n",
        "plt.ylabel('True Positive Rate')\n",
        "plt.xlabel('False Positive Rate');"
      ],
      "metadata": {
        "colab": {
          "base_uri": "https://localhost:8080/",
          "height": 295
        },
        "id": "ajqtHoPSBEws",
        "outputId": "fffba484-5e9c-4e0e-860e-9d1ae8b2f966"
      },
      "execution_count": 21,
      "outputs": [
        {
          "output_type": "display_data",
          "data": {
            "text/plain": [
              "<Figure size 432x288 with 1 Axes>"
            ],
            "image/png": "[encoded data removed]"
          },
          "metadata": {
            "needs_background": "light"
          }
        }
      ]
    },
    {
      "cell_type": "code",
      "source": [
        "from sklearn.metrics import f1_score\n",
        "f1_score(y_test, y_pred,average='micro')"
      ],
      "metadata": {
        "colab": {
          "base_uri": "https://localhost:8080/"
        },
        "id": "vJZJnohhBOaN",
        "outputId": "8edd7438-f20c-42d4-8612-c587e72db37f"
      },
      "execution_count": 22,
      "outputs": [
        {
          "output_type": "execute_result",
          "data": {
            "text/plain": [
              "0.9339887640449438"
            ]
          },
          "metadata": {},
          "execution_count": 22
        }
      ]
    },
    {
      "cell_type": "code",
      "source": [
        "train_ratio = 0.70\n",
        "validation_ratio = 0.10\n",
        "test_ratio = 0.20\n",
        "x_train, x_test, y_train, y_test = train_test_split(X, y, test_size=1 - train_ratio)\n",
        "x_val, x_test, y_val, y_test = train_test_split(x_test, y_test, test_size=test_ratio/(test_ratio + validation_ratio)) "
      ],
      "metadata": {
        "id": "-wwixysTaB7-"
      },
      "execution_count": 23,
      "outputs": []
    },
    {
      "cell_type": "code",
      "source": [
        "svm = SVC(kernel='rbf', probability=True, random_state=42)\n",
        "\n",
        "# fit model\n",
        "svm.fit(x_train, y_train)"
      ],
      "metadata": {
        "colab": {
          "base_uri": "https://localhost:8080/"
        },
        "id": "DWZFMus2aEv7",
        "outputId": "9cdf7ded-5f48-44b5-e627-2b28031ed9f5"
      },
      "execution_count": 24,
      "outputs": [
        {
          "output_type": "execute_result",
          "data": {
            "text/plain": [
              "SVC(probability=True, random_state=42)"
            ]
          },
          "metadata": {},
          "execution_count": 24
        }
      ]
    },
    {
      "cell_type": "code",
      "source": [
        "# generate predictions\n",
        "y_pred = svm.predict(x_val)\n",
        "\n",
        "# calculate accuracy\n",
        "accuracy = accuracy_score(y_val, y_pred)\n",
        "print('Validation accuracy is: ', accuracy)"
      ],
      "metadata": {
        "colab": {
          "base_uri": "https://localhost:8080/"
        },
        "id": "RAKlRSp-aMRD",
        "outputId": "6eec4ed9-8164-4443-cc6f-1acdee614ae9"
      },
      "execution_count": 25,
      "outputs": [
        {
          "output_type": "stream",
          "name": "stdout",
          "text": [
            "Validation accuracy is:  0.895774647887324\n"
          ]
        }
      ]
    },
    {
      "cell_type": "code",
      "source": [
        "# generate predictions\n",
        "y_pred = svm.predict(x_test)\n",
        "\n",
        "# calculate accuracy\n",
        "accuracy = accuracy_score(y_test, y_pred)\n",
        "print('Model accuracy is: ', accuracy)"
      ],
      "metadata": {
        "colab": {
          "base_uri": "https://localhost:8080/"
        },
        "id": "3HJn5DeOaU5z",
        "outputId": "7395c34a-3e08-4713-eecb-d1e6dea1b3a3"
      },
      "execution_count": 26,
      "outputs": [
        {
          "output_type": "stream",
          "name": "stdout",
          "text": [
            "Model accuracy is:  0.922752808988764\n"
          ]
        }
      ]
    },
    {
      "cell_type": "code",
      "source": [
        "# predict probabilities for X_test using predict_proba\n",
        "probabilities = svm.predict_proba(x_test)\n",
        "\n",
        "# select the probabilities for label 1.0\n",
        "y_proba = probabilities[:, 1]\n",
        "\n",
        "# calculate FPR and TPR at different thresholds\n",
        "false_positive_rate, true_positive_rate, thresholds = roc_curve(y_test, y_proba, pos_label=1)\n",
        "\n",
        "# calculate AUC\n",
        "roc_auc = auc(false_positive_rate, true_positive_rate)\n",
        "\n",
        "plt.title('Receiver Operating Characteristic')\n",
        "# plot the FPR on the x axis and the TPR on the y axis\n",
        "roc_plot = plt.plot(false_positive_rate,\n",
        "                    true_positive_rate,\n",
        "                    label='AUC = {:0.2f}'.format(roc_auc))\n",
        "\n",
        "plt.legend(loc=0)\n",
        "plt.plot([0,1], [0,1], ls='--')\n",
        "plt.ylabel('True Positive Rate')\n",
        "plt.xlabel('False Positive Rate');"
      ],
      "metadata": {
        "colab": {
          "base_uri": "https://localhost:8080/",
          "height": 295
        },
        "id": "S7Mvs6LcabuU",
        "outputId": "14f7406f-f322-4ac5-e498-7a42e1c27b6c"
      },
      "execution_count": 27,
      "outputs": [
        {
          "output_type": "display_data",
          "data": {
            "text/plain": [
              "<Figure size 432x288 with 1 Axes>"
            ],
            "image/png": "[encoded data removed]"
          },
          "metadata": {
            "needs_background": "light"
          }
        }
      ]
    },
    {
      "cell_type": "code",
      "source": [
        "from sklearn.metrics import f1_score\n",
        "print(f1_score(y_test, y_pred,average='micro'))"
      ],
      "metadata": {
        "colab": {
          "base_uri": "https://localhost:8080/"
        },
        "id": "sDRc9nTCafGF",
        "outputId": "82ad50e5-8fa3-4f8e-c5e9-053c95d43176"
      },
      "execution_count": 29,
      "outputs": [
        {
          "output_type": "stream",
          "name": "stdout",
          "text": [
            "0.922752808988764\n"
          ]
        }
      ]
    },
    {
      "cell_type": "code",
      "source": [
        "from sklearn.metrics import multilabel_confusion_matrix"
      ],
      "metadata": {
        "id": "Yc_6ElKwbT6F"
      },
      "execution_count": 35,
      "outputs": []
    },
    {
      "cell_type": "code",
      "source": [
        "multilabel_confusion_matrix(y_test, y_pred)"
      ],
      "metadata": {
        "colab": {
          "base_uri": "https://localhost:8080/"
        },
        "id": "JHuvfeYDbVWp",
        "outputId": "97154bbb-8147-4e5a-c354-29e160946ced"
      },
      "execution_count": 36,
      "outputs": [
        {
          "output_type": "execute_result",
          "data": {
            "text/plain": [
              "array([[[683,   1],\n",
              "        [  6,  22]],\n",
              "\n",
              "       [[330,  12],\n",
              "        [ 40, 330]],\n",
              "\n",
              "       [[356,  42],\n",
              "        [  9, 305]]])"
            ]
          },
          "metadata": {},
          "execution_count": 36
        }
      ]
    },
    {
      "cell_type": "code",
      "source": [
        "cm = confusion_matrix(y_test, y_pred)"
      ],
      "metadata": {
        "id": "ZaoFU611d6V9"
      },
      "execution_count": 37,
      "outputs": []
    },
    {
      "cell_type": "code",
      "source": [
        "# Creating a dataframe for a array-formatted Confusion matrix, for easy plotting.\n",
        "cm_df = pd.DataFrame(cm,\n",
        "                     index = ['Sever','Mild','Normal'], \n",
        "                     columns = ['Sever','Mild','Normal'])"
      ],
      "metadata": {
        "id": "EzNCWhZufDI1"
      },
      "execution_count": 38,
      "outputs": []
    },
    {
      "cell_type": "code",
      "source": [
        "#Plotting the confusion matrix\n",
        "import seaborn as sns\n",
        "plt.figure(figsize=(5,4))\n",
        "sns.heatmap(cm_df, annot=True)\n",
        "plt.title('Confusion Matrix')\n",
        "plt.ylabel('Actal Values')\n",
        "plt.xlabel('Predicted Values')\n",
        "plt.show()"
      ],
      "metadata": {
        "colab": {
          "base_uri": "https://localhost:8080/",
          "height": 295
        },
        "id": "pg6sBpOUfTf0",
        "outputId": "781c296c-6312-4785-c3d8-18d3df4b0739"
      },
      "execution_count": 40,
      "outputs": [
        {
          "output_type": "display_data",
          "data": {
            "text/plain": [
              "<Figure size 360x288 with 2 Axes>"
            ],
            "image/png": "[encoded data removed]"
          },
          "metadata": {
            "needs_background": "light"
          }
        }
      ]
    }
  ]
}