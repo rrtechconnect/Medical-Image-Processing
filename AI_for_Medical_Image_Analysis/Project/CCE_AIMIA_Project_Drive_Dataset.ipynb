{
  "nbformat": 4,
  "nbformat_minor": 0,
  "metadata": {
    "colab": {
      "provenance": []
    },
    "kernelspec": {
      "name": "python3",
      "display_name": "Python 3"
    },
    "language_info": {
      "name": "python"
    },
    "accelerator": "GPU",
    "gpuClass": "standard"
  },
  "cells": [
    {
      "cell_type": "code",
      "source": [
        "from google.colab import drive\n",
        "drive.mount('/content/drive')\n",
        "import numpy as np\n",
        "import scipy.io"
      ],
      "metadata": {
        "id": "9EzG2NTPsFEY",
        "colab": {
          "base_uri": "https://localhost:8080/"
        },
        "outputId": "0b66acf1-a02b-4e5b-b62c-74a96e735ccd"
      },
      "execution_count": 1,
      "outputs": [
        {
          "output_type": "stream",
          "name": "stdout",
          "text": [
            "Mounted at /content/drive\n"
          ]
        }
      ]
    },
    {
      "cell_type": "code",
      "source": [
        "data_path = '/content/drive/My Drive/CCE-AIMIA/DRIVE/'"
      ],
      "metadata": {
        "id": "0zs1FUfMushq"
      },
      "execution_count": 2,
      "outputs": []
    },
    {
      "cell_type": "code",
      "source": [
        "import os\n",
        "import numpy as np\n",
        "import cv2\n",
        "from glob import glob\n",
        "from tqdm import tqdm\n",
        "import imageio\n",
        "import tensorflow as tf\n",
        "from tensorflow.keras import backend as K\n",
        "from albumentations import HorizontalFlip, VerticalFlip, ElasticTransform, GridDistortion, OpticalDistortion, CoarseDropout\n",
        "from tensorflow.keras.layers import Conv2D, BatchNormalization, Activation, MaxPool2D, Conv2DTranspose, Concatenate, Input\n",
        "from tensorflow.keras.models import Model\n",
        "os.environ[\"TF_CPP_MIN_LOG_LEVEL\"] = \"2\"\n",
        "from sklearn.utils import shuffle\n",
        "from tensorflow.keras.callbacks import ModelCheckpoint, CSVLogger, ReduceLROnPlateau, EarlyStopping, TensorBoard\n",
        "from tensorflow.keras.optimizers import Adam\n",
        "from tensorflow.keras.metrics import Recall, Precision\n",
        "import pandas as pd\n",
        "from tensorflow.keras.utils import CustomObjectScope\n",
        "from sklearn.metrics import accuracy_score, f1_score, jaccard_score, precision_score, recall_score\n",
        "\n",
        "def create_dir(path):\n",
        "    if not os.path.exists(path):\n",
        "        os.makedirs(path)\n",
        "\n",
        "train_dir_path = data_path+\"Training/\"\n",
        "train_images_path = train_dir_path +\"images/\"\n",
        "test_dir_path = data_path+\"Testing/\"\n",
        "test_images_path =test_dir_path+\"images/\"\n",
        "train_gt_path = train_dir_path+\"1st_manual/\"\n",
        "test_gt_path = test_dir_path +\"1st_manual/\"\n",
        "\n",
        "def load_data(path):\n",
        "    \"\"\" X = Images and Y = masks \"\"\"\n",
        "    train_x = sorted(glob(train_images_path+\"*.tif\"))\n",
        "    train_y = sorted(glob(train_gt_path+\"*.gif\"))\n",
        "    test_x = sorted(glob(test_images_path+\"*.tif\"))\n",
        "    test_y = sorted(glob(test_gt_path+\"*.gif\"))\n",
        "    return (train_x, train_y), (test_x, test_y)\n",
        "\n",
        "def augment_data(images, masks, save_path, augment=True):\n",
        "    H = 512\n",
        "    W = 512\n",
        "\n",
        "    for idx, (x, y) in tqdm(enumerate(zip(images, masks)), total=len(images)):\n",
        "        \"\"\" Extracting names \"\"\"\n",
        "        name = x.split(\"/\")[-1].split(\".\")[0]\n",
        "\n",
        "        \"\"\" Reading image and mask \"\"\"\n",
        "        x = cv2.imread(x, cv2.IMREAD_COLOR)\n",
        "        y = imageio.mimread(y)[0]\n",
        "\n",
        "        if augment == True:\n",
        "            aug = HorizontalFlip(p=1.0)\n",
        "            augmented = aug(image=x, mask=y)\n",
        "            x1 = augmented[\"image\"]\n",
        "            y1 = augmented[\"mask\"]\n",
        "\n",
        "            aug = VerticalFlip(p=1.0)\n",
        "            augmented = aug(image=x, mask=y)\n",
        "            x2 = augmented[\"image\"]\n",
        "            y2 = augmented[\"mask\"]\n",
        "\n",
        "            aug = ElasticTransform(p=1, alpha=120, sigma=120 * 0.05, alpha_affine=120 * 0.03)\n",
        "            augmented = aug(image=x, mask=y)\n",
        "            x3 = augmented['image']\n",
        "            y3 = augmented['mask']\n",
        "\n",
        "            aug = GridDistortion(p=1)\n",
        "            augmented = aug(image=x, mask=y)\n",
        "            x4 = augmented['image']\n",
        "            y4 = augmented['mask']\n",
        "\n",
        "            aug = OpticalDistortion(p=1, distort_limit=2, shift_limit=0.5)\n",
        "            augmented = aug(image=x, mask=y)\n",
        "            x5 = augmented['image']\n",
        "            y5 = augmented['mask']\n",
        "\n",
        "            X = [x, x1, x2, x3, x4, x5]\n",
        "            Y = [y, y1, y2, y3, y4, y5]\n",
        "\n",
        "        else:\n",
        "            X = [x]\n",
        "            Y = [y]\n",
        "\n",
        "        index = 0\n",
        "        for i, m in zip(X, Y):\n",
        "            i = cv2.resize(i, (W, H))\n",
        "            m = cv2.resize(m, (W, H))\n",
        "\n",
        "            if len(X) == 1:\n",
        "                tmp_image_name = f\"{name}.jpg\"\n",
        "                tmp_mask_name = f\"{name}.jpg\"\n",
        "            else:\n",
        "                tmp_image_name = f\"{name}_{index}.jpg\"\n",
        "                tmp_mask_name = f\"{name}_{index}.jpg\"\n",
        "\n",
        "            image_path = os.path.join(save_path, \"image\", tmp_image_name)\n",
        "            mask_path = os.path.join(save_path, \"mask\", tmp_mask_name)\n",
        "\n",
        "            cv2.imwrite(image_path, i)\n",
        "            cv2.imwrite(mask_path, m)\n",
        "\n",
        "            index += 1\n",
        "\n",
        "if __name__ == \"__main__\":\n",
        "    \"\"\" Seeding \"\"\"\n",
        "    np.random.seed(42)\n",
        "\n",
        "    \"\"\" Load the data \"\"\"\n",
        "    data_path = \"/content/drive/My Drive/CCE-AIMIA/DRIVE/\"\n",
        "    (train_x, train_y), (test_x, test_y) = load_data(data_path)\n",
        "\n",
        "    print(f\"No. of Training images: {len(train_x)}\")\n",
        "    print(f\"No. of Training masks: {len(train_y)}\")\n",
        "    print(f\"No.Testing images: {len(test_x)}\")\n",
        "    print(f\"No.Testing masks:  {len(test_y)}\")\n",
        "    \"\"\" Creating directories \"\"\"\n",
        "    create_dir(\"/content/drive/My Drive/CCE-AIMIA/DRIVE/new_data/train/image\")\n",
        "    create_dir(\"/content/drive/My Drive/CCE-AIMIA/DRIVE/new_data/train/mask\")\n",
        "    create_dir(\"/content/drive/My Drive/CCE-AIMIA/DRIVE/new_data/test/image\")\n",
        "    create_dir(\"/content/drive/My Drive/CCE-AIMIA/DRIVE/new_data/test/mask\")\n",
        "\n",
        "    augment_data(train_x, train_y, \"/content/drive/My Drive/CCE-AIMIA/DRIVE/new_data/train/\", augment=True)\n",
        "    augment_data(test_x, test_y, \"/content/drive/My Drive/CCE-AIMIA/DRIVE/new_data/test/\", augment=False)"
      ],
      "metadata": {
        "colab": {
          "base_uri": "https://localhost:8080/"
        },
        "id": "3E0jmLR9-6tr",
        "outputId": "c686d110-65c1-481a-b3a7-c7c107ad6f59"
      },
      "execution_count": 3,
      "outputs": [
        {
          "output_type": "stream",
          "name": "stdout",
          "text": [
            "No. of Training images: 20\n",
            "No. of Training masks: 20\n",
            "No.Testing images: 20\n",
            "No.Testing masks:  20\n"
          ]
        },
        {
          "output_type": "stream",
          "name": "stderr",
          "text": [
            "100%|██████████| 20/20 [00:46<00:00,  2.34s/it]\n",
            "100%|██████████| 20/20 [00:47<00:00,  2.38s/it]\n"
          ]
        }
      ]
    },
    {
      "cell_type": "code",
      "source": [
        "def conv_block(inputs, num_filters):\n",
        "    x = Conv2D(num_filters, 3, padding=\"same\")(inputs)\n",
        "    x = BatchNormalization()(x)\n",
        "    x = Activation(\"relu\")(x)\n",
        "\n",
        "    x = Conv2D(num_filters, 3, padding=\"same\")(x)\n",
        "    x = BatchNormalization()(x)\n",
        "    x = Activation(\"relu\")(x)\n",
        "\n",
        "    return x\n",
        "\n",
        "def encoder_block(inputs, num_filters):\n",
        "    x = conv_block(inputs, num_filters)\n",
        "    p = MaxPool2D((2, 2))(x)\n",
        "    return x, p\n",
        "\n",
        "def decoder_block(inputs, skip_features, num_filters):\n",
        "    x = Conv2DTranspose(num_filters, (2, 2), strides=2, padding=\"same\")(inputs)\n",
        "    x = Concatenate()([x, skip_features])\n",
        "    x = conv_block(x, num_filters)\n",
        "    return x\n",
        "\n",
        "def build_unet(input_shape):\n",
        "    inputs = Input(input_shape)\n",
        "\n",
        "    s1, p1 = encoder_block(inputs, 64)\n",
        "    s2, p2 = encoder_block(p1, 128)\n",
        "    s3, p3 = encoder_block(p2, 256)\n",
        "    s4, p4 = encoder_block(p3, 512)\n",
        "\n",
        "    b1 = conv_block(p4, 1024)\n",
        "\n",
        "    d1 = decoder_block(b1, s4, 512)\n",
        "    d2 = decoder_block(d1, s3, 256)\n",
        "    d3 = decoder_block(d2, s2, 128)\n",
        "    d4 = decoder_block(d3, s1, 64)\n",
        "\n",
        "    outputs = Conv2D(1, 1, padding=\"same\", activation=\"sigmoid\")(d4)\n",
        "\n",
        "    model = Model(inputs, outputs, name=\"UNET\")\n",
        "    return model\n",
        "\n",
        "if __name__ == \"__main__\":\n",
        "    input_shape = (512, 512, 3)\n",
        "    model = build_unet(input_shape)\n",
        "    model.summary()"
      ],
      "metadata": {
        "colab": {
          "base_uri": "https://localhost:8080/"
        },
        "id": "XNyhrjYCCNPV",
        "outputId": "7d079c15-e52e-4509-a477-491aa490e3b9"
      },
      "execution_count": 4,
      "outputs": [
        {
          "output_type": "stream",
          "name": "stdout",
          "text": [
            "Model: \"UNET\"\n",
            "__________________________________________________________________________________________________\n",
            " Layer (type)                   Output Shape         Param #     Connected to                     \n",
            "==================================================================================================\n",
            " input_1 (InputLayer)           [(None, 512, 512, 3  0           []                               \n",
            "                                )]                                                                \n",
            "                                                                                                  \n",
            " conv2d (Conv2D)                (None, 512, 512, 64  1792        ['input_1[0][0]']                \n",
            "                                )                                                                 \n",
            "                                                                                                  \n",
            " batch_normalization (BatchNorm  (None, 512, 512, 64  256        ['conv2d[0][0]']                 \n",
            " alization)                     )                                                                 \n",
            "                                                                                                  \n",
            " activation (Activation)        (None, 512, 512, 64  0           ['batch_normalization[0][0]']    \n",
            "                                )                                                                 \n",
            "                                                                                                  \n",
            " conv2d_1 (Conv2D)              (None, 512, 512, 64  36928       ['activation[0][0]']             \n",
            "                                )                                                                 \n",
            "                                                                                                  \n",
            " batch_normalization_1 (BatchNo  (None, 512, 512, 64  256        ['conv2d_1[0][0]']               \n",
            " rmalization)                   )                                                                 \n",
            "                                                                                                  \n",
            " activation_1 (Activation)      (None, 512, 512, 64  0           ['batch_normalization_1[0][0]']  \n",
            "                                )                                                                 \n",
            "                                                                                                  \n",
            " max_pooling2d (MaxPooling2D)   (None, 256, 256, 64  0           ['activation_1[0][0]']           \n",
            "                                )                                                                 \n",
            "                                                                                                  \n",
            " conv2d_2 (Conv2D)              (None, 256, 256, 12  73856       ['max_pooling2d[0][0]']          \n",
            "                                8)                                                                \n",
            "                                                                                                  \n",
            " batch_normalization_2 (BatchNo  (None, 256, 256, 12  512        ['conv2d_2[0][0]']               \n",
            " rmalization)                   8)                                                                \n",
            "                                                                                                  \n",
            " activation_2 (Activation)      (None, 256, 256, 12  0           ['batch_normalization_2[0][0]']  \n",
            "                                8)                                                                \n",
            "                                                                                                  \n",
            " conv2d_3 (Conv2D)              (None, 256, 256, 12  147584      ['activation_2[0][0]']           \n",
            "                                8)                                                                \n",
            "                                                                                                  \n",
            " batch_normalization_3 (BatchNo  (None, 256, 256, 12  512        ['conv2d_3[0][0]']               \n",
            " rmalization)                   8)                                                                \n",
            "                                                                                                  \n",
            " activation_3 (Activation)      (None, 256, 256, 12  0           ['batch_normalization_3[0][0]']  \n",
            "                                8)                                                                \n",
            "                                                                                                  \n",
            " max_pooling2d_1 (MaxPooling2D)  (None, 128, 128, 12  0          ['activation_3[0][0]']           \n",
            "                                8)                                                                \n",
            "                                                                                                  \n",
            " conv2d_4 (Conv2D)              (None, 128, 128, 25  295168      ['max_pooling2d_1[0][0]']        \n",
            "                                6)                                                                \n",
            "                                                                                                  \n",
            " batch_normalization_4 (BatchNo  (None, 128, 128, 25  1024       ['conv2d_4[0][0]']               \n",
            " rmalization)                   6)                                                                \n",
            "                                                                                                  \n",
            " activation_4 (Activation)      (None, 128, 128, 25  0           ['batch_normalization_4[0][0]']  \n",
            "                                6)                                                                \n",
            "                                                                                                  \n",
            " conv2d_5 (Conv2D)              (None, 128, 128, 25  590080      ['activation_4[0][0]']           \n",
            "                                6)                                                                \n",
            "                                                                                                  \n",
            " batch_normalization_5 (BatchNo  (None, 128, 128, 25  1024       ['conv2d_5[0][0]']               \n",
            " rmalization)                   6)                                                                \n",
            "                                                                                                  \n",
            " activation_5 (Activation)      (None, 128, 128, 25  0           ['batch_normalization_5[0][0]']  \n",
            "                                6)                                                                \n",
            "                                                                                                  \n",
            " max_pooling2d_2 (MaxPooling2D)  (None, 64, 64, 256)  0          ['activation_5[0][0]']           \n",
            "                                                                                                  \n",
            " conv2d_6 (Conv2D)              (None, 64, 64, 512)  1180160     ['max_pooling2d_2[0][0]']        \n",
            "                                                                                                  \n",
            " batch_normalization_6 (BatchNo  (None, 64, 64, 512)  2048       ['conv2d_6[0][0]']               \n",
            " rmalization)                                                                                     \n",
            "                                                                                                  \n",
            " activation_6 (Activation)      (None, 64, 64, 512)  0           ['batch_normalization_6[0][0]']  \n",
            "                                                                                                  \n",
            " conv2d_7 (Conv2D)              (None, 64, 64, 512)  2359808     ['activation_6[0][0]']           \n",
            "                                                                                                  \n",
            " batch_normalization_7 (BatchNo  (None, 64, 64, 512)  2048       ['conv2d_7[0][0]']               \n",
            " rmalization)                                                                                     \n",
            "                                                                                                  \n",
            " activation_7 (Activation)      (None, 64, 64, 512)  0           ['batch_normalization_7[0][0]']  \n",
            "                                                                                                  \n",
            " max_pooling2d_3 (MaxPooling2D)  (None, 32, 32, 512)  0          ['activation_7[0][0]']           \n",
            "                                                                                                  \n",
            " conv2d_8 (Conv2D)              (None, 32, 32, 1024  4719616     ['max_pooling2d_3[0][0]']        \n",
            "                                )                                                                 \n",
            "                                                                                                  \n",
            " batch_normalization_8 (BatchNo  (None, 32, 32, 1024  4096       ['conv2d_8[0][0]']               \n",
            " rmalization)                   )                                                                 \n",
            "                                                                                                  \n",
            " activation_8 (Activation)      (None, 32, 32, 1024  0           ['batch_normalization_8[0][0]']  \n",
            "                                )                                                                 \n",
            "                                                                                                  \n",
            " conv2d_9 (Conv2D)              (None, 32, 32, 1024  9438208     ['activation_8[0][0]']           \n",
            "                                )                                                                 \n",
            "                                                                                                  \n",
            " batch_normalization_9 (BatchNo  (None, 32, 32, 1024  4096       ['conv2d_9[0][0]']               \n",
            " rmalization)                   )                                                                 \n",
            "                                                                                                  \n",
            " activation_9 (Activation)      (None, 32, 32, 1024  0           ['batch_normalization_9[0][0]']  \n",
            "                                )                                                                 \n",
            "                                                                                                  \n",
            " conv2d_transpose (Conv2DTransp  (None, 64, 64, 512)  2097664    ['activation_9[0][0]']           \n",
            " ose)                                                                                             \n",
            "                                                                                                  \n",
            " concatenate (Concatenate)      (None, 64, 64, 1024  0           ['conv2d_transpose[0][0]',       \n",
            "                                )                                 'activation_7[0][0]']           \n",
            "                                                                                                  \n",
            " conv2d_10 (Conv2D)             (None, 64, 64, 512)  4719104     ['concatenate[0][0]']            \n",
            "                                                                                                  \n",
            " batch_normalization_10 (BatchN  (None, 64, 64, 512)  2048       ['conv2d_10[0][0]']              \n",
            " ormalization)                                                                                    \n",
            "                                                                                                  \n",
            " activation_10 (Activation)     (None, 64, 64, 512)  0           ['batch_normalization_10[0][0]'] \n",
            "                                                                                                  \n",
            " conv2d_11 (Conv2D)             (None, 64, 64, 512)  2359808     ['activation_10[0][0]']          \n",
            "                                                                                                  \n",
            " batch_normalization_11 (BatchN  (None, 64, 64, 512)  2048       ['conv2d_11[0][0]']              \n",
            " ormalization)                                                                                    \n",
            "                                                                                                  \n",
            " activation_11 (Activation)     (None, 64, 64, 512)  0           ['batch_normalization_11[0][0]'] \n",
            "                                                                                                  \n",
            " conv2d_transpose_1 (Conv2DTran  (None, 128, 128, 25  524544     ['activation_11[0][0]']          \n",
            " spose)                         6)                                                                \n",
            "                                                                                                  \n",
            " concatenate_1 (Concatenate)    (None, 128, 128, 51  0           ['conv2d_transpose_1[0][0]',     \n",
            "                                2)                                'activation_5[0][0]']           \n",
            "                                                                                                  \n",
            " conv2d_12 (Conv2D)             (None, 128, 128, 25  1179904     ['concatenate_1[0][0]']          \n",
            "                                6)                                                                \n",
            "                                                                                                  \n",
            " batch_normalization_12 (BatchN  (None, 128, 128, 25  1024       ['conv2d_12[0][0]']              \n",
            " ormalization)                  6)                                                                \n",
            "                                                                                                  \n",
            " activation_12 (Activation)     (None, 128, 128, 25  0           ['batch_normalization_12[0][0]'] \n",
            "                                6)                                                                \n",
            "                                                                                                  \n",
            " conv2d_13 (Conv2D)             (None, 128, 128, 25  590080      ['activation_12[0][0]']          \n",
            "                                6)                                                                \n",
            "                                                                                                  \n",
            " batch_normalization_13 (BatchN  (None, 128, 128, 25  1024       ['conv2d_13[0][0]']              \n",
            " ormalization)                  6)                                                                \n",
            "                                                                                                  \n",
            " activation_13 (Activation)     (None, 128, 128, 25  0           ['batch_normalization_13[0][0]'] \n",
            "                                6)                                                                \n",
            "                                                                                                  \n",
            " conv2d_transpose_2 (Conv2DTran  (None, 256, 256, 12  131200     ['activation_13[0][0]']          \n",
            " spose)                         8)                                                                \n",
            "                                                                                                  \n",
            " concatenate_2 (Concatenate)    (None, 256, 256, 25  0           ['conv2d_transpose_2[0][0]',     \n",
            "                                6)                                'activation_3[0][0]']           \n",
            "                                                                                                  \n",
            " conv2d_14 (Conv2D)             (None, 256, 256, 12  295040      ['concatenate_2[0][0]']          \n",
            "                                8)                                                                \n",
            "                                                                                                  \n",
            " batch_normalization_14 (BatchN  (None, 256, 256, 12  512        ['conv2d_14[0][0]']              \n",
            " ormalization)                  8)                                                                \n",
            "                                                                                                  \n",
            " activation_14 (Activation)     (None, 256, 256, 12  0           ['batch_normalization_14[0][0]'] \n",
            "                                8)                                                                \n",
            "                                                                                                  \n",
            " conv2d_15 (Conv2D)             (None, 256, 256, 12  147584      ['activation_14[0][0]']          \n",
            "                                8)                                                                \n",
            "                                                                                                  \n",
            " batch_normalization_15 (BatchN  (None, 256, 256, 12  512        ['conv2d_15[0][0]']              \n",
            " ormalization)                  8)                                                                \n",
            "                                                                                                  \n",
            " activation_15 (Activation)     (None, 256, 256, 12  0           ['batch_normalization_15[0][0]'] \n",
            "                                8)                                                                \n",
            "                                                                                                  \n",
            " conv2d_transpose_3 (Conv2DTran  (None, 512, 512, 64  32832      ['activation_15[0][0]']          \n",
            " spose)                         )                                                                 \n",
            "                                                                                                  \n",
            " concatenate_3 (Concatenate)    (None, 512, 512, 12  0           ['conv2d_transpose_3[0][0]',     \n",
            "                                8)                                'activation_1[0][0]']           \n",
            "                                                                                                  \n",
            " conv2d_16 (Conv2D)             (None, 512, 512, 64  73792       ['concatenate_3[0][0]']          \n",
            "                                )                                                                 \n",
            "                                                                                                  \n",
            " batch_normalization_16 (BatchN  (None, 512, 512, 64  256        ['conv2d_16[0][0]']              \n",
            " ormalization)                  )                                                                 \n",
            "                                                                                                  \n",
            " activation_16 (Activation)     (None, 512, 512, 64  0           ['batch_normalization_16[0][0]'] \n",
            "                                )                                                                 \n",
            "                                                                                                  \n",
            " conv2d_17 (Conv2D)             (None, 512, 512, 64  36928       ['activation_16[0][0]']          \n",
            "                                )                                                                 \n",
            "                                                                                                  \n",
            " batch_normalization_17 (BatchN  (None, 512, 512, 64  256        ['conv2d_17[0][0]']              \n",
            " ormalization)                  )                                                                 \n",
            "                                                                                                  \n",
            " activation_17 (Activation)     (None, 512, 512, 64  0           ['batch_normalization_17[0][0]'] \n",
            "                                )                                                                 \n",
            "                                                                                                  \n",
            " conv2d_18 (Conv2D)             (None, 512, 512, 1)  65          ['activation_17[0][0]']          \n",
            "                                                                                                  \n",
            "==================================================================================================\n",
            "Total params: 31,055,297\n",
            "Trainable params: 31,043,521\n",
            "Non-trainable params: 11,776\n",
            "__________________________________________________________________________________________________\n"
          ]
        }
      ]
    },
    {
      "cell_type": "code",
      "source": [
        "def iou(y_true, y_pred):\n",
        "    def f(y_true, y_pred):\n",
        "        intersection = (y_true * y_pred).sum()\n",
        "        union = y_true.sum() + y_pred.sum() - intersection\n",
        "        x = (intersection + 1e-15) / (union + 1e-15)\n",
        "        x = x.astype(np.float32)\n",
        "        return x\n",
        "    return tf.numpy_function(f, [y_true, y_pred], tf.float32)\n",
        "\n",
        "smooth = 1e-15\n",
        "def dice_coef(y_true, y_pred):\n",
        "    y_true = tf.keras.layers.Flatten()(y_true)\n",
        "    y_pred = tf.keras.layers.Flatten()(y_pred)\n",
        "    intersection = tf.reduce_sum(y_true * y_pred)\n",
        "    return (2. * intersection + smooth) / (tf.reduce_sum(y_true) + tf.reduce_sum(y_pred) + smooth)\n",
        "\n",
        "def dice_loss(y_true, y_pred):\n",
        "    return 1.0 - dice_coef(y_true, y_pred)"
      ],
      "metadata": {
        "id": "EUz8ZNXID9Xu"
      },
      "execution_count": 5,
      "outputs": []
    },
    {
      "cell_type": "code",
      "source": [
        "H = 512\n",
        "W = 512\n",
        "\n",
        "def load_data(path):\n",
        "    x = sorted(glob(os.path.join(path, \"image\", \"*.jpg\")))\n",
        "    y = sorted(glob(os.path.join(path, \"mask\", \"*.jpg\")))\n",
        "    return x, y\n",
        "\n",
        "def shuffling(x, y):\n",
        "    x, y = shuffle(x, y, random_state=42)\n",
        "    return x, y\n",
        "\n",
        "def read_image(path):\n",
        "    path = path.decode()\n",
        "    x = cv2.imread(path, cv2.IMREAD_COLOR)\n",
        "    # x = cv2.resize(x, (W, H))\n",
        "    x = x/255.0\n",
        "    x = x.astype(np.float32)\n",
        "    return x\n",
        "\n",
        "def read_mask(path):\n",
        "    path = path.decode()\n",
        "    x = cv2.imread(path, cv2.IMREAD_GRAYSCALE)  ## (512, 512)\n",
        "    # x = cv2.resize(x, (W, H))\n",
        "    x = x/255.0\n",
        "    x = x.astype(np.float32)\n",
        "    x = np.expand_dims(x, axis=-1)              ## (512, 512, 1)\n",
        "    return x\n",
        "\n",
        "def tf_parse(x, y):\n",
        "    def _parse(x, y):\n",
        "        x = read_image(x)\n",
        "        y = read_mask(y)\n",
        "        return x, y\n",
        "\n",
        "    x, y = tf.numpy_function(_parse, [x, y], [tf.float32, tf.float32])\n",
        "    x.set_shape([H, W, 3])\n",
        "    y.set_shape([H, W, 1])\n",
        "    return x, y\n",
        "\n",
        "def tf_dataset(X, Y, batch_size=2):\n",
        "    dataset = tf.data.Dataset.from_tensor_slices((X, Y))\n",
        "    dataset = dataset.map(tf_parse)\n",
        "    dataset = dataset.batch(batch_size)\n",
        "    dataset = dataset.prefetch(4)\n",
        "    return dataset\n",
        "\n",
        "if __name__ == \"__main__\":\n",
        "    \"\"\" Seeding \"\"\"\n",
        "    np.random.seed(42)\n",
        "    tf.random.set_seed(42)\n",
        "\n",
        "    \"\"\" Directory to save files \"\"\"\n",
        "    create_dir(\"/content/drive/My Drive/CCE-AIMIA/DRIVE/files\")\n",
        "\n",
        "    \"\"\" Hyperparameters \"\"\"\n",
        "    batch_size = 2\n",
        "    lr = 1e-4\n",
        "    num_epochs = 100\n",
        "    model_path = os.path.join(\"/content/drive/My Drive/CCE-AIMIA/DRIVE/files\", \"model.h5\")\n",
        "    csv_path = os.path.join(\"/content/drive/My Drive/CCE-AIMIA/DRIVE/files\", \"data.csv\")\n",
        "\n",
        "    \"\"\" Dataset \"\"\"\n",
        "    dataset_path = \"/content/drive/My Drive/CCE-AIMIA/DRIVE/new_data\"\n",
        "    train_path = os.path.join(dataset_path, \"train\")\n",
        "    valid_path = os.path.join(dataset_path, \"test\")\n",
        "\n",
        "    train_x, train_y = load_data(train_path)\n",
        "    train_x, train_y = shuffling(train_x, train_y)\n",
        "    valid_x, valid_y = load_data(valid_path)\n",
        "\n",
        "    print(f\"Train: {len(train_x)} - {len(train_y)}\")\n",
        "    print(f\"Valid: {len(valid_x)} - {len(valid_y)}\")\n",
        "\n",
        "    train_dataset = tf_dataset(train_x, train_y, batch_size=batch_size)\n",
        "    valid_dataset = tf_dataset(valid_x, valid_y, batch_size=batch_size)\n",
        "\n",
        "    train_steps = len(train_x)//batch_size\n",
        "    valid_setps = len(valid_x)//batch_size\n",
        "\n",
        "    if len(train_x) % batch_size != 0:\n",
        "        train_steps += 1\n",
        "    if len(valid_x) % batch_size != 0:\n",
        "        valid_setps += 1\n",
        "\n",
        "    \"\"\" Model \"\"\"\n",
        "    model = build_unet((H, W, 3))\n",
        "    model.compile(loss=dice_loss, optimizer=Adam(lr), metrics=[['accuracy'],dice_coef, iou, Recall(), Precision()])\n",
        "    # model.summary()\n",
        "\n",
        "    callbacks = [\n",
        "        ModelCheckpoint(model_path, verbose=1, save_best_only=True),\n",
        "        ReduceLROnPlateau(monitor=\"val_loss\", factor=0.1, patience=5, min_lr=1e-6, verbose=1),\n",
        "        CSVLogger(csv_path),\n",
        "        TensorBoard(),\n",
        "        EarlyStopping(monitor=\"val_loss\", patience=10, restore_best_weights=False)\n",
        "    ]\n",
        "\n",
        "    history = model.fit(\n",
        "        train_dataset,\n",
        "        epochs=num_epochs,\n",
        "        validation_data=valid_dataset,\n",
        "        steps_per_epoch=train_steps,\n",
        "        validation_steps=valid_setps,\n",
        "        callbacks=callbacks\n",
        "    )"
      ],
      "metadata": {
        "colab": {
          "base_uri": "https://localhost:8080/"
        },
        "id": "NAUPmIAHCTlX",
        "outputId": "55753622-db08-4520-abb4-1c93abaf266d"
      },
      "execution_count": 6,
      "outputs": [
        {
          "output_type": "stream",
          "name": "stdout",
          "text": [
            "Train: 120 - 120\n",
            "Valid: 20 - 20\n",
            "Epoch 1/100\n",
            "60/60 [==============================] - ETA: 0s - loss: 0.6515 - accuracy: 0.6521 - dice_coef: 0.3485 - iou: 0.2145 - recall: 0.6186 - precision: 0.4451\n",
            "Epoch 1: val_loss improved from inf to 0.86044, saving model to /content/drive/My Drive/CCE-AIMIA/DRIVE/files/model.h5\n",
            "60/60 [==============================] - 55s 565ms/step - loss: 0.6515 - accuracy: 0.6521 - dice_coef: 0.3485 - iou: 0.2145 - recall: 0.6186 - precision: 0.4451 - val_loss: 0.8604 - val_accuracy: 0.7867 - val_dice_coef: 0.1396 - val_iou: 0.0750 - val_recall: 0.0000e+00 - val_precision: 0.0000e+00 - lr: 1.0000e-04\n",
            "Epoch 2/100\n",
            "60/60 [==============================] - ETA: 0s - loss: 0.4806 - accuracy: 0.7927 - dice_coef: 0.5194 - iou: 0.3516 - recall: 0.4447 - precision: 0.8007\n",
            "Epoch 2: val_loss did not improve from 0.86044\n",
            "60/60 [==============================] - 34s 561ms/step - loss: 0.4806 - accuracy: 0.7927 - dice_coef: 0.5194 - iou: 0.3516 - recall: 0.4447 - precision: 0.8007 - val_loss: 0.8875 - val_accuracy: 0.7867 - val_dice_coef: 0.1125 - val_iou: 0.0596 - val_recall: 0.0000e+00 - val_precision: 0.0000e+00 - lr: 1.0000e-04\n",
            "Epoch 3/100\n",
            "60/60 [==============================] - ETA: 0s - loss: 0.4296 - accuracy: 0.8006 - dice_coef: 0.5704 - iou: 0.3996 - recall: 0.4300 - precision: 0.8507\n",
            "Epoch 3: val_loss did not improve from 0.86044\n",
            "60/60 [==============================] - 33s 550ms/step - loss: 0.4296 - accuracy: 0.8006 - dice_coef: 0.5704 - iou: 0.3996 - recall: 0.4300 - precision: 0.8507 - val_loss: 0.9137 - val_accuracy: 0.7864 - val_dice_coef: 0.0863 - val_iou: 0.0451 - val_recall: 5.9917e-05 - val_precision: 0.0409 - lr: 1.0000e-04\n",
            "Epoch 4/100\n",
            "60/60 [==============================] - ETA: 0s - loss: 0.3962 - accuracy: 0.8045 - dice_coef: 0.6038 - iou: 0.4330 - recall: 0.4245 - precision: 0.8786\n",
            "Epoch 4: val_loss did not improve from 0.86044\n",
            "60/60 [==============================] - 33s 546ms/step - loss: 0.3962 - accuracy: 0.8045 - dice_coef: 0.6038 - iou: 0.4330 - recall: 0.4245 - precision: 0.8786 - val_loss: 0.9311 - val_accuracy: 0.7739 - val_dice_coef: 0.0689 - val_iou: 0.0357 - val_recall: 0.0058 - val_precision: 0.0862 - lr: 1.0000e-04\n",
            "Epoch 5/100\n",
            "60/60 [==============================] - ETA: 0s - loss: 0.3681 - accuracy: 0.8073 - dice_coef: 0.6319 - iou: 0.4624 - recall: 0.4215 - precision: 0.8997\n",
            "Epoch 5: val_loss did not improve from 0.86044\n",
            "60/60 [==============================] - 32s 540ms/step - loss: 0.3681 - accuracy: 0.8073 - dice_coef: 0.6319 - iou: 0.4624 - recall: 0.4215 - precision: 0.8997 - val_loss: 0.8804 - val_accuracy: 0.7602 - val_dice_coef: 0.1196 - val_iou: 0.0637 - val_recall: 0.0402 - val_precision: 0.2196 - lr: 1.0000e-04\n",
            "Epoch 6/100\n",
            "60/60 [==============================] - ETA: 0s - loss: 0.3454 - accuracy: 0.8092 - dice_coef: 0.6546 - iou: 0.4869 - recall: 0.4194 - precision: 0.9142\n",
            "Epoch 6: val_loss improved from 0.86044 to 0.76144, saving model to /content/drive/My Drive/CCE-AIMIA/DRIVE/files/model.h5\n",
            "60/60 [==============================] - 36s 607ms/step - loss: 0.3454 - accuracy: 0.8092 - dice_coef: 0.6546 - iou: 0.4869 - recall: 0.4194 - precision: 0.9142 - val_loss: 0.7614 - val_accuracy: 0.7708 - val_dice_coef: 0.2386 - val_iou: 0.1359 - val_recall: 0.0892 - val_precision: 0.4264 - lr: 1.0000e-04\n",
            "Epoch 7/100\n",
            "60/60 [==============================] - ETA: 0s - loss: 0.3252 - accuracy: 0.8107 - dice_coef: 0.6748 - iou: 0.5096 - recall: 0.4181 - precision: 0.9255\n",
            "Epoch 7: val_loss improved from 0.76144 to 0.64366, saving model to /content/drive/My Drive/CCE-AIMIA/DRIVE/files/model.h5\n",
            "60/60 [==============================] - 36s 606ms/step - loss: 0.3252 - accuracy: 0.8107 - dice_coef: 0.6748 - iou: 0.5096 - recall: 0.4181 - precision: 0.9255 - val_loss: 0.6437 - val_accuracy: 0.7760 - val_dice_coef: 0.3563 - val_iou: 0.2175 - val_recall: 0.1507 - val_precision: 0.5453 - lr: 1.0000e-04\n",
            "Epoch 8/100\n",
            "60/60 [==============================] - ETA: 0s - loss: 0.3075 - accuracy: 0.8119 - dice_coef: 0.6925 - iou: 0.5300 - recall: 0.4168 - precision: 0.9348\n",
            "Epoch 8: val_loss improved from 0.64366 to 0.47400, saving model to /content/drive/My Drive/CCE-AIMIA/DRIVE/files/model.h5\n",
            "60/60 [==============================] - 37s 625ms/step - loss: 0.3075 - accuracy: 0.8119 - dice_coef: 0.6925 - iou: 0.5300 - recall: 0.4168 - precision: 0.9348 - val_loss: 0.4740 - val_accuracy: 0.7928 - val_dice_coef: 0.5260 - val_iou: 0.3576 - val_recall: 0.2449 - val_precision: 0.7487 - lr: 1.0000e-04\n",
            "Epoch 9/100\n",
            "60/60 [==============================] - ETA: 0s - loss: 0.2915 - accuracy: 0.8128 - dice_coef: 0.7085 - iou: 0.5490 - recall: 0.4160 - precision: 0.9423\n",
            "Epoch 9: val_loss improved from 0.47400 to 0.37014, saving model to /content/drive/My Drive/CCE-AIMIA/DRIVE/files/model.h5\n",
            "60/60 [==============================] - 37s 616ms/step - loss: 0.2915 - accuracy: 0.8128 - dice_coef: 0.7085 - iou: 0.5490 - recall: 0.4160 - precision: 0.9423 - val_loss: 0.3701 - val_accuracy: 0.8068 - val_dice_coef: 0.6299 - val_iou: 0.4603 - val_recall: 0.3012 - val_precision: 0.8991 - lr: 1.0000e-04\n",
            "Epoch 10/100\n",
            "60/60 [==============================] - ETA: 0s - loss: 0.2798 - accuracy: 0.8134 - dice_coef: 0.7202 - iou: 0.5631 - recall: 0.4142 - precision: 0.9464\n",
            "Epoch 10: val_loss improved from 0.37014 to 0.33334, saving model to /content/drive/My Drive/CCE-AIMIA/DRIVE/files/model.h5\n",
            "60/60 [==============================] - 37s 622ms/step - loss: 0.2798 - accuracy: 0.8134 - dice_coef: 0.7202 - iou: 0.5631 - recall: 0.4142 - precision: 0.9464 - val_loss: 0.3333 - val_accuracy: 0.8124 - val_dice_coef: 0.6667 - val_iou: 0.5005 - val_recall: 0.3209 - val_precision: 0.9616 - lr: 1.0000e-04\n",
            "Epoch 11/100\n",
            "60/60 [==============================] - ETA: 0s - loss: 0.2685 - accuracy: 0.8139 - dice_coef: 0.7315 - iou: 0.5770 - recall: 0.4136 - precision: 0.9505\n",
            "Epoch 11: val_loss improved from 0.33334 to 0.32022, saving model to /content/drive/My Drive/CCE-AIMIA/DRIVE/files/model.h5\n",
            "60/60 [==============================] - 37s 621ms/step - loss: 0.2685 - accuracy: 0.8139 - dice_coef: 0.7315 - iou: 0.5770 - recall: 0.4136 - precision: 0.9505 - val_loss: 0.3202 - val_accuracy: 0.8130 - val_dice_coef: 0.6798 - val_iou: 0.5152 - val_recall: 0.3297 - val_precision: 0.9660 - lr: 1.0000e-04\n",
            "Epoch 12/100\n",
            "60/60 [==============================] - ETA: 0s - loss: 0.2591 - accuracy: 0.8143 - dice_coef: 0.7409 - iou: 0.5887 - recall: 0.4124 - precision: 0.9535\n",
            "Epoch 12: val_loss improved from 0.32022 to 0.30589, saving model to /content/drive/My Drive/CCE-AIMIA/DRIVE/files/model.h5\n",
            "60/60 [==============================] - 36s 607ms/step - loss: 0.2591 - accuracy: 0.8143 - dice_coef: 0.7409 - iou: 0.5887 - recall: 0.4124 - precision: 0.9535 - val_loss: 0.3059 - val_accuracy: 0.8132 - val_dice_coef: 0.6941 - val_iou: 0.5318 - val_recall: 0.3385 - val_precision: 0.9639 - lr: 1.0000e-04\n",
            "Epoch 13/100\n",
            "60/60 [==============================] - ETA: 0s - loss: 0.2516 - accuracy: 0.8146 - dice_coef: 0.7484 - iou: 0.5983 - recall: 0.4119 - precision: 0.9559\n",
            "Epoch 13: val_loss improved from 0.30589 to 0.28668, saving model to /content/drive/My Drive/CCE-AIMIA/DRIVE/files/model.h5\n",
            "60/60 [==============================] - 38s 633ms/step - loss: 0.2516 - accuracy: 0.8146 - dice_coef: 0.7484 - iou: 0.5983 - recall: 0.4119 - precision: 0.9559 - val_loss: 0.2867 - val_accuracy: 0.8137 - val_dice_coef: 0.7133 - val_iou: 0.5546 - val_recall: 0.3572 - val_precision: 0.9609 - lr: 1.0000e-04\n",
            "Epoch 14/100\n",
            "60/60 [==============================] - ETA: 0s - loss: 0.2428 - accuracy: 0.8151 - dice_coef: 0.7572 - iou: 0.6095 - recall: 0.4101 - precision: 0.9598\n",
            "Epoch 14: val_loss improved from 0.28668 to 0.27742, saving model to /content/drive/My Drive/CCE-AIMIA/DRIVE/files/model.h5\n",
            "60/60 [==============================] - 36s 606ms/step - loss: 0.2428 - accuracy: 0.8151 - dice_coef: 0.7572 - iou: 0.6095 - recall: 0.4101 - precision: 0.9598 - val_loss: 0.2774 - val_accuracy: 0.8124 - val_dice_coef: 0.7226 - val_iou: 0.5659 - val_recall: 0.3778 - val_precision: 0.9455 - lr: 1.0000e-04\n",
            "Epoch 15/100\n",
            "60/60 [==============================] - ETA: 0s - loss: 0.2339 - accuracy: 0.8156 - dice_coef: 0.7661 - iou: 0.6212 - recall: 0.4102 - precision: 0.9635\n",
            "Epoch 15: val_loss improved from 0.27742 to 0.27276, saving model to /content/drive/My Drive/CCE-AIMIA/DRIVE/files/model.h5\n",
            "60/60 [==============================] - 37s 622ms/step - loss: 0.2339 - accuracy: 0.8156 - dice_coef: 0.7661 - iou: 0.6212 - recall: 0.4102 - precision: 0.9635 - val_loss: 0.2728 - val_accuracy: 0.8127 - val_dice_coef: 0.7272 - val_iou: 0.5716 - val_recall: 0.3779 - val_precision: 0.9486 - lr: 1.0000e-04\n",
            "Epoch 16/100\n",
            "60/60 [==============================] - ETA: 0s - loss: 0.2270 - accuracy: 0.8159 - dice_coef: 0.7730 - iou: 0.6303 - recall: 0.4097 - precision: 0.9661\n",
            "Epoch 16: val_loss did not improve from 0.27276\n",
            "60/60 [==============================] - 33s 554ms/step - loss: 0.2270 - accuracy: 0.8159 - dice_coef: 0.7730 - iou: 0.6303 - recall: 0.4097 - precision: 0.9661 - val_loss: 0.2737 - val_accuracy: 0.8132 - val_dice_coef: 0.7263 - val_iou: 0.5705 - val_recall: 0.3610 - val_precision: 0.9571 - lr: 1.0000e-04\n",
            "Epoch 17/100\n",
            "60/60 [==============================] - ETA: 0s - loss: 0.2230 - accuracy: 0.8159 - dice_coef: 0.7770 - iou: 0.6356 - recall: 0.4102 - precision: 0.9662\n",
            "Epoch 17: val_loss did not improve from 0.27276\n",
            "60/60 [==============================] - 33s 555ms/step - loss: 0.2230 - accuracy: 0.8159 - dice_coef: 0.7770 - iou: 0.6356 - recall: 0.4102 - precision: 0.9662 - val_loss: 0.2811 - val_accuracy: 0.8128 - val_dice_coef: 0.7189 - val_iou: 0.5615 - val_recall: 0.3566 - val_precision: 0.9545 - lr: 1.0000e-04\n",
            "Epoch 18/100\n",
            "60/60 [==============================] - ETA: 0s - loss: 0.2180 - accuracy: 0.8161 - dice_coef: 0.7820 - iou: 0.6424 - recall: 0.4101 - precision: 0.9677\n",
            "Epoch 18: val_loss improved from 0.27276 to 0.27225, saving model to /content/drive/My Drive/CCE-AIMIA/DRIVE/files/model.h5\n",
            "60/60 [==============================] - 37s 624ms/step - loss: 0.2180 - accuracy: 0.8161 - dice_coef: 0.7820 - iou: 0.6424 - recall: 0.4101 - precision: 0.9677 - val_loss: 0.2722 - val_accuracy: 0.8132 - val_dice_coef: 0.7278 - val_iou: 0.5723 - val_recall: 0.3535 - val_precision: 0.9590 - lr: 1.0000e-04\n",
            "Epoch 19/100\n",
            "60/60 [==============================] - ETA: 0s - loss: 0.2093 - accuracy: 0.8167 - dice_coef: 0.7907 - iou: 0.6541 - recall: 0.4088 - precision: 0.9725\n",
            "Epoch 19: val_loss did not improve from 0.27225\n",
            "60/60 [==============================] - 33s 555ms/step - loss: 0.2093 - accuracy: 0.8167 - dice_coef: 0.7907 - iou: 0.6541 - recall: 0.4088 - precision: 0.9725 - val_loss: 0.2736 - val_accuracy: 0.8133 - val_dice_coef: 0.7264 - val_iou: 0.5707 - val_recall: 0.3460 - val_precision: 0.9633 - lr: 1.0000e-04\n",
            "Epoch 20/100\n",
            "60/60 [==============================] - ETA: 0s - loss: 0.2029 - accuracy: 0.8170 - dice_coef: 0.7971 - iou: 0.6629 - recall: 0.4092 - precision: 0.9749\n",
            "Epoch 20: val_loss improved from 0.27225 to 0.27032, saving model to /content/drive/My Drive/CCE-AIMIA/DRIVE/files/model.h5\n",
            "60/60 [==============================] - 38s 632ms/step - loss: 0.2029 - accuracy: 0.8170 - dice_coef: 0.7971 - iou: 0.6629 - recall: 0.4092 - precision: 0.9749 - val_loss: 0.2703 - val_accuracy: 0.8133 - val_dice_coef: 0.7297 - val_iou: 0.5747 - val_recall: 0.3525 - val_precision: 0.9604 - lr: 1.0000e-04\n",
            "Epoch 21/100\n",
            "60/60 [==============================] - ETA: 0s - loss: 0.1993 - accuracy: 0.8171 - dice_coef: 0.8007 - iou: 0.6679 - recall: 0.4092 - precision: 0.9755\n",
            "Epoch 21: val_loss did not improve from 0.27032\n",
            "60/60 [==============================] - 33s 542ms/step - loss: 0.1993 - accuracy: 0.8171 - dice_coef: 0.8007 - iou: 0.6679 - recall: 0.4092 - precision: 0.9755 - val_loss: 0.2774 - val_accuracy: 0.8127 - val_dice_coef: 0.7226 - val_iou: 0.5661 - val_recall: 0.3407 - val_precision: 0.9597 - lr: 1.0000e-04\n",
            "Epoch 22/100\n",
            "60/60 [==============================] - ETA: 0s - loss: 0.1984 - accuracy: 0.8170 - dice_coef: 0.8016 - iou: 0.6692 - recall: 0.4083 - precision: 0.9752\n",
            "Epoch 22: val_loss improved from 0.27032 to 0.26220, saving model to /content/drive/My Drive/CCE-AIMIA/DRIVE/files/model.h5\n",
            "60/60 [==============================] - 38s 633ms/step - loss: 0.1984 - accuracy: 0.8170 - dice_coef: 0.8016 - iou: 0.6692 - recall: 0.4083 - precision: 0.9752 - val_loss: 0.2622 - val_accuracy: 0.8131 - val_dice_coef: 0.7378 - val_iou: 0.5849 - val_recall: 0.3548 - val_precision: 0.9562 - lr: 1.0000e-04\n",
            "Epoch 23/100\n",
            "60/60 [==============================] - ETA: 0s - loss: 0.1986 - accuracy: 0.8169 - dice_coef: 0.8014 - iou: 0.6689 - recall: 0.4069 - precision: 0.9745\n",
            "Epoch 23: val_loss improved from 0.26220 to 0.25690, saving model to /content/drive/My Drive/CCE-AIMIA/DRIVE/files/model.h5\n",
            "60/60 [==============================] - 37s 611ms/step - loss: 0.1986 - accuracy: 0.8169 - dice_coef: 0.8014 - iou: 0.6689 - recall: 0.4069 - precision: 0.9745 - val_loss: 0.2569 - val_accuracy: 0.8129 - val_dice_coef: 0.7431 - val_iou: 0.5916 - val_recall: 0.3655 - val_precision: 0.9508 - lr: 1.0000e-04\n",
            "Epoch 24/100\n",
            "60/60 [==============================] - ETA: 0s - loss: 0.1933 - accuracy: 0.8172 - dice_coef: 0.8067 - iou: 0.6762 - recall: 0.4089 - precision: 0.9762\n",
            "Epoch 24: val_loss did not improve from 0.25690\n",
            "60/60 [==============================] - 34s 555ms/step - loss: 0.1933 - accuracy: 0.8172 - dice_coef: 0.8067 - iou: 0.6762 - recall: 0.4089 - precision: 0.9762 - val_loss: 0.2693 - val_accuracy: 0.8127 - val_dice_coef: 0.7307 - val_iou: 0.5760 - val_recall: 0.3384 - val_precision: 0.9582 - lr: 1.0000e-04\n",
            "Epoch 25/100\n",
            "60/60 [==============================] - ETA: 0s - loss: 0.1872 - accuracy: 0.8176 - dice_coef: 0.8128 - iou: 0.6850 - recall: 0.4086 - precision: 0.9794\n",
            "Epoch 25: val_loss did not improve from 0.25690\n",
            "60/60 [==============================] - 33s 553ms/step - loss: 0.1872 - accuracy: 0.8176 - dice_coef: 0.8128 - iou: 0.6850 - recall: 0.4086 - precision: 0.9794 - val_loss: 0.2573 - val_accuracy: 0.8133 - val_dice_coef: 0.7427 - val_iou: 0.5911 - val_recall: 0.3468 - val_precision: 0.9603 - lr: 1.0000e-04\n",
            "Epoch 26/100\n",
            "60/60 [==============================] - ETA: 0s - loss: 0.1826 - accuracy: 0.8178 - dice_coef: 0.8174 - iou: 0.6915 - recall: 0.4077 - precision: 0.9815\n",
            "Epoch 26: val_loss improved from 0.25690 to 0.25193, saving model to /content/drive/My Drive/CCE-AIMIA/DRIVE/files/model.h5\n",
            "60/60 [==============================] - 37s 617ms/step - loss: 0.1826 - accuracy: 0.8178 - dice_coef: 0.8174 - iou: 0.6915 - recall: 0.4077 - precision: 0.9815 - val_loss: 0.2519 - val_accuracy: 0.8135 - val_dice_coef: 0.7481 - val_iou: 0.5978 - val_recall: 0.3529 - val_precision: 0.9598 - lr: 1.0000e-04\n",
            "Epoch 27/100\n",
            "60/60 [==============================] - ETA: 0s - loss: 0.1811 - accuracy: 0.8178 - dice_coef: 0.8189 - iou: 0.6936 - recall: 0.4078 - precision: 0.9813\n",
            "Epoch 27: val_loss did not improve from 0.25193\n",
            "60/60 [==============================] - 33s 543ms/step - loss: 0.1811 - accuracy: 0.8178 - dice_coef: 0.8189 - iou: 0.6936 - recall: 0.4078 - precision: 0.9813 - val_loss: 0.2534 - val_accuracy: 0.8132 - val_dice_coef: 0.7466 - val_iou: 0.5960 - val_recall: 0.3517 - val_precision: 0.9573 - lr: 1.0000e-04\n",
            "Epoch 28/100\n",
            "60/60 [==============================] - ETA: 0s - loss: 0.1833 - accuracy: 0.8176 - dice_coef: 0.8167 - iou: 0.6905 - recall: 0.4077 - precision: 0.9793\n",
            "Epoch 28: val_loss did not improve from 0.25193\n",
            "60/60 [==============================] - 33s 555ms/step - loss: 0.1833 - accuracy: 0.8176 - dice_coef: 0.8167 - iou: 0.6905 - recall: 0.4077 - precision: 0.9793 - val_loss: 0.2570 - val_accuracy: 0.8129 - val_dice_coef: 0.7430 - val_iou: 0.5914 - val_recall: 0.3471 - val_precision: 0.9571 - lr: 1.0000e-04\n",
            "Epoch 29/100\n",
            "60/60 [==============================] - ETA: 0s - loss: 0.1832 - accuracy: 0.8175 - dice_coef: 0.8168 - iou: 0.6906 - recall: 0.4074 - precision: 0.9792\n",
            "Epoch 29: val_loss did not improve from 0.25193\n",
            "60/60 [==============================] - 33s 554ms/step - loss: 0.1832 - accuracy: 0.8175 - dice_coef: 0.8168 - iou: 0.6906 - recall: 0.4074 - precision: 0.9792 - val_loss: 0.2640 - val_accuracy: 0.8128 - val_dice_coef: 0.7360 - val_iou: 0.5825 - val_recall: 0.3360 - val_precision: 0.9604 - lr: 1.0000e-04\n",
            "Epoch 30/100\n",
            "60/60 [==============================] - ETA: 0s - loss: 0.1834 - accuracy: 0.8175 - dice_coef: 0.8166 - iou: 0.6904 - recall: 0.4072 - precision: 0.9787\n",
            "Epoch 30: val_loss did not improve from 0.25193\n",
            "60/60 [==============================] - 33s 557ms/step - loss: 0.1834 - accuracy: 0.8175 - dice_coef: 0.8166 - iou: 0.6904 - recall: 0.4072 - precision: 0.9787 - val_loss: 0.2549 - val_accuracy: 0.8131 - val_dice_coef: 0.7451 - val_iou: 0.5942 - val_recall: 0.3467 - val_precision: 0.9586 - lr: 1.0000e-04\n",
            "Epoch 31/100\n",
            "60/60 [==============================] - ETA: 0s - loss: 0.1794 - accuracy: 0.8177 - dice_coef: 0.8206 - iou: 0.6960 - recall: 0.4080 - precision: 0.9803\n",
            "Epoch 31: val_loss did not improve from 0.25193\n",
            "\n",
            "Epoch 31: ReduceLROnPlateau reducing learning rate to 9.999999747378752e-06.\n",
            "60/60 [==============================] - 33s 554ms/step - loss: 0.1794 - accuracy: 0.8177 - dice_coef: 0.8206 - iou: 0.6960 - recall: 0.4080 - precision: 0.9803 - val_loss: 0.2606 - val_accuracy: 0.8132 - val_dice_coef: 0.7394 - val_iou: 0.5870 - val_recall: 0.3339 - val_precision: 0.9655 - lr: 1.0000e-04\n",
            "Epoch 32/100\n",
            "60/60 [==============================] - ETA: 0s - loss: 0.1705 - accuracy: 0.8183 - dice_coef: 0.8295 - iou: 0.7090 - recall: 0.4081 - precision: 0.9851\n",
            "Epoch 32: val_loss improved from 0.25193 to 0.24235, saving model to /content/drive/My Drive/CCE-AIMIA/DRIVE/files/model.h5\n",
            "60/60 [==============================] - 36s 608ms/step - loss: 0.1705 - accuracy: 0.8183 - dice_coef: 0.8295 - iou: 0.7090 - recall: 0.4081 - precision: 0.9851 - val_loss: 0.2423 - val_accuracy: 0.8140 - val_dice_coef: 0.7577 - val_iou: 0.6102 - val_recall: 0.3537 - val_precision: 0.9652 - lr: 1.0000e-05\n",
            "Epoch 33/100\n",
            "60/60 [==============================] - ETA: 0s - loss: 0.1625 - accuracy: 0.8188 - dice_coef: 0.8375 - iou: 0.7207 - recall: 0.4091 - precision: 0.9889\n",
            "Epoch 33: val_loss did not improve from 0.24235\n",
            "60/60 [==============================] - 33s 555ms/step - loss: 0.1625 - accuracy: 0.8188 - dice_coef: 0.8375 - iou: 0.7207 - recall: 0.4091 - precision: 0.9889 - val_loss: 0.2439 - val_accuracy: 0.8141 - val_dice_coef: 0.7561 - val_iou: 0.6083 - val_recall: 0.3480 - val_precision: 0.9676 - lr: 1.0000e-05\n",
            "Epoch 34/100\n",
            "60/60 [==============================] - ETA: 0s - loss: 0.1594 - accuracy: 0.8189 - dice_coef: 0.8406 - iou: 0.7253 - recall: 0.4090 - precision: 0.9904\n",
            "Epoch 34: val_loss did not improve from 0.24235\n",
            "60/60 [==============================] - 33s 544ms/step - loss: 0.1594 - accuracy: 0.8189 - dice_coef: 0.8406 - iou: 0.7253 - recall: 0.4090 - precision: 0.9904 - val_loss: 0.2451 - val_accuracy: 0.8141 - val_dice_coef: 0.7549 - val_iou: 0.6068 - val_recall: 0.3447 - val_precision: 0.9688 - lr: 1.0000e-05\n",
            "Epoch 35/100\n",
            "60/60 [==============================] - ETA: 0s - loss: 0.1571 - accuracy: 0.8191 - dice_coef: 0.8429 - iou: 0.7287 - recall: 0.4090 - precision: 0.9915\n",
            "Epoch 35: val_loss did not improve from 0.24235\n",
            "60/60 [==============================] - 33s 543ms/step - loss: 0.1571 - accuracy: 0.8191 - dice_coef: 0.8429 - iou: 0.7287 - recall: 0.4090 - precision: 0.9915 - val_loss: 0.2459 - val_accuracy: 0.8141 - val_dice_coef: 0.7541 - val_iou: 0.6057 - val_recall: 0.3428 - val_precision: 0.9693 - lr: 1.0000e-05\n",
            "Epoch 36/100\n",
            "60/60 [==============================] - ETA: 0s - loss: 0.1553 - accuracy: 0.8192 - dice_coef: 0.8447 - iou: 0.7314 - recall: 0.4089 - precision: 0.9922\n",
            "Epoch 36: val_loss did not improve from 0.24235\n",
            "60/60 [==============================] - 33s 543ms/step - loss: 0.1553 - accuracy: 0.8192 - dice_coef: 0.8447 - iou: 0.7314 - recall: 0.4089 - precision: 0.9922 - val_loss: 0.2464 - val_accuracy: 0.8140 - val_dice_coef: 0.7536 - val_iou: 0.6051 - val_recall: 0.3419 - val_precision: 0.9694 - lr: 1.0000e-05\n",
            "Epoch 37/100\n",
            "60/60 [==============================] - ETA: 0s - loss: 0.1538 - accuracy: 0.8192 - dice_coef: 0.8462 - iou: 0.7337 - recall: 0.4088 - precision: 0.9928\n",
            "Epoch 37: val_loss did not improve from 0.24235\n",
            "\n",
            "Epoch 37: ReduceLROnPlateau reducing learning rate to 1e-06.\n",
            "60/60 [==============================] - 33s 542ms/step - loss: 0.1538 - accuracy: 0.8192 - dice_coef: 0.8462 - iou: 0.7337 - recall: 0.4088 - precision: 0.9928 - val_loss: 0.2468 - val_accuracy: 0.8140 - val_dice_coef: 0.7532 - val_iou: 0.6046 - val_recall: 0.3413 - val_precision: 0.9694 - lr: 1.0000e-05\n",
            "Epoch 38/100\n",
            "60/60 [==============================] - ETA: 0s - loss: 0.1526 - accuracy: 0.8193 - dice_coef: 0.8474 - iou: 0.7354 - recall: 0.4064 - precision: 0.9935\n",
            "Epoch 38: val_loss did not improve from 0.24235\n",
            "60/60 [==============================] - 33s 542ms/step - loss: 0.1526 - accuracy: 0.8193 - dice_coef: 0.8474 - iou: 0.7354 - recall: 0.4064 - precision: 0.9935 - val_loss: 0.2444 - val_accuracy: 0.8140 - val_dice_coef: 0.7556 - val_iou: 0.6076 - val_recall: 0.3470 - val_precision: 0.9673 - lr: 1.0000e-06\n",
            "Epoch 39/100\n",
            "60/60 [==============================] - ETA: 0s - loss: 0.1523 - accuracy: 0.8193 - dice_coef: 0.8477 - iou: 0.7359 - recall: 0.4084 - precision: 0.9934\n",
            "Epoch 39: val_loss did not improve from 0.24235\n",
            "60/60 [==============================] - 33s 543ms/step - loss: 0.1523 - accuracy: 0.8193 - dice_coef: 0.8477 - iou: 0.7359 - recall: 0.4084 - precision: 0.9934 - val_loss: 0.2441 - val_accuracy: 0.8140 - val_dice_coef: 0.7559 - val_iou: 0.6080 - val_recall: 0.3480 - val_precision: 0.9669 - lr: 1.0000e-06\n",
            "Epoch 40/100\n",
            "60/60 [==============================] - ETA: 0s - loss: 0.1521 - accuracy: 0.8193 - dice_coef: 0.8479 - iou: 0.7362 - recall: 0.4087 - precision: 0.9934\n",
            "Epoch 40: val_loss did not improve from 0.24235\n",
            "60/60 [==============================] - 33s 542ms/step - loss: 0.1521 - accuracy: 0.8193 - dice_coef: 0.8479 - iou: 0.7362 - recall: 0.4087 - precision: 0.9934 - val_loss: 0.2442 - val_accuracy: 0.8140 - val_dice_coef: 0.7558 - val_iou: 0.6079 - val_recall: 0.3480 - val_precision: 0.9668 - lr: 1.0000e-06\n",
            "Epoch 41/100\n",
            "60/60 [==============================] - ETA: 0s - loss: 0.1520 - accuracy: 0.8193 - dice_coef: 0.8480 - iou: 0.7364 - recall: 0.4087 - precision: 0.9935\n",
            "Epoch 41: val_loss did not improve from 0.24235\n",
            "60/60 [==============================] - 32s 539ms/step - loss: 0.1520 - accuracy: 0.8193 - dice_coef: 0.8480 - iou: 0.7364 - recall: 0.4087 - precision: 0.9935 - val_loss: 0.2442 - val_accuracy: 0.8140 - val_dice_coef: 0.7558 - val_iou: 0.6078 - val_recall: 0.3479 - val_precision: 0.9668 - lr: 1.0000e-06\n",
            "Epoch 42/100\n",
            "60/60 [==============================] - ETA: 0s - loss: 0.1518 - accuracy: 0.8193 - dice_coef: 0.8482 - iou: 0.7367 - recall: 0.4087 - precision: 0.9935\n",
            "Epoch 42: val_loss did not improve from 0.24235\n",
            "60/60 [==============================] - 33s 554ms/step - loss: 0.1518 - accuracy: 0.8193 - dice_coef: 0.8482 - iou: 0.7367 - recall: 0.4087 - precision: 0.9935 - val_loss: 0.2443 - val_accuracy: 0.8140 - val_dice_coef: 0.7557 - val_iou: 0.6078 - val_recall: 0.3479 - val_precision: 0.9668 - lr: 1.0000e-06\n"
          ]
        }
      ]
    },
    {
      "cell_type": "code",
      "source": [
        "\n",
        "H = 512\n",
        "W = 512\n",
        "\n",
        "def read_image(path):\n",
        "    x = cv2.imread(path, cv2.IMREAD_COLOR)\n",
        "    # x = cv2.resize(x, (W, H))\n",
        "    ori_x = x\n",
        "    x = x/255.0\n",
        "    x = x.astype(np.float32)\n",
        "    return ori_x, x\n",
        "\n",
        "def read_mask(path):\n",
        "    x = cv2.imread(path, cv2.IMREAD_GRAYSCALE)  ## (512, 512)\n",
        "    # x = cv2.resize(x, (W, H))\n",
        "    ori_x = x\n",
        "    x = x/255.0\n",
        "    x = x.astype(np.int32)\n",
        "    return ori_x, x\n",
        "\n",
        "def load_data(path):\n",
        "    x = sorted(glob(os.path.join(path, \"image\", \"*.jpg\")))\n",
        "    y = sorted(glob(os.path.join(path, \"mask\", \"*.jpg\")))\n",
        "    return x, y\n",
        "\n",
        "def save_results(ori_x, ori_y, y_pred, save_image_path):\n",
        "    line = np.ones((H, 10, 3)) * 255\n",
        "\n",
        "    ori_y = np.expand_dims(ori_y, axis=-1)\n",
        "    ori_y = np.concatenate([ori_y, ori_y, ori_y], axis=-1)\n",
        "\n",
        "    y_pred = np.expand_dims(y_pred, axis=-1)\n",
        "    y_pred = np.concatenate([y_pred, y_pred, y_pred], axis=-1) * 255\n",
        "\n",
        "    cat_images = np.concatenate([ori_x, line, ori_y, line, y_pred], axis=1)\n",
        "    cv2.imwrite(save_image_path, cat_images)\n",
        "\n",
        "if __name__ == \"__main__\":\n",
        "    \"\"\" Save the results in this folder \"\"\"\n",
        "    create_dir(\"/content/drive/My Drive/CCE-AIMIA/DRIVE/files/results\")\n",
        "\n",
        "    \"\"\" Load the model \"\"\"\n",
        "    with CustomObjectScope({'iou': iou, 'dice_coef': dice_coef, 'dice_loss': dice_loss}):\n",
        "        model = tf.keras.models.load_model(\"/content/drive/My Drive/CCE-AIMIA/DRIVE/files/model.h5\")\n",
        "\n",
        "    \"\"\" Load the dataset \"\"\"\n",
        "    dataset_path = os.path.join(\"/content/drive/My Drive/CCE-AIMIA/DRIVE/new_data\", \"test\")\n",
        "    test_x, test_y = load_data(dataset_path)\n",
        "\n",
        "    \"\"\" Make the prediction and calculate the metrics values \"\"\"\n",
        "    SCORE = []\n",
        "    for x, y in tqdm(zip(test_x, test_y), total=len(test_x)):\n",
        "        \"\"\" Extracting name \"\"\"\n",
        "        name = x.split(\"/\")[-1].split(\".\")[0]\n",
        "\n",
        "        \"\"\" Read the image and mask \"\"\"\n",
        "        ori_x, x = read_image(x)\n",
        "        ori_y, y = read_mask(y)\n",
        "\n",
        "        \"\"\" Prediction \"\"\"\n",
        "        y_pred = model.predict(np.expand_dims(x, axis=0))[0]\n",
        "        y_pred = y_pred > 0.5\n",
        "        y_pred = y_pred.astype(np.int32)\n",
        "        y_pred = np.squeeze(y_pred, axis=-1)\n",
        "\n",
        "        \"\"\" Saving the images \"\"\"\n",
        "        save_image_path = f\"/content/drive/My Drive/CCE-AIMIA/DRIVE/files/results1/{name}.png\"\n",
        "        save_results(ori_x, ori_y, y_pred, save_image_path)\n",
        "\n",
        "        \"\"\" Flatten the array \"\"\"\n",
        "        y = y.flatten()\n",
        "        y_pred = y_pred.flatten()\n",
        "\n",
        "        \"\"\" Calculate the metrics \"\"\"\n",
        "        acc_value = accuracy_score(y, y_pred)\n",
        "        f1_value = f1_score(y, y_pred, labels=[0, 1], average=\"binary\")\n",
        "        jac_value = jaccard_score(y, y_pred, labels=[0, 1], average=\"binary\")\n",
        "        recall_value = recall_score(y, y_pred, labels=[0, 1], average=\"binary\")\n",
        "        precision_value = precision_score(y, y_pred, labels=[0, 1], average=\"binary\")\n",
        "        SCORE.append([name, acc_value, f1_value, jac_value, recall_value, precision_value])\n",
        "\n",
        "    score = [s[1:] for s in SCORE]\n",
        "    score = np.mean(score, axis=0)\n",
        "    print(f\"Accuracy: {score[0]:0.5f}\")\n",
        "    print(f\"F1: {score[1]:0.5f}\")\n",
        "    print(f\"Jaccard: {score[2]:0.5f}\")\n",
        "    print(f\"Recall: {score[3]:0.5f}\")\n",
        "    print(f\"Precision: {score[4]:0.5f}\")\n",
        "\n",
        "    \"\"\" Saving \"\"\"\n",
        "    df = pd.DataFrame(SCORE, columns=[\"Image\", \"Acc\", \"F1\", \"Jaccard\", \"Recall\", \"Precision\"])\n",
        "    df.to_csv(\"/content/drive/My Drive/CCE-AIMIA/DRIVE/files/score.csv\")"
      ],
      "metadata": {
        "colab": {
          "base_uri": "https://localhost:8080/"
        },
        "id": "LmvT1E73UxGu",
        "outputId": "1f055a0d-5770-43e4-b7db-14c4bf339f32"
      },
      "execution_count": 8,
      "outputs": [
        {
          "output_type": "stream",
          "name": "stderr",
          "text": [
            "\r  0%|          | 0/20 [00:00<?, ?it/s]"
          ]
        },
        {
          "output_type": "stream",
          "name": "stdout",
          "text": [
            "1/1 [==============================] - 4s 4s/step\n"
          ]
        },
        {
          "output_type": "stream",
          "name": "stderr",
          "text": [
            "\r  5%|▌         | 1/20 [00:05<01:49,  5.74s/it]"
          ]
        },
        {
          "output_type": "stream",
          "name": "stdout",
          "text": [
            "1/1 [==============================] - 0s 19ms/step\n"
          ]
        },
        {
          "output_type": "stream",
          "name": "stderr",
          "text": [
            "\r 10%|█         | 2/20 [00:06<00:47,  2.61s/it]"
          ]
        },
        {
          "output_type": "stream",
          "name": "stdout",
          "text": [
            "1/1 [==============================] - 0s 19ms/step\n"
          ]
        },
        {
          "output_type": "stream",
          "name": "stderr",
          "text": [
            "\r 15%|█▌        | 3/20 [00:06<00:27,  1.59s/it]"
          ]
        },
        {
          "output_type": "stream",
          "name": "stdout",
          "text": [
            "1/1 [==============================] - 0s 19ms/step\n"
          ]
        },
        {
          "output_type": "stream",
          "name": "stderr",
          "text": [
            "\r 20%|██        | 4/20 [00:06<00:17,  1.12s/it]"
          ]
        },
        {
          "output_type": "stream",
          "name": "stdout",
          "text": [
            "1/1 [==============================] - 0s 28ms/step\n"
          ]
        },
        {
          "output_type": "stream",
          "name": "stderr",
          "text": [
            "\r 25%|██▌       | 5/20 [00:07<00:12,  1.17it/s]"
          ]
        },
        {
          "output_type": "stream",
          "name": "stdout",
          "text": [
            "1/1 [==============================] - 0s 19ms/step\n"
          ]
        },
        {
          "output_type": "stream",
          "name": "stderr",
          "text": [
            "\r 30%|███       | 6/20 [00:07<00:09,  1.41it/s]"
          ]
        },
        {
          "output_type": "stream",
          "name": "stdout",
          "text": [
            "1/1 [==============================] - 0s 18ms/step\n"
          ]
        },
        {
          "output_type": "stream",
          "name": "stderr",
          "text": [
            "\r 35%|███▌      | 7/20 [00:08<00:07,  1.66it/s]"
          ]
        },
        {
          "output_type": "stream",
          "name": "stdout",
          "text": [
            "1/1 [==============================] - 0s 20ms/step\n"
          ]
        },
        {
          "output_type": "stream",
          "name": "stderr",
          "text": [
            "\r 40%|████      | 8/20 [00:08<00:06,  1.89it/s]"
          ]
        },
        {
          "output_type": "stream",
          "name": "stdout",
          "text": [
            "1/1 [==============================] - 0s 18ms/step\n"
          ]
        },
        {
          "output_type": "stream",
          "name": "stderr",
          "text": [
            "\r 45%|████▌     | 9/20 [00:08<00:05,  2.07it/s]"
          ]
        },
        {
          "output_type": "stream",
          "name": "stdout",
          "text": [
            "1/1 [==============================] - 0s 19ms/step\n"
          ]
        },
        {
          "output_type": "stream",
          "name": "stderr",
          "text": [
            "\r 50%|█████     | 10/20 [00:09<00:04,  2.21it/s]"
          ]
        },
        {
          "output_type": "stream",
          "name": "stdout",
          "text": [
            "1/1 [==============================] - 0s 20ms/step\n"
          ]
        },
        {
          "output_type": "stream",
          "name": "stderr",
          "text": [
            "\r 55%|█████▌    | 11/20 [00:09<00:03,  2.34it/s]"
          ]
        },
        {
          "output_type": "stream",
          "name": "stdout",
          "text": [
            "1/1 [==============================] - 0s 18ms/step\n"
          ]
        },
        {
          "output_type": "stream",
          "name": "stderr",
          "text": [
            "\r 60%|██████    | 12/20 [00:10<00:03,  2.43it/s]"
          ]
        },
        {
          "output_type": "stream",
          "name": "stdout",
          "text": [
            "1/1 [==============================] - 0s 26ms/step\n"
          ]
        },
        {
          "output_type": "stream",
          "name": "stderr",
          "text": [
            "\r 65%|██████▌   | 13/20 [00:10<00:02,  2.48it/s]"
          ]
        },
        {
          "output_type": "stream",
          "name": "stdout",
          "text": [
            "1/1 [==============================] - 0s 18ms/step\n"
          ]
        },
        {
          "output_type": "stream",
          "name": "stderr",
          "text": [
            "\r 70%|███████   | 14/20 [00:10<00:02,  2.53it/s]"
          ]
        },
        {
          "output_type": "stream",
          "name": "stdout",
          "text": [
            "1/1 [==============================] - 0s 18ms/step\n"
          ]
        },
        {
          "output_type": "stream",
          "name": "stderr",
          "text": [
            "\r 75%|███████▌  | 15/20 [00:11<00:01,  2.56it/s]"
          ]
        },
        {
          "output_type": "stream",
          "name": "stdout",
          "text": [
            "1/1 [==============================] - 0s 18ms/step\n"
          ]
        },
        {
          "output_type": "stream",
          "name": "stderr",
          "text": [
            "\r 80%|████████  | 16/20 [00:11<00:01,  2.57it/s]"
          ]
        },
        {
          "output_type": "stream",
          "name": "stdout",
          "text": [
            "1/1 [==============================] - 0s 18ms/step\n"
          ]
        },
        {
          "output_type": "stream",
          "name": "stderr",
          "text": [
            "\r 85%|████████▌ | 17/20 [00:11<00:01,  2.58it/s]"
          ]
        },
        {
          "output_type": "stream",
          "name": "stdout",
          "text": [
            "1/1 [==============================] - 0s 20ms/step\n"
          ]
        },
        {
          "output_type": "stream",
          "name": "stderr",
          "text": [
            "\r 90%|█████████ | 18/20 [00:12<00:00,  2.57it/s]"
          ]
        },
        {
          "output_type": "stream",
          "name": "stdout",
          "text": [
            "1/1 [==============================] - 0s 18ms/step\n"
          ]
        },
        {
          "output_type": "stream",
          "name": "stderr",
          "text": [
            "\r 95%|█████████▌| 19/20 [00:12<00:00,  2.50it/s]"
          ]
        },
        {
          "output_type": "stream",
          "name": "stdout",
          "text": [
            "1/1 [==============================] - 0s 19ms/step\n"
          ]
        },
        {
          "output_type": "stream",
          "name": "stderr",
          "text": [
            "100%|██████████| 20/20 [00:13<00:00,  1.52it/s]"
          ]
        },
        {
          "output_type": "stream",
          "name": "stdout",
          "text": [
            "Accuracy: 0.94823\n",
            "F1: 0.53702\n",
            "Jaccard: 0.36777\n",
            "Recall: 0.89394\n",
            "Precision: 0.38696\n"
          ]
        },
        {
          "output_type": "stream",
          "name": "stderr",
          "text": [
            "\n"
          ]
        }
      ]
    },
    {
      "cell_type": "code",
      "source": [
        "import matplotlib.pyplot as plt\n",
        "#plot the training and validation accuracy and loss at each epoch\n",
        "loss = history.history['loss']\n",
        "val_loss = history.history['val_loss']\n",
        "epochs = range(1, len(loss) + 1)\n",
        "plt.plot(epochs, loss, 'y', label='Training loss')\n",
        "plt.plot(epochs, val_loss, 'r', label='Validation loss')\n",
        "plt.title('Training and validation loss')\n",
        "plt.xlabel('Epochs')\n",
        "plt.ylabel('Loss')\n",
        "plt.legend()\n",
        "plt.show()\n",
        "\n",
        "acc = history.history['accuracy']\n",
        "val_acc = history.history['val_accuracy']\n",
        "\n",
        "plt.plot(epochs, acc, 'y', label='Training Accuracy')\n",
        "plt.plot(epochs, val_acc, 'r', label='Validation Accuracy')\n",
        "plt.title('Training and validation Accuracy')\n",
        "plt.xlabel('Epochs')\n",
        "plt.ylabel('Accuracy')\n",
        "plt.legend()\n",
        "plt.show()"
      ],
      "metadata": {
        "colab": {
          "base_uri": "https://localhost:8080/",
          "height": 573
        },
        "id": "DYXpQUymErUc",
        "outputId": "443056ec-a1e6-46bb-dfe0-6553d02e3051"
      },
      "execution_count": 9,
      "outputs": [
        {
          "output_type": "display_data",
          "data": {
            "text/plain": [
              "<Figure size 432x288 with 1 Axes>"
            ],
            "image/png": "[encoded data removed]"
          },
          "metadata": {
            "needs_background": "light"
          }
        },
        {
          "output_type": "display_data",
          "data": {
            "text/plain": [
              "<Figure size 432x288 with 1 Axes>"
            ],
            "image/png": "[encoded data removed]"
          },
          "metadata": {
            "needs_background": "light"
          }
        }
      ]
    },
    {
      "cell_type": "code",
      "source": [
        "!nvidia-smi"
      ],
      "metadata": {
        "colab": {
          "base_uri": "https://localhost:8080/"
        },
        "id": "kCsEtEVCG1iX",
        "outputId": "9cebe0e8-6900-4b12-fcc4-a88bc1bc2859"
      },
      "execution_count": 7,
      "outputs": [
        {
          "output_type": "stream",
          "name": "stdout",
          "text": [
            "Sat Dec 17 13:07:11 2022       \n",
            "+-----------------------------------------------------------------------------+\n",
            "| NVIDIA-SMI 460.32.03    Driver Version: 460.32.03    CUDA Version: 11.2     |\n",
            "|-------------------------------+----------------------+----------------------+\n",
            "| GPU  Name        Persistence-M| Bus-Id        Disp.A | Volatile Uncorr. ECC |\n",
            "| Fan  Temp  Perf  Pwr:Usage/Cap|         Memory-Usage | GPU-Util  Compute M. |\n",
            "|                               |                      |               MIG M. |\n",
            "|===============================+======================+======================|\n",
            "|   0  Tesla T4            Off  | 00000000:00:04.0 Off |                    0 |\n",
            "| N/A   75C    P0    30W /  70W |  10098MiB / 15109MiB |      0%      Default |\n",
            "|                               |                      |                  N/A |\n",
            "+-------------------------------+----------------------+----------------------+\n",
            "                                                                               \n",
            "+-----------------------------------------------------------------------------+\n",
            "| Processes:                                                                  |\n",
            "|  GPU   GI   CI        PID   Type   Process name                  GPU Memory |\n",
            "|        ID   ID                                                   Usage      |\n",
            "|=============================================================================|\n",
            "+-----------------------------------------------------------------------------+\n"
          ]
        }
      ]
    },
    {
      "cell_type": "code",
      "source": [],
      "metadata": {
        "id": "c4_fAWPFG30I"
      },
      "execution_count": null,
      "outputs": []
    }
  ]
}