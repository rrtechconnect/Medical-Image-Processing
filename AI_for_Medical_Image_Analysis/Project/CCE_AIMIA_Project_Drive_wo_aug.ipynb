{
  "nbformat": 4,
  "nbformat_minor": 0,
  "metadata": {
    "colab": {
      "provenance": []
    },
    "kernelspec": {
      "name": "python3",
      "display_name": "Python 3"
    },
    "language_info": {
      "name": "python"
    },
    "accelerator": "GPU",
    "gpuClass": "standard"
  },
  "cells": [
    {
      "cell_type": "code",
      "source": [
        "from google.colab import drive\n",
        "drive.mount('/content/drive')\n",
        "import numpy as np\n",
        "import scipy.io"
      ],
      "metadata": {
        "id": "9EzG2NTPsFEY",
        "colab": {
          "base_uri": "https://localhost:8080/"
        },
        "outputId": "ecc7f531-1315-4a54-d792-dc1b926711e3"
      },
      "execution_count": null,
      "outputs": [
        {
          "output_type": "stream",
          "name": "stdout",
          "text": [
            "Drive already mounted at /content/drive; to attempt to forcibly remount, call drive.mount(\"/content/drive\", force_remount=True).\n"
          ]
        }
      ]
    },
    {
      "cell_type": "code",
      "source": [
        "data_path = '/content/drive/My Drive/CCE-AIMIA-2022/DRIVE/'"
      ],
      "metadata": {
        "id": "0zs1FUfMushq"
      },
      "execution_count": null,
      "outputs": []
    },
    {
      "cell_type": "code",
      "source": [
        "import os\n",
        "import numpy as np\n",
        "import cv2\n",
        "from glob import glob\n",
        "from tqdm import tqdm\n",
        "import imageio\n",
        "import tensorflow as tf\n",
        "from tensorflow.keras import backend as K\n",
        "from albumentations import HorizontalFlip, VerticalFlip, ElasticTransform, GridDistortion, OpticalDistortion, CoarseDropout\n",
        "from tensorflow.keras.layers import Conv2D, BatchNormalization, Activation, MaxPool2D, Conv2DTranspose, Concatenate, Input\n",
        "from tensorflow.keras.models import Model\n",
        "os.environ[\"TF_CPP_MIN_LOG_LEVEL\"] = \"2\"\n",
        "from sklearn.utils import shuffle\n",
        "from tensorflow.keras.callbacks import ModelCheckpoint, CSVLogger, ReduceLROnPlateau, EarlyStopping, TensorBoard\n",
        "from tensorflow.keras.optimizers import Adam\n",
        "from tensorflow.keras.metrics import Recall, Precision\n",
        "import pandas as pd\n",
        "from tensorflow.keras.utils import CustomObjectScope\n",
        "from sklearn.metrics import accuracy_score, f1_score, jaccard_score, precision_score, recall_score\n",
        "\n",
        "def create_dir(path):\n",
        "    if not os.path.exists(path):\n",
        "        os.makedirs(path)\n",
        "\n",
        "train_dir_path = data_path+\"Training/\"\n",
        "train_images_path = train_dir_path +\"images/\"\n",
        "test_dir_path = data_path+\"Testing/\"\n",
        "test_images_path =test_dir_path+\"images/\"\n",
        "train_gt_path = train_dir_path+\"1st_manual/\"\n",
        "test_gt_path = test_dir_path +\"1st_manual/\"\n",
        "\n",
        "def load_data(path):\n",
        "    \"\"\" X = Images and Y = masks \"\"\"\n",
        "    train_x = sorted(glob(train_images_path+\"*.tif\"))\n",
        "    train_y = sorted(glob(train_gt_path+\"*.gif\"))\n",
        "    test_x = sorted(glob(test_images_path+\"*.tif\"))\n",
        "    test_y = sorted(glob(test_gt_path+\"*.gif\"))\n",
        "    return (train_x, train_y), (test_x, test_y)\n",
        "\n",
        "def augment_data(images, masks, save_path, augment=False):\n",
        "    H = 512\n",
        "    W = 512\n",
        "\n",
        "    for idx, (x, y) in tqdm(enumerate(zip(images, masks)), total=len(images)):\n",
        "        \"\"\" Extracting names \"\"\"\n",
        "        name = x.split(\"/\")[-1].split(\".\")[0]\n",
        "\n",
        "        \"\"\" Reading image and mask \"\"\"\n",
        "        x = cv2.imread(x, cv2.IMREAD_COLOR)\n",
        "        y = imageio.mimread(y)[0]\n",
        "\n",
        "        if augment == True:\n",
        "            aug = HorizontalFlip(p=1.0)\n",
        "            augmented = aug(image=x, mask=y)\n",
        "            x1 = augmented[\"image\"]\n",
        "            y1 = augmented[\"mask\"]\n",
        "\n",
        "            aug = VerticalFlip(p=1.0)\n",
        "            augmented = aug(image=x, mask=y)\n",
        "            x2 = augmented[\"image\"]\n",
        "            y2 = augmented[\"mask\"]\n",
        "\n",
        "            aug = ElasticTransform(p=1, alpha=120, sigma=120 * 0.05, alpha_affine=120 * 0.03)\n",
        "            augmented = aug(image=x, mask=y)\n",
        "            x3 = augmented['image']\n",
        "            y3 = augmented['mask']\n",
        "\n",
        "            aug = GridDistortion(p=1)\n",
        "            augmented = aug(image=x, mask=y)\n",
        "            x4 = augmented['image']\n",
        "            y4 = augmented['mask']\n",
        "\n",
        "            aug = OpticalDistortion(p=1, distort_limit=2, shift_limit=0.5)\n",
        "            augmented = aug(image=x, mask=y)\n",
        "            x5 = augmented['image']\n",
        "            y5 = augmented['mask']\n",
        "\n",
        "            X = [x, x1, x2, x3, x4, x5]\n",
        "            Y = [y, y1, y2, y3, y4, y5]\n",
        "\n",
        "        else:\n",
        "            X = [x]\n",
        "            Y = [y]\n",
        "\n",
        "        index = 0\n",
        "        for i, m in zip(X, Y):\n",
        "            i = cv2.resize(i, (W, H))\n",
        "            m = cv2.resize(m, (W, H))\n",
        "\n",
        "            if len(X) == 1:\n",
        "                tmp_image_name = f\"{name}.jpg\"\n",
        "                tmp_mask_name = f\"{name}.jpg\"\n",
        "            else:\n",
        "                tmp_image_name = f\"{name}_{index}.jpg\"\n",
        "                tmp_mask_name = f\"{name}_{index}.jpg\"\n",
        "\n",
        "            image_path = os.path.join(save_path, \"image\", tmp_image_name)\n",
        "            mask_path = os.path.join(save_path, \"mask\", tmp_mask_name)\n",
        "\n",
        "            cv2.imwrite(image_path, i)\n",
        "            cv2.imwrite(mask_path, m)\n",
        "\n",
        "            index += 1\n",
        "\n",
        "if __name__ == \"__main__\":\n",
        "    \"\"\" Seeding \"\"\"\n",
        "    np.random.seed(42)\n",
        "\n",
        "    \"\"\" Load the data \"\"\"\n",
        "    data_path = \"/content/drive/My Drive/CCE-AIMIA-2022/DRIVE/\"\n",
        "    (train_x, train_y), (test_x, test_y) = load_data(data_path)\n",
        "\n",
        "    print(f\"No. of Training images: {len(train_x)}\")\n",
        "    print(f\"No. of Training masks: {len(train_y)}\")\n",
        "    print(f\"No.Testing images: {len(test_x)}\")\n",
        "    print(f\"No.Testing masks:  {len(test_y)}\")\n",
        "    \"\"\" Creating directories \"\"\"\n",
        "    create_dir(\"/content/drive/My Drive/CCE-AIMIA-2022/DRIVE/new_data2/train/image\")\n",
        "    create_dir(\"/content/drive/My Drive/CCE-AIMIA-2022/DRIVE/new_data2/train/mask\")\n",
        "    create_dir(\"/content/drive/My Drive/CCE-AIMIA-2022/DRIVE/new_data2/test/image\")\n",
        "    create_dir(\"/content/drive/My Drive/CCE-AIMIA-2022/DRIVE/new_data2/test/mask\")\n",
        "\n",
        "    augment_data(train_x, train_y, \"/content/drive/My Drive/CCE-AIMIA-2022/DRIVE/new_data2/train/\", augment=False)\n",
        "    augment_data(test_x, test_y, \"/content/drive/My Drive/CCE-AIMIA-2022/DRIVE/new_data2/test/\", augment=False)"
      ],
      "metadata": {
        "colab": {
          "base_uri": "https://localhost:8080/"
        },
        "id": "3E0jmLR9-6tr",
        "outputId": "d51b9be8-e60e-4633-d680-bb4d808f505b"
      },
      "execution_count": null,
      "outputs": [
        {
          "output_type": "stream",
          "name": "stdout",
          "text": [
            "No. of Training images: 20\n",
            "No. of Training masks: 20\n",
            "No.Testing images: 20\n",
            "No.Testing masks:  20\n"
          ]
        },
        {
          "output_type": "stream",
          "name": "stderr",
          "text": [
            "100%|██████████| 20/20 [00:00<00:00, 28.09it/s]\n",
            "100%|██████████| 20/20 [00:00<00:00, 28.34it/s]\n"
          ]
        }
      ]
    },
    {
      "cell_type": "code",
      "source": [
        "def conv_block(inputs, num_filters):\n",
        "    x = Conv2D(num_filters, 3, padding=\"same\")(inputs)\n",
        "    x = BatchNormalization()(x)\n",
        "    x = Activation(\"relu\")(x)\n",
        "\n",
        "    x = Conv2D(num_filters, 3, padding=\"same\")(x)\n",
        "    x = BatchNormalization()(x)\n",
        "    x = Activation(\"relu\")(x)\n",
        "\n",
        "    return x\n",
        "\n",
        "def encoder_block(inputs, num_filters):\n",
        "    x = conv_block(inputs, num_filters)\n",
        "    p = MaxPool2D((2, 2))(x)\n",
        "    return x, p\n",
        "\n",
        "def decoder_block(inputs, skip_features, num_filters):\n",
        "    x = Conv2DTranspose(num_filters, (2, 2), strides=2, padding=\"same\")(inputs)\n",
        "    x = Concatenate()([x, skip_features])\n",
        "    x = conv_block(x, num_filters)\n",
        "    return x\n",
        "\n",
        "def build_unet(input_shape):\n",
        "    inputs = Input(input_shape)\n",
        "\n",
        "    s1, p1 = encoder_block(inputs, 64)\n",
        "    s2, p2 = encoder_block(p1, 128)\n",
        "    s3, p3 = encoder_block(p2, 256)\n",
        "    s4, p4 = encoder_block(p3, 512)\n",
        "\n",
        "    b1 = conv_block(p4, 1024)\n",
        "\n",
        "    d1 = decoder_block(b1, s4, 512)\n",
        "    d2 = decoder_block(d1, s3, 256)\n",
        "    d3 = decoder_block(d2, s2, 128)\n",
        "    d4 = decoder_block(d3, s1, 64)\n",
        "\n",
        "    outputs = Conv2D(1, 1, padding=\"same\", activation=\"sigmoid\")(d4)\n",
        "\n",
        "    model = Model(inputs, outputs, name=\"UNET\")\n",
        "    return model\n",
        "\n",
        "if __name__ == \"__main__\":\n",
        "    input_shape = (512, 512, 3)\n",
        "    model = build_unet(input_shape)\n",
        "    model.summary()"
      ],
      "metadata": {
        "colab": {
          "base_uri": "https://localhost:8080/"
        },
        "id": "XNyhrjYCCNPV",
        "outputId": "e2d5d911-1ab5-4cbf-9cd9-2419ef04fa6d"
      },
      "execution_count": null,
      "outputs": [
        {
          "output_type": "stream",
          "name": "stdout",
          "text": [
            "Model: \"UNET\"\n",
            "__________________________________________________________________________________________________\n",
            " Layer (type)                   Output Shape         Param #     Connected to                     \n",
            "==================================================================================================\n",
            " input_7 (InputLayer)           [(None, 512, 512, 3  0           []                               \n",
            "                                )]                                                                \n",
            "                                                                                                  \n",
            " conv2d_114 (Conv2D)            (None, 512, 512, 64  1792        ['input_7[0][0]']                \n",
            "                                )                                                                 \n",
            "                                                                                                  \n",
            " batch_normalization_108 (Batch  (None, 512, 512, 64  256        ['conv2d_114[0][0]']             \n",
            " Normalization)                 )                                                                 \n",
            "                                                                                                  \n",
            " activation_108 (Activation)    (None, 512, 512, 64  0           ['batch_normalization_108[0][0]']\n",
            "                                )                                                                 \n",
            "                                                                                                  \n",
            " conv2d_115 (Conv2D)            (None, 512, 512, 64  36928       ['activation_108[0][0]']         \n",
            "                                )                                                                 \n",
            "                                                                                                  \n",
            " batch_normalization_109 (Batch  (None, 512, 512, 64  256        ['conv2d_115[0][0]']             \n",
            " Normalization)                 )                                                                 \n",
            "                                                                                                  \n",
            " activation_109 (Activation)    (None, 512, 512, 64  0           ['batch_normalization_109[0][0]']\n",
            "                                )                                                                 \n",
            "                                                                                                  \n",
            " max_pooling2d_24 (MaxPooling2D  (None, 256, 256, 64  0          ['activation_109[0][0]']         \n",
            " )                              )                                                                 \n",
            "                                                                                                  \n",
            " conv2d_116 (Conv2D)            (None, 256, 256, 12  73856       ['max_pooling2d_24[0][0]']       \n",
            "                                8)                                                                \n",
            "                                                                                                  \n",
            " batch_normalization_110 (Batch  (None, 256, 256, 12  512        ['conv2d_116[0][0]']             \n",
            " Normalization)                 8)                                                                \n",
            "                                                                                                  \n",
            " activation_110 (Activation)    (None, 256, 256, 12  0           ['batch_normalization_110[0][0]']\n",
            "                                8)                                                                \n",
            "                                                                                                  \n",
            " conv2d_117 (Conv2D)            (None, 256, 256, 12  147584      ['activation_110[0][0]']         \n",
            "                                8)                                                                \n",
            "                                                                                                  \n",
            " batch_normalization_111 (Batch  (None, 256, 256, 12  512        ['conv2d_117[0][0]']             \n",
            " Normalization)                 8)                                                                \n",
            "                                                                                                  \n",
            " activation_111 (Activation)    (None, 256, 256, 12  0           ['batch_normalization_111[0][0]']\n",
            "                                8)                                                                \n",
            "                                                                                                  \n",
            " max_pooling2d_25 (MaxPooling2D  (None, 128, 128, 12  0          ['activation_111[0][0]']         \n",
            " )                              8)                                                                \n",
            "                                                                                                  \n",
            " conv2d_118 (Conv2D)            (None, 128, 128, 25  295168      ['max_pooling2d_25[0][0]']       \n",
            "                                6)                                                                \n",
            "                                                                                                  \n",
            " batch_normalization_112 (Batch  (None, 128, 128, 25  1024       ['conv2d_118[0][0]']             \n",
            " Normalization)                 6)                                                                \n",
            "                                                                                                  \n",
            " activation_112 (Activation)    (None, 128, 128, 25  0           ['batch_normalization_112[0][0]']\n",
            "                                6)                                                                \n",
            "                                                                                                  \n",
            " conv2d_119 (Conv2D)            (None, 128, 128, 25  590080      ['activation_112[0][0]']         \n",
            "                                6)                                                                \n",
            "                                                                                                  \n",
            " batch_normalization_113 (Batch  (None, 128, 128, 25  1024       ['conv2d_119[0][0]']             \n",
            " Normalization)                 6)                                                                \n",
            "                                                                                                  \n",
            " activation_113 (Activation)    (None, 128, 128, 25  0           ['batch_normalization_113[0][0]']\n",
            "                                6)                                                                \n",
            "                                                                                                  \n",
            " max_pooling2d_26 (MaxPooling2D  (None, 64, 64, 256)  0          ['activation_113[0][0]']         \n",
            " )                                                                                                \n",
            "                                                                                                  \n",
            " conv2d_120 (Conv2D)            (None, 64, 64, 512)  1180160     ['max_pooling2d_26[0][0]']       \n",
            "                                                                                                  \n",
            " batch_normalization_114 (Batch  (None, 64, 64, 512)  2048       ['conv2d_120[0][0]']             \n",
            " Normalization)                                                                                   \n",
            "                                                                                                  \n",
            " activation_114 (Activation)    (None, 64, 64, 512)  0           ['batch_normalization_114[0][0]']\n",
            "                                                                                                  \n",
            " conv2d_121 (Conv2D)            (None, 64, 64, 512)  2359808     ['activation_114[0][0]']         \n",
            "                                                                                                  \n",
            " batch_normalization_115 (Batch  (None, 64, 64, 512)  2048       ['conv2d_121[0][0]']             \n",
            " Normalization)                                                                                   \n",
            "                                                                                                  \n",
            " activation_115 (Activation)    (None, 64, 64, 512)  0           ['batch_normalization_115[0][0]']\n",
            "                                                                                                  \n",
            " max_pooling2d_27 (MaxPooling2D  (None, 32, 32, 512)  0          ['activation_115[0][0]']         \n",
            " )                                                                                                \n",
            "                                                                                                  \n",
            " conv2d_122 (Conv2D)            (None, 32, 32, 1024  4719616     ['max_pooling2d_27[0][0]']       \n",
            "                                )                                                                 \n",
            "                                                                                                  \n",
            " batch_normalization_116 (Batch  (None, 32, 32, 1024  4096       ['conv2d_122[0][0]']             \n",
            " Normalization)                 )                                                                 \n",
            "                                                                                                  \n",
            " activation_116 (Activation)    (None, 32, 32, 1024  0           ['batch_normalization_116[0][0]']\n",
            "                                )                                                                 \n",
            "                                                                                                  \n",
            " conv2d_123 (Conv2D)            (None, 32, 32, 1024  9438208     ['activation_116[0][0]']         \n",
            "                                )                                                                 \n",
            "                                                                                                  \n",
            " batch_normalization_117 (Batch  (None, 32, 32, 1024  4096       ['conv2d_123[0][0]']             \n",
            " Normalization)                 )                                                                 \n",
            "                                                                                                  \n",
            " activation_117 (Activation)    (None, 32, 32, 1024  0           ['batch_normalization_117[0][0]']\n",
            "                                )                                                                 \n",
            "                                                                                                  \n",
            " conv2d_transpose_24 (Conv2DTra  (None, 64, 64, 512)  2097664    ['activation_117[0][0]']         \n",
            " nspose)                                                                                          \n",
            "                                                                                                  \n",
            " concatenate_24 (Concatenate)   (None, 64, 64, 1024  0           ['conv2d_transpose_24[0][0]',    \n",
            "                                )                                 'activation_115[0][0]']         \n",
            "                                                                                                  \n",
            " conv2d_124 (Conv2D)            (None, 64, 64, 512)  4719104     ['concatenate_24[0][0]']         \n",
            "                                                                                                  \n",
            " batch_normalization_118 (Batch  (None, 64, 64, 512)  2048       ['conv2d_124[0][0]']             \n",
            " Normalization)                                                                                   \n",
            "                                                                                                  \n",
            " activation_118 (Activation)    (None, 64, 64, 512)  0           ['batch_normalization_118[0][0]']\n",
            "                                                                                                  \n",
            " conv2d_125 (Conv2D)            (None, 64, 64, 512)  2359808     ['activation_118[0][0]']         \n",
            "                                                                                                  \n",
            " batch_normalization_119 (Batch  (None, 64, 64, 512)  2048       ['conv2d_125[0][0]']             \n",
            " Normalization)                                                                                   \n",
            "                                                                                                  \n",
            " activation_119 (Activation)    (None, 64, 64, 512)  0           ['batch_normalization_119[0][0]']\n",
            "                                                                                                  \n",
            " conv2d_transpose_25 (Conv2DTra  (None, 128, 128, 25  524544     ['activation_119[0][0]']         \n",
            " nspose)                        6)                                                                \n",
            "                                                                                                  \n",
            " concatenate_25 (Concatenate)   (None, 128, 128, 51  0           ['conv2d_transpose_25[0][0]',    \n",
            "                                2)                                'activation_113[0][0]']         \n",
            "                                                                                                  \n",
            " conv2d_126 (Conv2D)            (None, 128, 128, 25  1179904     ['concatenate_25[0][0]']         \n",
            "                                6)                                                                \n",
            "                                                                                                  \n",
            " batch_normalization_120 (Batch  (None, 128, 128, 25  1024       ['conv2d_126[0][0]']             \n",
            " Normalization)                 6)                                                                \n",
            "                                                                                                  \n",
            " activation_120 (Activation)    (None, 128, 128, 25  0           ['batch_normalization_120[0][0]']\n",
            "                                6)                                                                \n",
            "                                                                                                  \n",
            " conv2d_127 (Conv2D)            (None, 128, 128, 25  590080      ['activation_120[0][0]']         \n",
            "                                6)                                                                \n",
            "                                                                                                  \n",
            " batch_normalization_121 (Batch  (None, 128, 128, 25  1024       ['conv2d_127[0][0]']             \n",
            " Normalization)                 6)                                                                \n",
            "                                                                                                  \n",
            " activation_121 (Activation)    (None, 128, 128, 25  0           ['batch_normalization_121[0][0]']\n",
            "                                6)                                                                \n",
            "                                                                                                  \n",
            " conv2d_transpose_26 (Conv2DTra  (None, 256, 256, 12  131200     ['activation_121[0][0]']         \n",
            " nspose)                        8)                                                                \n",
            "                                                                                                  \n",
            " concatenate_26 (Concatenate)   (None, 256, 256, 25  0           ['conv2d_transpose_26[0][0]',    \n",
            "                                6)                                'activation_111[0][0]']         \n",
            "                                                                                                  \n",
            " conv2d_128 (Conv2D)            (None, 256, 256, 12  295040      ['concatenate_26[0][0]']         \n",
            "                                8)                                                                \n",
            "                                                                                                  \n",
            " batch_normalization_122 (Batch  (None, 256, 256, 12  512        ['conv2d_128[0][0]']             \n",
            " Normalization)                 8)                                                                \n",
            "                                                                                                  \n",
            " activation_122 (Activation)    (None, 256, 256, 12  0           ['batch_normalization_122[0][0]']\n",
            "                                8)                                                                \n",
            "                                                                                                  \n",
            " conv2d_129 (Conv2D)            (None, 256, 256, 12  147584      ['activation_122[0][0]']         \n",
            "                                8)                                                                \n",
            "                                                                                                  \n",
            " batch_normalization_123 (Batch  (None, 256, 256, 12  512        ['conv2d_129[0][0]']             \n",
            " Normalization)                 8)                                                                \n",
            "                                                                                                  \n",
            " activation_123 (Activation)    (None, 256, 256, 12  0           ['batch_normalization_123[0][0]']\n",
            "                                8)                                                                \n",
            "                                                                                                  \n",
            " conv2d_transpose_27 (Conv2DTra  (None, 512, 512, 64  32832      ['activation_123[0][0]']         \n",
            " nspose)                        )                                                                 \n",
            "                                                                                                  \n",
            " concatenate_27 (Concatenate)   (None, 512, 512, 12  0           ['conv2d_transpose_27[0][0]',    \n",
            "                                8)                                'activation_109[0][0]']         \n",
            "                                                                                                  \n",
            " conv2d_130 (Conv2D)            (None, 512, 512, 64  73792       ['concatenate_27[0][0]']         \n",
            "                                )                                                                 \n",
            "                                                                                                  \n",
            " batch_normalization_124 (Batch  (None, 512, 512, 64  256        ['conv2d_130[0][0]']             \n",
            " Normalization)                 )                                                                 \n",
            "                                                                                                  \n",
            " activation_124 (Activation)    (None, 512, 512, 64  0           ['batch_normalization_124[0][0]']\n",
            "                                )                                                                 \n",
            "                                                                                                  \n",
            " conv2d_131 (Conv2D)            (None, 512, 512, 64  36928       ['activation_124[0][0]']         \n",
            "                                )                                                                 \n",
            "                                                                                                  \n",
            " batch_normalization_125 (Batch  (None, 512, 512, 64  256        ['conv2d_131[0][0]']             \n",
            " Normalization)                 )                                                                 \n",
            "                                                                                                  \n",
            " activation_125 (Activation)    (None, 512, 512, 64  0           ['batch_normalization_125[0][0]']\n",
            "                                )                                                                 \n",
            "                                                                                                  \n",
            " conv2d_132 (Conv2D)            (None, 512, 512, 1)  65          ['activation_125[0][0]']         \n",
            "                                                                                                  \n",
            "==================================================================================================\n",
            "Total params: 31,055,297\n",
            "Trainable params: 31,043,521\n",
            "Non-trainable params: 11,776\n",
            "__________________________________________________________________________________________________\n"
          ]
        }
      ]
    },
    {
      "cell_type": "code",
      "source": [
        "def iou(y_true, y_pred):\n",
        "    def f(y_true, y_pred):\n",
        "        intersection = (y_true * y_pred).sum()\n",
        "        union = y_true.sum() + y_pred.sum() - intersection\n",
        "        x = (intersection + 1e-15) / (union + 1e-15)\n",
        "        x = x.astype(np.float32)\n",
        "        return x\n",
        "    return tf.numpy_function(f, [y_true, y_pred], tf.float32)\n",
        "\n",
        "smooth = 1e-15\n",
        "def dice_coef(y_true, y_pred):\n",
        "    y_true = tf.keras.layers.Flatten()(y_true)\n",
        "    y_pred = tf.keras.layers.Flatten()(y_pred)\n",
        "    intersection = tf.reduce_sum(y_true * y_pred)\n",
        "    return (2. * intersection + smooth) / (tf.reduce_sum(y_true) + tf.reduce_sum(y_pred) + smooth)\n",
        "\n",
        "def dice_loss(y_true, y_pred):\n",
        "    return 1.0 - dice_coef(y_true, y_pred)"
      ],
      "metadata": {
        "id": "EUz8ZNXID9Xu"
      },
      "execution_count": null,
      "outputs": []
    },
    {
      "cell_type": "code",
      "source": [
        "H = 512\n",
        "W = 512\n",
        "\n",
        "def load_data(path):\n",
        "    x = sorted(glob(os.path.join(path, \"image\", \"*.jpg\")))\n",
        "    y = sorted(glob(os.path.join(path, \"mask\", \"*.jpg\")))\n",
        "    return x, y\n",
        "\n",
        "def shuffling(x, y):\n",
        "    x, y = shuffle(x, y, random_state=42)\n",
        "    return x, y\n",
        "\n",
        "def read_image(path):\n",
        "    path = path.decode()\n",
        "    x = cv2.imread(path, cv2.IMREAD_COLOR)\n",
        "    # x = cv2.resize(x, (W, H))\n",
        "    x = x/255.0\n",
        "    x = x.astype(np.float32)\n",
        "    return x\n",
        "\n",
        "def read_mask(path):\n",
        "    path = path.decode()\n",
        "    x = cv2.imread(path, cv2.IMREAD_GRAYSCALE)  ## (512, 512)\n",
        "    # x = cv2.resize(x, (W, H))\n",
        "    x = x/255.0\n",
        "    x = x.astype(np.float32)\n",
        "    x = np.expand_dims(x, axis=-1)              ## (512, 512, 1)\n",
        "    return x\n",
        "\n",
        "def tf_parse(x, y):\n",
        "    def _parse(x, y):\n",
        "        x = read_image(x)\n",
        "        y = read_mask(y)\n",
        "        return x, y\n",
        "\n",
        "    x, y = tf.numpy_function(_parse, [x, y], [tf.float32, tf.float32])\n",
        "    x.set_shape([H, W, 3])\n",
        "    y.set_shape([H, W, 1])\n",
        "    return x, y\n",
        "\n",
        "def tf_dataset(X, Y, batch_size=2):\n",
        "    dataset = tf.data.Dataset.from_tensor_slices((X, Y))\n",
        "    dataset = dataset.map(tf_parse)\n",
        "    dataset = dataset.batch(batch_size)\n",
        "    dataset = dataset.prefetch(4)\n",
        "    return dataset\n",
        "\n",
        "if __name__ == \"__main__\":\n",
        "    \"\"\" Seeding \"\"\"\n",
        "    np.random.seed(42)\n",
        "    tf.random.set_seed(42)\n",
        "\n",
        "    \"\"\" Directory to save files \"\"\"\n",
        "    create_dir(\"/content/drive/My Drive/CCE-AIMIA-2022/DRIVE/fileswoaug\")\n",
        "\n",
        "    \"\"\" Hyperparameters \"\"\"\n",
        "    batch_size = 2\n",
        "    lr = 1e-4\n",
        "    num_epochs = 100\n",
        "    model_path = os.path.join(\"/content/drive/My Drive/CCE-AIMIA-2022/DRIVE/fileswoaug\", \"modelwoaug.h5\")\n",
        "    csv_path = os.path.join(\"/content/drive/My Drive/CCE-AIMIA-2022/DRIVE/fileswoaug\", \"data.csv\")\n",
        "\n",
        "    \"\"\" Dataset \"\"\"\n",
        "    dataset_path = \"/content/drive/My Drive/CCE-AIMIA-2022/DRIVE/new_data2\"\n",
        "    train_path = os.path.join(dataset_path, \"train\")\n",
        "    valid_path = os.path.join(dataset_path, \"test\")\n",
        "\n",
        "    train_x, train_y = load_data(train_path)\n",
        "    train_x, train_y = shuffling(train_x, train_y)\n",
        "    valid_x, valid_y = load_data(valid_path)\n",
        "\n",
        "    print(f\"Train: {len(train_x)} - {len(train_y)}\")\n",
        "    print(f\"Valid: {len(valid_x)} - {len(valid_y)}\")\n",
        "\n",
        "    train_dataset = tf_dataset(train_x, train_y, batch_size=batch_size)\n",
        "    valid_dataset = tf_dataset(valid_x, valid_y, batch_size=batch_size)\n",
        "\n",
        "    train_steps = len(train_x)//batch_size\n",
        "    valid_setps = len(valid_x)//batch_size\n",
        "\n",
        "    if len(train_x) % batch_size != 0:\n",
        "        train_steps += 1\n",
        "    if len(valid_x) % batch_size != 0:\n",
        "        valid_setps += 1\n",
        "\n",
        "    \"\"\" Model \"\"\"\n",
        "    model = build_unet((H, W, 3))\n",
        "    model.compile(loss=dice_loss, optimizer=Adam(lr), metrics=[dice_coef, iou, Recall(), Precision()])\n",
        "    # model.summary()\n",
        "\n",
        "    callbacks = [\n",
        "        ModelCheckpoint(model_path, verbose=1, save_best_only=True),\n",
        "        ReduceLROnPlateau(monitor=\"val_loss\", factor=0.1, patience=5, min_lr=1e-6, verbose=1),\n",
        "        CSVLogger(csv_path),\n",
        "        TensorBoard(),\n",
        "        EarlyStopping(monitor=\"val_loss\", patience=10, restore_best_weights=False)\n",
        "    ]\n",
        "\n",
        "    model.fit(\n",
        "        train_dataset,\n",
        "        epochs=num_epochs,\n",
        "        validation_data=valid_dataset,\n",
        "        steps_per_epoch=train_steps,\n",
        "        validation_steps=valid_setps,\n",
        "        callbacks=callbacks\n",
        "    )"
      ],
      "metadata": {
        "colab": {
          "base_uri": "https://localhost:8080/"
        },
        "id": "NAUPmIAHCTlX",
        "outputId": "46fba3b2-7e40-404c-e7c1-808543b90812"
      },
      "execution_count": null,
      "outputs": [
        {
          "output_type": "stream",
          "name": "stdout",
          "text": [
            "Train: 20 - 20\n",
            "Valid: 20 - 20\n",
            "Epoch 1/100\n",
            "10/10 [==============================] - ETA: 0s - loss: 0.7824 - dice_coef: 0.2176 - iou: 0.1225 - recall_4: 0.8421 - precision_4: 0.3015\n",
            "Epoch 1: val_loss improved from inf to 0.85117, saving model to /content/drive/My Drive/CCE-AIMIA-2022/DRIVE/fileswoaug/modelwoaug.h5\n",
            "10/10 [==============================] - 12s 1s/step - loss: 0.7824 - dice_coef: 0.2176 - iou: 0.1225 - recall_4: 0.8421 - precision_4: 0.3015 - val_loss: 0.8512 - val_dice_coef: 0.1488 - val_iou: 0.0804 - val_recall_4: 0.5382 - val_precision_4: 0.1694 - lr: 1.0000e-04\n",
            "Epoch 2/100\n",
            "10/10 [==============================] - ETA: 0s - loss: 0.7134 - dice_coef: 0.2866 - iou: 0.1674 - recall_4: 0.7791 - precision_4: 0.3661\n",
            "Epoch 2: val_loss did not improve from 0.85117\n",
            "10/10 [==============================] - 8s 779ms/step - loss: 0.7134 - dice_coef: 0.2866 - iou: 0.1674 - recall_4: 0.7791 - precision_4: 0.3661 - val_loss: 0.8525 - val_dice_coef: 0.1475 - val_iou: 0.0797 - val_recall_4: 0.2334 - val_precision_4: 0.1051 - lr: 1.0000e-04\n",
            "Epoch 3/100\n",
            "10/10 [==============================] - ETA: 0s - loss: 0.6455 - dice_coef: 0.3545 - iou: 0.2157 - recall_4: 0.5946 - precision_4: 0.5474\n",
            "Epoch 3: val_loss did not improve from 0.85117\n",
            "10/10 [==============================] - 7s 686ms/step - loss: 0.6455 - dice_coef: 0.3545 - iou: 0.2157 - recall_4: 0.5946 - precision_4: 0.5474 - val_loss: 0.8534 - val_dice_coef: 0.1466 - val_iou: 0.0791 - val_recall_4: 0.1097 - val_precision_4: 0.0603 - lr: 1.0000e-04\n",
            "Epoch 4/100\n",
            "10/10 [==============================] - ETA: 0s - loss: 0.5856 - dice_coef: 0.4144 - iou: 0.2617 - recall_4: 0.5259 - precision_4: 0.6758\n",
            "Epoch 4: val_loss did not improve from 0.85117\n",
            "10/10 [==============================] - 8s 788ms/step - loss: 0.5856 - dice_coef: 0.4144 - iou: 0.2617 - recall_4: 0.5259 - precision_4: 0.6758 - val_loss: 0.8552 - val_dice_coef: 0.1448 - val_iou: 0.0781 - val_recall_4: 0.0065 - val_precision_4: 0.0065 - lr: 1.0000e-04\n",
            "Epoch 5/100\n",
            "10/10 [==============================] - ETA: 0s - loss: 0.5411 - dice_coef: 0.4589 - iou: 0.2981 - recall_4: 0.4904 - precision_4: 0.7510\n",
            "Epoch 5: val_loss did not improve from 0.85117\n",
            "10/10 [==============================] - 8s 791ms/step - loss: 0.5411 - dice_coef: 0.4589 - iou: 0.2981 - recall_4: 0.4904 - precision_4: 0.7510 - val_loss: 0.8578 - val_dice_coef: 0.1422 - val_iou: 0.0766 - val_recall_4: 1.8780e-05 - val_precision_4: 2.9929e-04 - lr: 1.0000e-04\n",
            "Epoch 6/100\n",
            "10/10 [==============================] - ETA: 0s - loss: 0.5066 - dice_coef: 0.4934 - iou: 0.3279 - recall_4: 0.4806 - precision_4: 0.7884\n",
            "Epoch 6: val_loss did not improve from 0.85117\n",
            "\n",
            "Epoch 6: ReduceLROnPlateau reducing learning rate to 9.999999747378752e-06.\n",
            "10/10 [==============================] - 7s 693ms/step - loss: 0.5066 - dice_coef: 0.4934 - iou: 0.3279 - recall_4: 0.4806 - precision_4: 0.7884 - val_loss: 0.8610 - val_dice_coef: 0.1390 - val_iou: 0.0747 - val_recall_4: 2.6828e-06 - val_precision_4: 1.8055e-04 - lr: 1.0000e-04\n",
            "Epoch 7/100\n",
            "10/10 [==============================] - ETA: 0s - loss: 0.4857 - dice_coef: 0.5143 - iou: 0.3467 - recall_4: 0.4816 - precision_4: 0.8055\n",
            "Epoch 7: val_loss did not improve from 0.85117\n",
            "10/10 [==============================] - 7s 690ms/step - loss: 0.4857 - dice_coef: 0.5143 - iou: 0.3467 - recall_4: 0.4816 - precision_4: 0.8055 - val_loss: 0.8633 - val_dice_coef: 0.1367 - val_iou: 0.0734 - val_recall_4: 0.0000e+00 - val_precision_4: 0.0000e+00 - lr: 1.0000e-05\n",
            "Epoch 8/100\n",
            "10/10 [==============================] - ETA: 0s - loss: 0.4810 - dice_coef: 0.5190 - iou: 0.3509 - recall_4: 0.4791 - precision_4: 0.8140\n",
            "Epoch 8: val_loss did not improve from 0.85117\n",
            "10/10 [==============================] - 8s 782ms/step - loss: 0.4810 - dice_coef: 0.5190 - iou: 0.3509 - recall_4: 0.4791 - precision_4: 0.8140 - val_loss: 0.8657 - val_dice_coef: 0.1343 - val_iou: 0.0720 - val_recall_4: 0.0000e+00 - val_precision_4: 0.0000e+00 - lr: 1.0000e-05\n",
            "Epoch 9/100\n",
            "10/10 [==============================] - ETA: 0s - loss: 0.4772 - dice_coef: 0.5228 - iou: 0.3544 - recall_4: 0.4774 - precision_4: 0.8196\n",
            "Epoch 9: val_loss did not improve from 0.85117\n",
            "10/10 [==============================] - 8s 783ms/step - loss: 0.4772 - dice_coef: 0.5228 - iou: 0.3544 - recall_4: 0.4774 - precision_4: 0.8196 - val_loss: 0.8681 - val_dice_coef: 0.1319 - val_iou: 0.0706 - val_recall_4: 0.0000e+00 - val_precision_4: 0.0000e+00 - lr: 1.0000e-05\n",
            "Epoch 10/100\n",
            "10/10 [==============================] - ETA: 0s - loss: 0.4736 - dice_coef: 0.5264 - iou: 0.3577 - recall_4: 0.4768 - precision_4: 0.8241\n",
            "Epoch 10: val_loss did not improve from 0.85117\n",
            "10/10 [==============================] - 7s 690ms/step - loss: 0.4736 - dice_coef: 0.5264 - iou: 0.3577 - recall_4: 0.4768 - precision_4: 0.8241 - val_loss: 0.8705 - val_dice_coef: 0.1295 - val_iou: 0.0692 - val_recall_4: 0.0000e+00 - val_precision_4: 0.0000e+00 - lr: 1.0000e-05\n",
            "Epoch 11/100\n",
            "10/10 [==============================] - ETA: 0s - loss: 0.4700 - dice_coef: 0.5300 - iou: 0.3610 - recall_4: 0.4776 - precision_4: 0.8280\n",
            "Epoch 11: val_loss did not improve from 0.85117\n",
            "\n",
            "Epoch 11: ReduceLROnPlateau reducing learning rate to 1e-06.\n",
            "10/10 [==============================] - 7s 688ms/step - loss: 0.4700 - dice_coef: 0.5300 - iou: 0.3610 - recall_4: 0.4776 - precision_4: 0.8280 - val_loss: 0.8731 - val_dice_coef: 0.1269 - val_iou: 0.0678 - val_recall_4: 0.0000e+00 - val_precision_4: 0.0000e+00 - lr: 1.0000e-05\n"
          ]
        }
      ]
    },
    {
      "cell_type": "code",
      "source": [
        "\n",
        "H = 512\n",
        "W = 512\n",
        "\n",
        "def read_image(path):\n",
        "    x = cv2.imread(path, cv2.IMREAD_COLOR)\n",
        "    # x = cv2.resize(x, (W, H))\n",
        "    ori_x = x\n",
        "    x = x/255.0\n",
        "    x = x.astype(np.float32)\n",
        "    return ori_x, x\n",
        "\n",
        "def read_mask(path):\n",
        "    x = cv2.imread(path, cv2.IMREAD_GRAYSCALE)  ## (512, 512)\n",
        "    # x = cv2.resize(x, (W, H))\n",
        "    ori_x = x\n",
        "    x = x/255.0\n",
        "    x = x.astype(np.int32)\n",
        "    return ori_x, x\n",
        "\n",
        "def load_data(path):\n",
        "    x = sorted(glob(os.path.join(path, \"image\", \"*.jpg\")))\n",
        "    y = sorted(glob(os.path.join(path, \"mask\", \"*.jpg\")))\n",
        "    return x, y\n",
        "\n",
        "def save_results(ori_x, ori_y, y_pred, save_image_path):\n",
        "    line = np.ones((H, 10, 3)) * 255\n",
        "\n",
        "    ori_y = np.expand_dims(ori_y, axis=-1)\n",
        "    ori_y = np.concatenate([ori_y, ori_y, ori_y], axis=-1)\n",
        "\n",
        "    y_pred = np.expand_dims(y_pred, axis=-1)\n",
        "    y_pred = np.concatenate([y_pred, y_pred, y_pred], axis=-1) * 255\n",
        "\n",
        "    cat_images = np.concatenate([ori_x, line, ori_y, line, y_pred], axis=1)\n",
        "    cv2.imwrite(save_image_path, cat_images)\n",
        "\n",
        "if __name__ == \"__main__\":\n",
        "    \"\"\" Save the results in this folder \"\"\"\n",
        "    create_dir(\"/content/drive/My Drive/CCE-AIMIA-2022/DRIVE/files/resultswoaug\")\n",
        "\n",
        "    \"\"\" Load the model \"\"\"\n",
        "    with CustomObjectScope({'iou': iou, 'dice_coef': dice_coef, 'dice_loss': dice_loss}):\n",
        "        model = tf.keras.models.load_model(\"/content/drive/My Drive/CCE-AIMIA-2022/DRIVE/fileswoaug/modelwoaug.h5\")\n",
        "\n",
        "    \"\"\" Load the dataset \"\"\"\n",
        "    dataset_path = os.path.join(\"/content/drive/My Drive/CCE-AIMIA-2022/DRIVE/new_data2\", \"test\")\n",
        "    test_x, test_y = load_data(dataset_path)\n",
        "\n",
        "    \"\"\" Make the prediction and calculate the metrics values \"\"\"\n",
        "    SCORE = []\n",
        "    for x, y in tqdm(zip(test_x, test_y), total=len(test_x)):\n",
        "        \"\"\" Extracting name \"\"\"\n",
        "        name = x.split(\"/\")[-1].split(\".\")[0]\n",
        "\n",
        "        \"\"\" Read the image and mask \"\"\"\n",
        "        ori_x, x = read_image(x)\n",
        "        ori_y, y = read_mask(y)\n",
        "\n",
        "        \"\"\" Prediction \"\"\"\n",
        "        y_pred = model.predict(np.expand_dims(x, axis=0))[0]\n",
        "        y_pred = y_pred > 0.5\n",
        "        y_pred = y_pred.astype(np.int32)\n",
        "        y_pred = np.squeeze(y_pred, axis=-1)\n",
        "\n",
        "        \"\"\" Saving the images \"\"\"\n",
        "        save_image_path = f\"/content/drive/My Drive/CCE-AIMIA-2022/DRIVE/files/resultswoaug/{name}.png\"\n",
        "        save_results(ori_x, ori_y, y_pred, save_image_path)\n",
        "\n",
        "        \"\"\" Flatten the array \"\"\"\n",
        "        y = y.flatten()\n",
        "        y_pred = y_pred.flatten()\n",
        "\n",
        "        \"\"\" Calculate the metrics \"\"\"\n",
        "        acc_value = accuracy_score(y, y_pred)\n",
        "        f1_value = f1_score(y, y_pred, labels=[0, 1], average=\"binary\")\n",
        "        jac_value = jaccard_score(y, y_pred, labels=[0, 1], average=\"binary\")\n",
        "        recall_value = recall_score(y, y_pred, labels=[0, 1], average=\"binary\")\n",
        "        precision_value = precision_score(y, y_pred, labels=[0, 1], average=\"binary\")\n",
        "        SCORE.append([name, acc_value, f1_value, jac_value, recall_value, precision_value])\n",
        "\n",
        "    score = [s[1:] for s in SCORE]\n",
        "    score = np.mean(score, axis=0)\n",
        "    print(f\"Accuracy: {score[0]:0.5f}\")\n",
        "    print(f\"F1: {score[1]:0.5f}\")\n",
        "    print(f\"Jaccard: {score[2]:0.5f}\")\n",
        "    print(f\"Recall: {score[3]:0.5f}\")\n",
        "    print(f\"Precision: {score[4]:0.5f}\")\n",
        "\n",
        "    \"\"\" Saving \"\"\"\n",
        "    df = pd.DataFrame(SCORE, columns=[\"Image\", \"Acc\", \"F1\", \"Jaccard\", \"Recall\", \"Precision\"])\n",
        "    df.to_csv(\"/content/drive/My Drive/CCE-AIMIA-2022/DRIVE/files/scorewoaug.csv\")"
      ],
      "metadata": {
        "colab": {
          "base_uri": "https://localhost:8080/"
        },
        "id": "LmvT1E73UxGu",
        "outputId": "9de6bc50-79f3-4566-fc35-47938a9334c0"
      },
      "execution_count": null,
      "outputs": [
        {
          "output_type": "stream",
          "name": "stderr",
          "text": [
            "\r  0%|          | 0/20 [00:00<?, ?it/s]"
          ]
        },
        {
          "output_type": "stream",
          "name": "stdout",
          "text": [
            "1/1 [==============================] - 4s 4s/step\n"
          ]
        },
        {
          "output_type": "stream",
          "name": "stderr",
          "text": [
            "\r  5%|▌         | 1/20 [00:04<01:17,  4.10s/it]"
          ]
        },
        {
          "output_type": "stream",
          "name": "stdout",
          "text": [
            "1/1 [==============================] - 0s 21ms/step\n"
          ]
        },
        {
          "output_type": "stream",
          "name": "stderr",
          "text": [
            "\r 10%|█         | 2/20 [00:04<00:35,  1.95s/it]"
          ]
        },
        {
          "output_type": "stream",
          "name": "stdout",
          "text": [
            "1/1 [==============================] - 0s 19ms/step\n"
          ]
        },
        {
          "output_type": "stream",
          "name": "stderr",
          "text": [
            "\r 15%|█▌        | 3/20 [00:05<00:21,  1.28s/it]"
          ]
        },
        {
          "output_type": "stream",
          "name": "stdout",
          "text": [
            "1/1 [==============================] - 0s 20ms/step\n"
          ]
        },
        {
          "output_type": "stream",
          "name": "stderr",
          "text": [
            "\r 20%|██        | 4/20 [00:05<00:15,  1.02it/s]"
          ]
        },
        {
          "output_type": "stream",
          "name": "stdout",
          "text": [
            "1/1 [==============================] - 0s 20ms/step\n"
          ]
        },
        {
          "output_type": "stream",
          "name": "stderr",
          "text": [
            "\r 25%|██▌       | 5/20 [00:06<00:12,  1.25it/s]"
          ]
        },
        {
          "output_type": "stream",
          "name": "stdout",
          "text": [
            "1/1 [==============================] - 0s 21ms/step\n"
          ]
        },
        {
          "output_type": "stream",
          "name": "stderr",
          "text": [
            "\r 30%|███       | 6/20 [00:06<00:09,  1.47it/s]"
          ]
        },
        {
          "output_type": "stream",
          "name": "stdout",
          "text": [
            "1/1 [==============================] - 0s 20ms/step\n"
          ]
        },
        {
          "output_type": "stream",
          "name": "stderr",
          "text": [
            "\r 35%|███▌      | 7/20 [00:06<00:08,  1.61it/s]"
          ]
        },
        {
          "output_type": "stream",
          "name": "stdout",
          "text": [
            "1/1 [==============================] - 0s 21ms/step\n"
          ]
        },
        {
          "output_type": "stream",
          "name": "stderr",
          "text": [
            "\r 40%|████      | 8/20 [00:07<00:06,  1.75it/s]"
          ]
        },
        {
          "output_type": "stream",
          "name": "stdout",
          "text": [
            "1/1 [==============================] - 0s 21ms/step\n"
          ]
        },
        {
          "output_type": "stream",
          "name": "stderr",
          "text": [
            "\r 45%|████▌     | 9/20 [00:07<00:05,  1.88it/s]"
          ]
        },
        {
          "output_type": "stream",
          "name": "stdout",
          "text": [
            "1/1 [==============================] - 0s 22ms/step\n"
          ]
        },
        {
          "output_type": "stream",
          "name": "stderr",
          "text": [
            "\r 50%|█████     | 10/20 [00:08<00:05,  1.98it/s]"
          ]
        },
        {
          "output_type": "stream",
          "name": "stdout",
          "text": [
            "1/1 [==============================] - 0s 20ms/step\n"
          ]
        },
        {
          "output_type": "stream",
          "name": "stderr",
          "text": [
            "\r 55%|█████▌    | 11/20 [00:08<00:04,  2.05it/s]"
          ]
        },
        {
          "output_type": "stream",
          "name": "stdout",
          "text": [
            "1/1 [==============================] - 0s 19ms/step\n"
          ]
        },
        {
          "output_type": "stream",
          "name": "stderr",
          "text": [
            "\r 60%|██████    | 12/20 [00:09<00:03,  2.04it/s]"
          ]
        },
        {
          "output_type": "stream",
          "name": "stdout",
          "text": [
            "1/1 [==============================] - 0s 22ms/step\n"
          ]
        },
        {
          "output_type": "stream",
          "name": "stderr",
          "text": [
            "\r 65%|██████▌   | 13/20 [00:09<00:03,  2.11it/s]"
          ]
        },
        {
          "output_type": "stream",
          "name": "stdout",
          "text": [
            "1/1 [==============================] - 0s 20ms/step\n"
          ]
        },
        {
          "output_type": "stream",
          "name": "stderr",
          "text": [
            "\r 70%|███████   | 14/20 [00:10<00:02,  2.06it/s]"
          ]
        },
        {
          "output_type": "stream",
          "name": "stdout",
          "text": [
            "1/1 [==============================] - 0s 25ms/step\n"
          ]
        },
        {
          "output_type": "stream",
          "name": "stderr",
          "text": [
            "\r 75%|███████▌  | 15/20 [00:10<00:02,  2.12it/s]"
          ]
        },
        {
          "output_type": "stream",
          "name": "stdout",
          "text": [
            "1/1 [==============================] - 0s 19ms/step\n"
          ]
        },
        {
          "output_type": "stream",
          "name": "stderr",
          "text": [
            "\r 80%|████████  | 16/20 [00:11<00:01,  2.17it/s]"
          ]
        },
        {
          "output_type": "stream",
          "name": "stdout",
          "text": [
            "1/1 [==============================] - 0s 19ms/step\n"
          ]
        },
        {
          "output_type": "stream",
          "name": "stderr",
          "text": [
            "\r 85%|████████▌ | 17/20 [00:11<00:01,  2.14it/s]"
          ]
        },
        {
          "output_type": "stream",
          "name": "stdout",
          "text": [
            "1/1 [==============================] - 0s 19ms/step\n"
          ]
        },
        {
          "output_type": "stream",
          "name": "stderr",
          "text": [
            "\r 90%|█████████ | 18/20 [00:12<00:00,  2.17it/s]"
          ]
        },
        {
          "output_type": "stream",
          "name": "stdout",
          "text": [
            "1/1 [==============================] - 0s 19ms/step\n"
          ]
        },
        {
          "output_type": "stream",
          "name": "stderr",
          "text": [
            "\r 95%|█████████▌| 19/20 [00:12<00:00,  2.21it/s]"
          ]
        },
        {
          "output_type": "stream",
          "name": "stdout",
          "text": [
            "1/1 [==============================] - 0s 20ms/step\n"
          ]
        },
        {
          "output_type": "stream",
          "name": "stderr",
          "text": [
            "100%|██████████| 20/20 [00:12<00:00,  1.55it/s]"
          ]
        },
        {
          "output_type": "stream",
          "name": "stdout",
          "text": [
            "Accuracy: 0.33190\n",
            "F1: 0.05975\n",
            "Jaccard: 0.03081\n",
            "Recall: 0.63966\n",
            "Precision: 0.03141\n"
          ]
        },
        {
          "output_type": "stream",
          "name": "stderr",
          "text": [
            "\n"
          ]
        }
      ]
    }
  ]
}