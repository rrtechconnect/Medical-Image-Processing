{
  "nbformat": 4,
  "nbformat_minor": 0,
  "metadata": {
    "colab": {
      "provenance": []
    },
    "kernelspec": {
      "name": "python3",
      "display_name": "Python 3"
    },
    "language_info": {
      "name": "python"
    },
    "accelerator": "GPU",
    "gpuClass": "standard"
  },
  "cells": [
    {
      "cell_type": "code",
      "source": [
        "from google.colab import drive\n",
        "drive.mount('/content/drive')\n",
        "import os\n",
        "import glob\n",
        "import numpy as np\n",
        "import scipy.io\n",
        "from keras.utils import to_categorical\n",
        "import random\n",
        "import cv2\n",
        "from keras.models import Model\n",
        "from keras.layers import Input, Conv2D, MaxPooling2D, UpSampling2D, concatenate, Conv2DTranspose, BatchNormalization, Dropout, Lambda\n",
        "from keras.utils import normalize\n",
        "from matplotlib import pyplot as plt"
      ],
      "metadata": {
        "id": "9EzG2NTPsFEY",
        "colab": {
          "base_uri": "https://localhost:8080/"
        },
        "outputId": "7d0d25a9-e5f8-4a69-b827-4acddeb4a20a"
      },
      "execution_count": 2,
      "outputs": [
        {
          "output_type": "stream",
          "name": "stdout",
          "text": [
            "Mounted at /content/drive\n"
          ]
        }
      ]
    },
    {
      "cell_type": "code",
      "source": [
        "data_path = '/content/drive/My Drive/CCE-AIMIA/'\n",
        "\n",
        "ctScans = scipy.io.loadmat('/content/drive/My Drive/CCE-AIMIA/ctscan_hw1.mat')\n",
        "ctMasks = scipy.io.loadmat('/content/drive/My Drive/CCE-AIMIA/infmsk_hw1.mat')\n",
        "(ms,ns,cs)= (ctScans['ctscan']).shape\n",
        "(mm,nm,cm)= (ctMasks['infmsk']).shape"
      ],
      "metadata": {
        "id": "0zs1FUfMushq"
      },
      "execution_count": 3,
      "outputs": []
    },
    {
      "cell_type": "code",
      "source": [
        "ctscansarray = []\n",
        "ctmasksarray = []\n",
        "for i in range(cm):\n",
        "    ctscansarray.append((ctScans['ctscan'][:,:,i]))\n",
        "    ctmasksarray.append((ctMasks['infmsk'][:,:,i]))"
      ],
      "metadata": {
        "id": "dcDcCnH2AK3V"
      },
      "execution_count": 4,
      "outputs": []
    },
    {
      "cell_type": "code",
      "source": [
        "ctscanslices = []\n",
        "ctmaskslices = []\n",
        "for i in range(cm):\n",
        "  img1 = cv2.resize(ctscansarray[i], (128, 128))\n",
        "  ctscanslices.append(img1)\n",
        "  img2 = cv2.resize(ctmasksarray[i], (128, 128))\n",
        "  ctmaskslices.append(img2)"
      ],
      "metadata": {
        "id": "m7FeZc8cprqe"
      },
      "execution_count": 5,
      "outputs": []
    },
    {
      "cell_type": "code",
      "source": [
        "ctscans = np.array(ctscanslices)\n",
        "ctmasks = np.array(ctmaskslices)\n",
        "print(ctscans.shape)\n",
        "print(ctmasks.shape)"
      ],
      "metadata": {
        "colab": {
          "base_uri": "https://localhost:8080/"
        },
        "id": "J7fnHbr7SlUw",
        "outputId": "1309d15e-54f8-4a12-b010-d7c224ae88bc"
      },
      "execution_count": 6,
      "outputs": [
        {
          "output_type": "stream",
          "name": "stdout",
          "text": [
            "(3554, 128, 128)\n",
            "(3554, 128, 128)\n"
          ]
        }
      ]
    },
    {
      "cell_type": "code",
      "source": [
        "#Reference https://youtu.be/XyX5HNuv-xE\n",
        "#Reference https://youtu.be/q-p8v1Bxvac\n",
        "\"\"\"\n",
        "Standard Unet\n",
        "\"\"\"\n",
        "################################################################\n",
        "def multi_unet_model(n_classes=3, IMG_HEIGHT=128, IMG_WIDTH=128, IMG_CHANNELS=1):\n",
        "#Build the model\n",
        "    inputs = Input((IMG_HEIGHT, IMG_WIDTH, IMG_CHANNELS))\n",
        "    #s = Lambda(lambda x: x / 255)(inputs)   #No need for this if we normalize our inputs beforehand\n",
        "    s = inputs\n",
        "    #Contraction path\n",
        "    c1 = Conv2D(16, (3, 3), activation='relu', kernel_initializer='he_normal', padding='same')(s)\n",
        "    c1 = Dropout(0.1)(c1)\n",
        "    c1 = Conv2D(16, (3, 3), activation='relu', kernel_initializer='he_normal', padding='same')(c1)\n",
        "    p1 = MaxPooling2D((2, 2))(c1)\n",
        "    \n",
        "    c2 = Conv2D(32, (3, 3), activation='relu', kernel_initializer='he_normal', padding='same')(p1)\n",
        "    c2 = Dropout(0.1)(c2)\n",
        "    c2 = Conv2D(32, (3, 3), activation='relu', kernel_initializer='he_normal', padding='same')(c2)\n",
        "    p2 = MaxPooling2D((2, 2))(c2)\n",
        "     \n",
        "    c3 = Conv2D(64, (3, 3), activation='relu', kernel_initializer='he_normal', padding='same')(p2)\n",
        "    c3 = Dropout(0.2)(c3)\n",
        "    c3 = Conv2D(64, (3, 3), activation='relu', kernel_initializer='he_normal', padding='same')(c3)\n",
        "    p3 = MaxPooling2D((2, 2))(c3)\n",
        "     \n",
        "    c4 = Conv2D(128, (3, 3), activation='relu', kernel_initializer='he_normal', padding='same')(p3)\n",
        "    c4 = Dropout(0.2)(c4)\n",
        "    c4 = Conv2D(128, (3, 3), activation='relu', kernel_initializer='he_normal', padding='same')(c4)\n",
        "    p4 = MaxPooling2D(pool_size=(2, 2))(c4)\n",
        "     \n",
        "    c5 = Conv2D(256, (3, 3), activation='relu', kernel_initializer='he_normal', padding='same')(p4)\n",
        "    c5 = Dropout(0.3)(c5)\n",
        "    c5 = Conv2D(256, (3, 3), activation='relu', kernel_initializer='he_normal', padding='same')(c5)\n",
        "    \n",
        "    #Expansive path \n",
        "    u6 = Conv2DTranspose(128, (2, 2), strides=(2, 2), padding='same')(c5)\n",
        "    u6 = concatenate([u6, c4])\n",
        "    c6 = Conv2D(128, (3, 3), activation='relu', kernel_initializer='he_normal', padding='same')(u6)\n",
        "    c6 = Dropout(0.2)(c6)\n",
        "    c6 = Conv2D(128, (3, 3), activation='relu', kernel_initializer='he_normal', padding='same')(c6)\n",
        "     \n",
        "    u7 = Conv2DTranspose(64, (2, 2), strides=(2, 2), padding='same')(c6)\n",
        "    u7 = concatenate([u7, c3])\n",
        "    c7 = Conv2D(64, (3, 3), activation='relu', kernel_initializer='he_normal', padding='same')(u7)\n",
        "    c7 = Dropout(0.2)(c7)\n",
        "    c7 = Conv2D(64, (3, 3), activation='relu', kernel_initializer='he_normal', padding='same')(c7)\n",
        "     \n",
        "    u8 = Conv2DTranspose(32, (2, 2), strides=(2, 2), padding='same')(c7)\n",
        "    u8 = concatenate([u8, c2])\n",
        "    c8 = Conv2D(32, (3, 3), activation='relu', kernel_initializer='he_normal', padding='same')(u8)\n",
        "    c8 = Dropout(0.1)(c8)\n",
        "    c8 = Conv2D(32, (3, 3), activation='relu', kernel_initializer='he_normal', padding='same')(c8)\n",
        "     \n",
        "    u9 = Conv2DTranspose(16, (2, 2), strides=(2, 2), padding='same')(c8)\n",
        "    u9 = concatenate([u9, c1], axis=3)\n",
        "    c9 = Conv2D(16, (3, 3), activation='relu', kernel_initializer='he_normal', padding='same')(u9)\n",
        "    c9 = Dropout(0.1)(c9)\n",
        "    c9 = Conv2D(16, (3, 3), activation='relu', kernel_initializer='he_normal', padding='same')(c9)\n",
        "     \n",
        "    outputs = Conv2D(n_classes, (1, 1), activation='softmax')(c9)\n",
        "     \n",
        "    model = Model(inputs=[inputs], outputs=[outputs])\n",
        "\n",
        "    model.summary()\n",
        "    \n",
        "    return model"
      ],
      "metadata": {
        "id": "D71wUr8ZK174"
      },
      "execution_count": 7,
      "outputs": []
    },
    {
      "cell_type": "code",
      "source": [
        "#Reference https://youtu.be/XyX5HNuv-xE\n",
        "\"\"\"\n",
        "code adopted from Digital Srini channel\n",
        "by Dr. Sreenivas Bhattiprolu Multiclass semantic segmentation using U-Net\n",
        "\"\"\"\n",
        "n_classes=3 #Number of classes for segmentation\n",
        "train_images = [] #Capture training image info as a list\n",
        "train_images = ctscans\n",
        "train_masks = [] #Capture mask/label info as a list\n",
        "train_masks = ctmasks\n",
        "###############################################\n",
        "train_images = np.expand_dims(train_images, axis=3)\n",
        "train_images = normalize(train_images, axis=1)\n",
        "train_masks_input = np.expand_dims(train_masks, axis=3)\n",
        "from sklearn.model_selection import train_test_split\n",
        "X1, X_test, y1, y_test = train_test_split(train_images, train_masks_input, test_size = 0.20, random_state = 0)\n",
        "train_masks_cat = to_categorical(y1, num_classes=n_classes)\n",
        "y_train_cat = train_masks_cat.reshape((y1.shape[0], y1.shape[1], y1.shape[2], n_classes))\n",
        "\n",
        "test_masks_cat = to_categorical(y_test, num_classes=n_classes)\n",
        "y_test_cat = test_masks_cat.reshape((y_test.shape[0], y_test.shape[1], y_test.shape[2], n_classes))\n",
        "\n",
        "IMG_HEIGHT = X1.shape[1]\n",
        "IMG_WIDTH  = X1.shape[2]\n",
        "IMG_CHANNELS = X1.shape[3]\n",
        "\n",
        "def get_model():\n",
        "    return multi_unet_model(n_classes=n_classes, IMG_HEIGHT=IMG_HEIGHT, IMG_WIDTH=IMG_WIDTH, IMG_CHANNELS=IMG_CHANNELS)\n",
        "\n",
        "model = get_model()\n",
        "model.compile(optimizer='adam', loss='categorical_crossentropy', metrics=['accuracy'])\n",
        "#model.summary()\n",
        "\n",
        "history = model.fit(X1, y_train_cat, \n",
        "                    batch_size = 16, \n",
        "                    verbose=1, \n",
        "                    epochs=50, \n",
        "                    validation_data=(X_test, y_test_cat), \n",
        "                    #class_weight=class_weights,\n",
        "                    shuffle=False)\n",
        "                    \n",
        "model.save('unet_50_epochs_catXentropy_acc.hdf5')\n",
        "############################################################"
      ],
      "metadata": {
        "id": "U6WhS9VNLPZ2",
        "colab": {
          "base_uri": "https://localhost:8080/"
        },
        "outputId": "adf7b1aa-49a4-4060-d189-2c9814dc14ac"
      },
      "execution_count": 8,
      "outputs": [
        {
          "output_type": "stream",
          "name": "stdout",
          "text": [
            "Model: \"model\"\n",
            "__________________________________________________________________________________________________\n",
            " Layer (type)                   Output Shape         Param #     Connected to                     \n",
            "==================================================================================================\n",
            " input_1 (InputLayer)           [(None, 128, 128, 1  0           []                               \n",
            "                                )]                                                                \n",
            "                                                                                                  \n",
            " conv2d (Conv2D)                (None, 128, 128, 16  160         ['input_1[0][0]']                \n",
            "                                )                                                                 \n",
            "                                                                                                  \n",
            " dropout (Dropout)              (None, 128, 128, 16  0           ['conv2d[0][0]']                 \n",
            "                                )                                                                 \n",
            "                                                                                                  \n",
            " conv2d_1 (Conv2D)              (None, 128, 128, 16  2320        ['dropout[0][0]']                \n",
            "                                )                                                                 \n",
            "                                                                                                  \n",
            " max_pooling2d (MaxPooling2D)   (None, 64, 64, 16)   0           ['conv2d_1[0][0]']               \n",
            "                                                                                                  \n",
            " conv2d_2 (Conv2D)              (None, 64, 64, 32)   4640        ['max_pooling2d[0][0]']          \n",
            "                                                                                                  \n",
            " dropout_1 (Dropout)            (None, 64, 64, 32)   0           ['conv2d_2[0][0]']               \n",
            "                                                                                                  \n",
            " conv2d_3 (Conv2D)              (None, 64, 64, 32)   9248        ['dropout_1[0][0]']              \n",
            "                                                                                                  \n",
            " max_pooling2d_1 (MaxPooling2D)  (None, 32, 32, 32)  0           ['conv2d_3[0][0]']               \n",
            "                                                                                                  \n",
            " conv2d_4 (Conv2D)              (None, 32, 32, 64)   18496       ['max_pooling2d_1[0][0]']        \n",
            "                                                                                                  \n",
            " dropout_2 (Dropout)            (None, 32, 32, 64)   0           ['conv2d_4[0][0]']               \n",
            "                                                                                                  \n",
            " conv2d_5 (Conv2D)              (None, 32, 32, 64)   36928       ['dropout_2[0][0]']              \n",
            "                                                                                                  \n",
            " max_pooling2d_2 (MaxPooling2D)  (None, 16, 16, 64)  0           ['conv2d_5[0][0]']               \n",
            "                                                                                                  \n",
            " conv2d_6 (Conv2D)              (None, 16, 16, 128)  73856       ['max_pooling2d_2[0][0]']        \n",
            "                                                                                                  \n",
            " dropout_3 (Dropout)            (None, 16, 16, 128)  0           ['conv2d_6[0][0]']               \n",
            "                                                                                                  \n",
            " conv2d_7 (Conv2D)              (None, 16, 16, 128)  147584      ['dropout_3[0][0]']              \n",
            "                                                                                                  \n",
            " max_pooling2d_3 (MaxPooling2D)  (None, 8, 8, 128)   0           ['conv2d_7[0][0]']               \n",
            "                                                                                                  \n",
            " conv2d_8 (Conv2D)              (None, 8, 8, 256)    295168      ['max_pooling2d_3[0][0]']        \n",
            "                                                                                                  \n",
            " dropout_4 (Dropout)            (None, 8, 8, 256)    0           ['conv2d_8[0][0]']               \n",
            "                                                                                                  \n",
            " conv2d_9 (Conv2D)              (None, 8, 8, 256)    590080      ['dropout_4[0][0]']              \n",
            "                                                                                                  \n",
            " conv2d_transpose (Conv2DTransp  (None, 16, 16, 128)  131200     ['conv2d_9[0][0]']               \n",
            " ose)                                                                                             \n",
            "                                                                                                  \n",
            " concatenate (Concatenate)      (None, 16, 16, 256)  0           ['conv2d_transpose[0][0]',       \n",
            "                                                                  'conv2d_7[0][0]']               \n",
            "                                                                                                  \n",
            " conv2d_10 (Conv2D)             (None, 16, 16, 128)  295040      ['concatenate[0][0]']            \n",
            "                                                                                                  \n",
            " dropout_5 (Dropout)            (None, 16, 16, 128)  0           ['conv2d_10[0][0]']              \n",
            "                                                                                                  \n",
            " conv2d_11 (Conv2D)             (None, 16, 16, 128)  147584      ['dropout_5[0][0]']              \n",
            "                                                                                                  \n",
            " conv2d_transpose_1 (Conv2DTran  (None, 32, 32, 64)  32832       ['conv2d_11[0][0]']              \n",
            " spose)                                                                                           \n",
            "                                                                                                  \n",
            " concatenate_1 (Concatenate)    (None, 32, 32, 128)  0           ['conv2d_transpose_1[0][0]',     \n",
            "                                                                  'conv2d_5[0][0]']               \n",
            "                                                                                                  \n",
            " conv2d_12 (Conv2D)             (None, 32, 32, 64)   73792       ['concatenate_1[0][0]']          \n",
            "                                                                                                  \n",
            " dropout_6 (Dropout)            (None, 32, 32, 64)   0           ['conv2d_12[0][0]']              \n",
            "                                                                                                  \n",
            " conv2d_13 (Conv2D)             (None, 32, 32, 64)   36928       ['dropout_6[0][0]']              \n",
            "                                                                                                  \n",
            " conv2d_transpose_2 (Conv2DTran  (None, 64, 64, 32)  8224        ['conv2d_13[0][0]']              \n",
            " spose)                                                                                           \n",
            "                                                                                                  \n",
            " concatenate_2 (Concatenate)    (None, 64, 64, 64)   0           ['conv2d_transpose_2[0][0]',     \n",
            "                                                                  'conv2d_3[0][0]']               \n",
            "                                                                                                  \n",
            " conv2d_14 (Conv2D)             (None, 64, 64, 32)   18464       ['concatenate_2[0][0]']          \n",
            "                                                                                                  \n",
            " dropout_7 (Dropout)            (None, 64, 64, 32)   0           ['conv2d_14[0][0]']              \n",
            "                                                                                                  \n",
            " conv2d_15 (Conv2D)             (None, 64, 64, 32)   9248        ['dropout_7[0][0]']              \n",
            "                                                                                                  \n",
            " conv2d_transpose_3 (Conv2DTran  (None, 128, 128, 16  2064       ['conv2d_15[0][0]']              \n",
            " spose)                         )                                                                 \n",
            "                                                                                                  \n",
            " concatenate_3 (Concatenate)    (None, 128, 128, 32  0           ['conv2d_transpose_3[0][0]',     \n",
            "                                )                                 'conv2d_1[0][0]']               \n",
            "                                                                                                  \n",
            " conv2d_16 (Conv2D)             (None, 128, 128, 16  4624        ['concatenate_3[0][0]']          \n",
            "                                )                                                                 \n",
            "                                                                                                  \n",
            " dropout_8 (Dropout)            (None, 128, 128, 16  0           ['conv2d_16[0][0]']              \n",
            "                                )                                                                 \n",
            "                                                                                                  \n",
            " conv2d_17 (Conv2D)             (None, 128, 128, 16  2320        ['dropout_8[0][0]']              \n",
            "                                )                                                                 \n",
            "                                                                                                  \n",
            " conv2d_18 (Conv2D)             (None, 128, 128, 3)  51          ['conv2d_17[0][0]']              \n",
            "                                                                                                  \n",
            "==================================================================================================\n",
            "Total params: 1,940,851\n",
            "Trainable params: 1,940,851\n",
            "Non-trainable params: 0\n",
            "__________________________________________________________________________________________________\n",
            "Epoch 1/50\n",
            "178/178 [==============================] - 20s 55ms/step - loss: 0.3314 - accuracy: 0.9020 - val_loss: 0.1084 - val_accuracy: 0.9664\n",
            "Epoch 2/50\n",
            "178/178 [==============================] - 8s 45ms/step - loss: 0.0645 - accuracy: 0.9785 - val_loss: 0.0680 - val_accuracy: 0.9770\n",
            "Epoch 3/50\n",
            "178/178 [==============================] - 8s 45ms/step - loss: 0.0520 - accuracy: 0.9811 - val_loss: 0.0560 - val_accuracy: 0.9802\n",
            "Epoch 4/50\n",
            "178/178 [==============================] - 8s 45ms/step - loss: 0.0457 - accuracy: 0.9827 - val_loss: 0.0472 - val_accuracy: 0.9821\n",
            "Epoch 5/50\n",
            "178/178 [==============================] - 8s 45ms/step - loss: 0.0410 - accuracy: 0.9847 - val_loss: 0.0439 - val_accuracy: 0.9842\n",
            "Epoch 6/50\n",
            "178/178 [==============================] - 8s 45ms/step - loss: 0.0372 - accuracy: 0.9863 - val_loss: 0.0384 - val_accuracy: 0.9858\n",
            "Epoch 7/50\n",
            "178/178 [==============================] - 8s 46ms/step - loss: 0.0329 - accuracy: 0.9875 - val_loss: 0.0339 - val_accuracy: 0.9872\n",
            "Epoch 8/50\n",
            "178/178 [==============================] - 8s 47ms/step - loss: 0.0302 - accuracy: 0.9884 - val_loss: 0.0285 - val_accuracy: 0.9894\n",
            "Epoch 9/50\n",
            "178/178 [==============================] - 9s 52ms/step - loss: 0.0279 - accuracy: 0.9893 - val_loss: 0.0267 - val_accuracy: 0.9899\n",
            "Epoch 10/50\n",
            "178/178 [==============================] - 9s 53ms/step - loss: 0.0257 - accuracy: 0.9900 - val_loss: 0.0251 - val_accuracy: 0.9905\n",
            "Epoch 11/50\n",
            "178/178 [==============================] - 8s 46ms/step - loss: 0.0244 - accuracy: 0.9905 - val_loss: 0.0241 - val_accuracy: 0.9909\n",
            "Epoch 12/50\n",
            "178/178 [==============================] - 8s 46ms/step - loss: 0.0235 - accuracy: 0.9908 - val_loss: 0.0232 - val_accuracy: 0.9911\n",
            "Epoch 13/50\n",
            "178/178 [==============================] - 8s 47ms/step - loss: 0.0221 - accuracy: 0.9913 - val_loss: 0.0245 - val_accuracy: 0.9907\n",
            "Epoch 14/50\n",
            "178/178 [==============================] - 9s 51ms/step - loss: 0.0218 - accuracy: 0.9914 - val_loss: 0.0218 - val_accuracy: 0.9916\n",
            "Epoch 15/50\n",
            "178/178 [==============================] - 8s 47ms/step - loss: 0.0208 - accuracy: 0.9918 - val_loss: 0.0212 - val_accuracy: 0.9919\n",
            "Epoch 16/50\n",
            "178/178 [==============================] - 8s 47ms/step - loss: 0.0201 - accuracy: 0.9920 - val_loss: 0.0200 - val_accuracy: 0.9923\n",
            "Epoch 17/50\n",
            "178/178 [==============================] - 9s 50ms/step - loss: 0.0199 - accuracy: 0.9922 - val_loss: 0.0201 - val_accuracy: 0.9923\n",
            "Epoch 18/50\n",
            "178/178 [==============================] - 8s 47ms/step - loss: 0.0189 - accuracy: 0.9925 - val_loss: 0.0187 - val_accuracy: 0.9928\n",
            "Epoch 19/50\n",
            "178/178 [==============================] - 8s 48ms/step - loss: 0.0182 - accuracy: 0.9927 - val_loss: 0.0187 - val_accuracy: 0.9927\n",
            "Epoch 20/50\n",
            "178/178 [==============================] - 9s 48ms/step - loss: 0.0175 - accuracy: 0.9930 - val_loss: 0.0178 - val_accuracy: 0.9931\n",
            "Epoch 21/50\n",
            "178/178 [==============================] - 9s 50ms/step - loss: 0.0172 - accuracy: 0.9931 - val_loss: 0.0176 - val_accuracy: 0.9932\n",
            "Epoch 22/50\n",
            "178/178 [==============================] - 9s 49ms/step - loss: 0.0167 - accuracy: 0.9933 - val_loss: 0.0174 - val_accuracy: 0.9933\n",
            "Epoch 23/50\n",
            "178/178 [==============================] - 8s 47ms/step - loss: 0.0164 - accuracy: 0.9934 - val_loss: 0.0173 - val_accuracy: 0.9933\n",
            "Epoch 24/50\n",
            "178/178 [==============================] - 8s 47ms/step - loss: 0.0160 - accuracy: 0.9936 - val_loss: 0.0168 - val_accuracy: 0.9935\n",
            "Epoch 25/50\n",
            "178/178 [==============================] - 8s 47ms/step - loss: 0.0161 - accuracy: 0.9935 - val_loss: 0.0166 - val_accuracy: 0.9935\n",
            "Epoch 26/50\n",
            "178/178 [==============================] - 8s 47ms/step - loss: 0.0159 - accuracy: 0.9936 - val_loss: 0.0167 - val_accuracy: 0.9935\n",
            "Epoch 27/50\n",
            "178/178 [==============================] - 8s 47ms/step - loss: 0.0160 - accuracy: 0.9936 - val_loss: 0.0161 - val_accuracy: 0.9937\n",
            "Epoch 28/50\n",
            "178/178 [==============================] - 8s 47ms/step - loss: 0.0153 - accuracy: 0.9939 - val_loss: 0.0160 - val_accuracy: 0.9938\n",
            "Epoch 29/50\n",
            "178/178 [==============================] - 8s 47ms/step - loss: 0.0149 - accuracy: 0.9940 - val_loss: 0.0160 - val_accuracy: 0.9937\n",
            "Epoch 30/50\n",
            "178/178 [==============================] - 8s 47ms/step - loss: 0.0145 - accuracy: 0.9942 - val_loss: 0.0154 - val_accuracy: 0.9941\n",
            "Epoch 31/50\n",
            "178/178 [==============================] - 8s 47ms/step - loss: 0.0142 - accuracy: 0.9943 - val_loss: 0.0157 - val_accuracy: 0.9938\n",
            "Epoch 32/50\n",
            "178/178 [==============================] - 8s 48ms/step - loss: 0.0140 - accuracy: 0.9944 - val_loss: 0.0152 - val_accuracy: 0.9941\n",
            "Epoch 33/50\n",
            "178/178 [==============================] - 8s 47ms/step - loss: 0.0139 - accuracy: 0.9944 - val_loss: 0.0150 - val_accuracy: 0.9942\n",
            "Epoch 34/50\n",
            "178/178 [==============================] - 8s 47ms/step - loss: 0.0164 - accuracy: 0.9936 - val_loss: 0.0178 - val_accuracy: 0.9932\n",
            "Epoch 35/50\n",
            "178/178 [==============================] - 8s 47ms/step - loss: 0.0498 - accuracy: 0.9847 - val_loss: 0.0378 - val_accuracy: 0.9862\n",
            "Epoch 36/50\n",
            "178/178 [==============================] - 8s 47ms/step - loss: 0.0255 - accuracy: 0.9903 - val_loss: 0.0212 - val_accuracy: 0.9918\n",
            "Epoch 37/50\n",
            "178/178 [==============================] - 8s 47ms/step - loss: 0.0200 - accuracy: 0.9922 - val_loss: 0.0186 - val_accuracy: 0.9929\n",
            "Epoch 38/50\n",
            "178/178 [==============================] - 8s 47ms/step - loss: 0.0180 - accuracy: 0.9930 - val_loss: 0.0177 - val_accuracy: 0.9932\n",
            "Epoch 39/50\n",
            "178/178 [==============================] - 8s 47ms/step - loss: 0.0170 - accuracy: 0.9933 - val_loss: 0.0169 - val_accuracy: 0.9935\n",
            "Epoch 40/50\n",
            "178/178 [==============================] - 8s 48ms/step - loss: 0.0171 - accuracy: 0.9933 - val_loss: 0.0170 - val_accuracy: 0.9935\n",
            "Epoch 41/50\n",
            "178/178 [==============================] - 8s 47ms/step - loss: 0.0157 - accuracy: 0.9938 - val_loss: 0.0163 - val_accuracy: 0.9938\n",
            "Epoch 42/50\n",
            "178/178 [==============================] - 8s 47ms/step - loss: 0.0152 - accuracy: 0.9940 - val_loss: 0.0156 - val_accuracy: 0.9940\n",
            "Epoch 43/50\n",
            "178/178 [==============================] - 8s 47ms/step - loss: 0.0149 - accuracy: 0.9941 - val_loss: 0.0157 - val_accuracy: 0.9940\n",
            "Epoch 44/50\n",
            "178/178 [==============================] - 8s 47ms/step - loss: 0.0146 - accuracy: 0.9942 - val_loss: 0.0153 - val_accuracy: 0.9942\n",
            "Epoch 45/50\n",
            "178/178 [==============================] - 8s 47ms/step - loss: 0.0144 - accuracy: 0.9943 - val_loss: 0.0152 - val_accuracy: 0.9942\n",
            "Epoch 46/50\n",
            "178/178 [==============================] - 8s 47ms/step - loss: 0.0140 - accuracy: 0.9944 - val_loss: 0.0150 - val_accuracy: 0.9943\n",
            "Epoch 47/50\n",
            "178/178 [==============================] - 8s 47ms/step - loss: 0.0139 - accuracy: 0.9945 - val_loss: 0.0150 - val_accuracy: 0.9943\n",
            "Epoch 48/50\n",
            "178/178 [==============================] - 8s 47ms/step - loss: 0.0137 - accuracy: 0.9946 - val_loss: 0.0148 - val_accuracy: 0.9944\n",
            "Epoch 49/50\n",
            "178/178 [==============================] - 8s 47ms/step - loss: 0.0136 - accuracy: 0.9946 - val_loss: 0.0148 - val_accuracy: 0.9944\n",
            "Epoch 50/50\n",
            "178/178 [==============================] - 8s 47ms/step - loss: 0.0141 - accuracy: 0.9944 - val_loss: 0.0151 - val_accuracy: 0.9943\n"
          ]
        }
      ]
    },
    {
      "cell_type": "code",
      "source": [
        "#Evaluate the model\n",
        "\t# evaluate model\n",
        "_, acc = model.evaluate(X_test, y_test_cat)\n",
        "print(\"Accuracy is = \", (acc * 100.0), \"%\")\n",
        "\n",
        "\n",
        "###\n",
        "#plot the training and validation accuracy and loss at each epoch\n",
        "loss = history.history['loss']\n",
        "val_loss = history.history['val_loss']\n",
        "epochs = range(1, len(loss) + 1)\n",
        "plt.plot(epochs, loss, 'y', label='Training loss')\n",
        "plt.plot(epochs, val_loss, 'r', label='Validation loss')\n",
        "plt.title('Training and validation loss')\n",
        "plt.xlabel('Epochs')\n",
        "plt.ylabel('Loss')\n",
        "plt.legend()\n",
        "plt.show()\n",
        "\n",
        "acc = history.history['accuracy']\n",
        "val_acc = history.history['val_accuracy']\n",
        "\n",
        "plt.plot(epochs, acc, 'y', label='Training Accuracy')\n",
        "plt.plot(epochs, val_acc, 'r', label='Validation Accuracy')\n",
        "plt.title('Training and validation Accuracy')\n",
        "plt.xlabel('Epochs')\n",
        "plt.ylabel('Accuracy')\n",
        "plt.legend()\n",
        "plt.show()\n",
        "\n",
        "\n",
        "##################################\n",
        "#model = get_model()\n",
        "model.load_weights('unet_50_epochs_catXentropy_acc.hdf5')\n",
        "#IOU\n",
        "y_pred=model.predict(X_test)\n",
        "y_pred_argmax=np.argmax(y_pred, axis=3)\n",
        "\n",
        "##################################################\n",
        "\n",
        "#Using built in keras function\n",
        "from keras.metrics import MeanIoU\n",
        "n_classes = 3\n",
        "IOU_keras = MeanIoU(num_classes=n_classes)  \n",
        "IOU_keras.update_state(y_test[:,:,:,0], y_pred_argmax)\n",
        "print(\"Mean IoU =\", IOU_keras.result().numpy())\n",
        "\n",
        "\n",
        "#To calculate I0U for each class...\n",
        "values = np.array(IOU_keras.get_weights()).reshape(n_classes, n_classes)\n",
        "print(values)\n",
        "class1_IoU = values[0,0]/(values[0,0] + values[0,1] + values[0,2] + values[1,0]+ values[2,0])\n",
        "class2_IoU = values[1,1]/(values[1,1] + values[1,0] + values[1,2] + values[0,1]+ values[2,1])\n",
        "class3_IoU = values[2,2]/(values[2,2] + values[2,0] + values[2,1] + values[0,2]+ values[1,2])\n",
        "\n",
        "print(\"IoU for class1 is: \", class1_IoU)\n",
        "print(\"IoU for class2 is: \", class2_IoU)\n",
        "print(\"IoU for class3 is: \", class3_IoU)\n",
        "\n",
        "plt.imshow(train_images[0, :,:,0], cmap='gray')\n",
        "plt.imshow(train_masks[0], cmap='gray')\n",
        "#######################################################################"
      ],
      "metadata": {
        "id": "Ws5gVOSbFXlZ",
        "colab": {
          "base_uri": "https://localhost:8080/",
          "height": 1000
        },
        "outputId": "9382ed75-86f6-43ce-d145-a06ac3216300"
      },
      "execution_count": 9,
      "outputs": [
        {
          "output_type": "stream",
          "name": "stdout",
          "text": [
            "23/23 [==============================] - 1s 26ms/step - loss: 0.0151 - accuracy: 0.9943\n",
            "Accuracy is =  99.42549467086792 %\n"
          ]
        },
        {
          "output_type": "display_data",
          "data": {
            "text/plain": [
              "<Figure size 432x288 with 1 Axes>"
            ],
            "image/png": "[encoded data removed]"
          },
          "metadata": {
            "needs_background": "light"
          }
        },
        {
          "output_type": "display_data",
          "data": {
            "text/plain": [
              "<Figure size 432x288 with 1 Axes>"
            ],
            "image/png": "[encoded data removed]"
          },
          "metadata": {
            "needs_background": "light"
          }
        },
        {
          "output_type": "stream",
          "name": "stdout",
          "text": [
            "23/23 [==============================] - 1s 21ms/step\n",
            "Mean IoU = 0.88859814\n",
            "[[9.913676e+06 2.738000e+03 1.006000e+03]\n",
            " [8.682000e+03 1.515430e+05 3.234700e+04]\n",
            " [1.748000e+03 2.040300e+04 1.516881e+06]]\n",
            "IoU for class1 is:  0.9985723\n",
            "IoU for class2 is:  0.7025214\n",
            "IoU for class3 is:  0.96470076\n"
          ]
        },
        {
          "output_type": "execute_result",
          "data": {
            "text/plain": [
              "<matplotlib.image.AxesImage at 0x7fe86c57b520>"
            ]
          },
          "metadata": {},
          "execution_count": 9
        },
        {
          "output_type": "display_data",
          "data": {
            "text/plain": [
              "<Figure size 432x288 with 1 Axes>"
            ],
            "image/png": "[encoded data removed]"
          },
          "metadata": {
            "needs_background": "light"
          }
        }
      ]
    },
    {
      "cell_type": "code",
      "source": [
        "def weight_perturbation(model):\n",
        "    for layer in model.layers:\n",
        "        trainable_weights = layer.trainable_variables\n",
        "\n",
        "        for weight in trainable_weights :\n",
        "            perturb_weights = weight+weight % 0.01   ###[-0.01, -0.001, 0.001, 0.01]\n",
        "            weight.assign_add(perturb_weights)"
      ],
      "metadata": {
        "id": "N-eq4YZiFrM6"
      },
      "execution_count": 32,
      "outputs": []
    },
    {
      "cell_type": "code",
      "source": [
        "#######################################################################\n",
        "#Predict on a few images\n",
        "model = get_model()\n",
        "model.load_weights('unet_50_epochs_catXentropy_acc.hdf5')\n",
        "weight_perturbation(model)\n",
        "test_img_number = random.randint(0, len(X_test))\n",
        "test_img = X_test[test_img_number]\n",
        "ground_truth=y_test[test_img_number]\n",
        "test_img_norm=test_img[:,:,0][:,:,None]\n",
        "test_img_input=np.expand_dims(test_img_norm, 0)\n",
        "prediction = (model.predict(test_img_input))\n",
        "predicted_img=np.argmax(prediction, axis=3)[0,:,:]\n",
        "\n",
        "plt.figure(figsize=(12, 8))\n",
        "plt.subplot(231)\n",
        "plt.title('Testing Image')\n",
        "plt.imshow(test_img[:,:,0], cmap='gray')\n",
        "plt.subplot(232)\n",
        "plt.title('Testing Label')\n",
        "plt.imshow(ground_truth[:,:,0], cmap='jet')\n",
        "plt.subplot(233)\n",
        "plt.title('Prediction on test image')\n",
        "plt.imshow(predicted_img, cmap='jet')\n",
        "plt.show()"
      ],
      "metadata": {
        "id": "6bp8SyIeJsjZ",
        "colab": {
          "base_uri": "https://localhost:8080/",
          "height": 1000
        },
        "outputId": "e0b8b055-1bf1-4221-b73b-78a54bc729ea"
      },
      "execution_count": 33,
      "outputs": [
        {
          "output_type": "stream",
          "name": "stdout",
          "text": [
            "Model: \"model_3\"\n",
            "__________________________________________________________________________________________________\n",
            " Layer (type)                   Output Shape         Param #     Connected to                     \n",
            "==================================================================================================\n",
            " input_4 (InputLayer)           [(None, 128, 128, 1  0           []                               \n",
            "                                )]                                                                \n",
            "                                                                                                  \n",
            " conv2d_57 (Conv2D)             (None, 128, 128, 16  160         ['input_4[0][0]']                \n",
            "                                )                                                                 \n",
            "                                                                                                  \n",
            " dropout_27 (Dropout)           (None, 128, 128, 16  0           ['conv2d_57[0][0]']              \n",
            "                                )                                                                 \n",
            "                                                                                                  \n",
            " conv2d_58 (Conv2D)             (None, 128, 128, 16  2320        ['dropout_27[0][0]']             \n",
            "                                )                                                                 \n",
            "                                                                                                  \n",
            " max_pooling2d_12 (MaxPooling2D  (None, 64, 64, 16)  0           ['conv2d_58[0][0]']              \n",
            " )                                                                                                \n",
            "                                                                                                  \n",
            " conv2d_59 (Conv2D)             (None, 64, 64, 32)   4640        ['max_pooling2d_12[0][0]']       \n",
            "                                                                                                  \n",
            " dropout_28 (Dropout)           (None, 64, 64, 32)   0           ['conv2d_59[0][0]']              \n",
            "                                                                                                  \n",
            " conv2d_60 (Conv2D)             (None, 64, 64, 32)   9248        ['dropout_28[0][0]']             \n",
            "                                                                                                  \n",
            " max_pooling2d_13 (MaxPooling2D  (None, 32, 32, 32)  0           ['conv2d_60[0][0]']              \n",
            " )                                                                                                \n",
            "                                                                                                  \n",
            " conv2d_61 (Conv2D)             (None, 32, 32, 64)   18496       ['max_pooling2d_13[0][0]']       \n",
            "                                                                                                  \n",
            " dropout_29 (Dropout)           (None, 32, 32, 64)   0           ['conv2d_61[0][0]']              \n",
            "                                                                                                  \n",
            " conv2d_62 (Conv2D)             (None, 32, 32, 64)   36928       ['dropout_29[0][0]']             \n",
            "                                                                                                  \n",
            " max_pooling2d_14 (MaxPooling2D  (None, 16, 16, 64)  0           ['conv2d_62[0][0]']              \n",
            " )                                                                                                \n",
            "                                                                                                  \n",
            " conv2d_63 (Conv2D)             (None, 16, 16, 128)  73856       ['max_pooling2d_14[0][0]']       \n",
            "                                                                                                  \n",
            " dropout_30 (Dropout)           (None, 16, 16, 128)  0           ['conv2d_63[0][0]']              \n",
            "                                                                                                  \n",
            " conv2d_64 (Conv2D)             (None, 16, 16, 128)  147584      ['dropout_30[0][0]']             \n",
            "                                                                                                  \n",
            " max_pooling2d_15 (MaxPooling2D  (None, 8, 8, 128)   0           ['conv2d_64[0][0]']              \n",
            " )                                                                                                \n",
            "                                                                                                  \n",
            " conv2d_65 (Conv2D)             (None, 8, 8, 256)    295168      ['max_pooling2d_15[0][0]']       \n",
            "                                                                                                  \n",
            " dropout_31 (Dropout)           (None, 8, 8, 256)    0           ['conv2d_65[0][0]']              \n",
            "                                                                                                  \n",
            " conv2d_66 (Conv2D)             (None, 8, 8, 256)    590080      ['dropout_31[0][0]']             \n",
            "                                                                                                  \n",
            " conv2d_transpose_12 (Conv2DTra  (None, 16, 16, 128)  131200     ['conv2d_66[0][0]']              \n",
            " nspose)                                                                                          \n",
            "                                                                                                  \n",
            " concatenate_12 (Concatenate)   (None, 16, 16, 256)  0           ['conv2d_transpose_12[0][0]',    \n",
            "                                                                  'conv2d_64[0][0]']              \n",
            "                                                                                                  \n",
            " conv2d_67 (Conv2D)             (None, 16, 16, 128)  295040      ['concatenate_12[0][0]']         \n",
            "                                                                                                  \n",
            " dropout_32 (Dropout)           (None, 16, 16, 128)  0           ['conv2d_67[0][0]']              \n",
            "                                                                                                  \n",
            " conv2d_68 (Conv2D)             (None, 16, 16, 128)  147584      ['dropout_32[0][0]']             \n",
            "                                                                                                  \n",
            " conv2d_transpose_13 (Conv2DTra  (None, 32, 32, 64)  32832       ['conv2d_68[0][0]']              \n",
            " nspose)                                                                                          \n",
            "                                                                                                  \n",
            " concatenate_13 (Concatenate)   (None, 32, 32, 128)  0           ['conv2d_transpose_13[0][0]',    \n",
            "                                                                  'conv2d_62[0][0]']              \n",
            "                                                                                                  \n",
            " conv2d_69 (Conv2D)             (None, 32, 32, 64)   73792       ['concatenate_13[0][0]']         \n",
            "                                                                                                  \n",
            " dropout_33 (Dropout)           (None, 32, 32, 64)   0           ['conv2d_69[0][0]']              \n",
            "                                                                                                  \n",
            " conv2d_70 (Conv2D)             (None, 32, 32, 64)   36928       ['dropout_33[0][0]']             \n",
            "                                                                                                  \n",
            " conv2d_transpose_14 (Conv2DTra  (None, 64, 64, 32)  8224        ['conv2d_70[0][0]']              \n",
            " nspose)                                                                                          \n",
            "                                                                                                  \n",
            " concatenate_14 (Concatenate)   (None, 64, 64, 64)   0           ['conv2d_transpose_14[0][0]',    \n",
            "                                                                  'conv2d_60[0][0]']              \n",
            "                                                                                                  \n",
            " conv2d_71 (Conv2D)             (None, 64, 64, 32)   18464       ['concatenate_14[0][0]']         \n",
            "                                                                                                  \n",
            " dropout_34 (Dropout)           (None, 64, 64, 32)   0           ['conv2d_71[0][0]']              \n",
            "                                                                                                  \n",
            " conv2d_72 (Conv2D)             (None, 64, 64, 32)   9248        ['dropout_34[0][0]']             \n",
            "                                                                                                  \n",
            " conv2d_transpose_15 (Conv2DTra  (None, 128, 128, 16  2064       ['conv2d_72[0][0]']              \n",
            " nspose)                        )                                                                 \n",
            "                                                                                                  \n",
            " concatenate_15 (Concatenate)   (None, 128, 128, 32  0           ['conv2d_transpose_15[0][0]',    \n",
            "                                )                                 'conv2d_58[0][0]']              \n",
            "                                                                                                  \n",
            " conv2d_73 (Conv2D)             (None, 128, 128, 16  4624        ['concatenate_15[0][0]']         \n",
            "                                )                                                                 \n",
            "                                                                                                  \n",
            " dropout_35 (Dropout)           (None, 128, 128, 16  0           ['conv2d_73[0][0]']              \n",
            "                                )                                                                 \n",
            "                                                                                                  \n",
            " conv2d_74 (Conv2D)             (None, 128, 128, 16  2320        ['dropout_35[0][0]']             \n",
            "                                )                                                                 \n",
            "                                                                                                  \n",
            " conv2d_75 (Conv2D)             (None, 128, 128, 3)  51          ['conv2d_74[0][0]']              \n",
            "                                                                                                  \n",
            "==================================================================================================\n",
            "Total params: 1,940,851\n",
            "Trainable params: 1,940,851\n",
            "Non-trainable params: 0\n",
            "__________________________________________________________________________________________________\n",
            "1/1 [==============================] - 0s 246ms/step\n"
          ]
        },
        {
          "output_type": "display_data",
          "data": {
            "text/plain": [
              "<Figure size 864x576 with 3 Axes>"
            ],
            "image/png": "[encoded data removed]"
          },
          "metadata": {
            "needs_background": "light"
          }
        }
      ]
    },
    {
      "cell_type": "code",
      "source": [
        "def weight_perturbation(model):\n",
        "    for layer in model.layers:\n",
        "        trainable_weights = layer.trainable_variables\n",
        "\n",
        "        for weight in trainable_weights :\n",
        "            perturb_weights = weight+weight % 0.01   ###[-0.01, -0.001, 0.001, 0.01]\n",
        "            weight.assign_add(perturb_weights)"
      ],
      "metadata": {
        "id": "esvUfm4FGxBe"
      },
      "execution_count": 34,
      "outputs": []
    },
    {
      "cell_type": "code",
      "source": [
        "#model = get_model()\n",
        "model.load_weights('unet_50_epochs_catXentropy_acc.hdf5')\n",
        "weight_perturbation(model)\n",
        "#IOU\n",
        "y_pred=model.predict(X_test)\n",
        "y_pred_argmax=np.argmax(y_pred, axis=3)\n",
        "\n",
        "##################################################\n",
        "\n",
        "#Using built in keras function\n",
        "from keras.metrics import MeanIoU\n",
        "n_classes = 3\n",
        "IOU_keras = MeanIoU(num_classes=n_classes)  \n",
        "IOU_keras.update_state(y_test[:,:,:,0], y_pred_argmax)\n",
        "print(\"Mean IoU =\", IOU_keras.result().numpy())\n",
        "\n",
        "\n",
        "#To calculate I0U for each class...\n",
        "values = np.array(IOU_keras.get_weights()).reshape(n_classes, n_classes)\n",
        "print(values)\n",
        "class1_IoU = values[0,0]/(values[0,0] + values[0,1] + values[0,2] + values[1,0]+ values[2,0])\n",
        "class2_IoU = values[1,1]/(values[1,1] + values[1,0] + values[1,2] + values[0,1]+ values[2,1])\n",
        "class3_IoU = values[2,2]/(values[2,2] + values[2,0] + values[2,1] + values[0,2]+ values[1,2])\n",
        "\n",
        "print(\"IoU for class1 is: \", class1_IoU)\n",
        "print(\"IoU for class2 is: \", class2_IoU)\n",
        "print(\"IoU for class3 is: \", class3_IoU)\n",
        "\n",
        "plt.imshow(train_images[0, :,:,0], cmap='gray')\n",
        "plt.imshow(train_masks[0], cmap='gray')\n",
        "#######################################################################"
      ],
      "metadata": {
        "colab": {
          "base_uri": "https://localhost:8080/",
          "height": 432
        },
        "id": "_8QN7CPQDxCv",
        "outputId": "75ea8cbb-c886-4a48-bca2-7d1a743d0d96"
      },
      "execution_count": 35,
      "outputs": [
        {
          "output_type": "stream",
          "name": "stdout",
          "text": [
            "23/23 [==============================] - 1s 25ms/step\n",
            "Mean IoU = 0.07039385\n",
            "[[3.980060e+05 9.710710e+05 8.548343e+06]\n",
            " [4.943000e+03 3.594100e+04 1.516880e+05]\n",
            " [5.309000e+03 7.823800e+04 1.455485e+06]]\n",
            "IoU for class1 is:  0.04009057\n",
            "IoU for class2 is:  0.028940776\n",
            "IoU for class3 is:  0.14215021\n"
          ]
        },
        {
          "output_type": "execute_result",
          "data": {
            "text/plain": [
              "<matplotlib.image.AxesImage at 0x7fe882057fd0>"
            ]
          },
          "metadata": {},
          "execution_count": 35
        },
        {
          "output_type": "display_data",
          "data": {
            "text/plain": [
              "<Figure size 432x288 with 1 Axes>"
            ],
            "image/png": "[encoded data removed]"
          },
          "metadata": {
            "needs_background": "light"
          }
        }
      ]
    }
  ]
}